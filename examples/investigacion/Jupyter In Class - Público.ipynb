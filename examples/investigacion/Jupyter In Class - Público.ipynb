{
 "cells": [
  {
   "cell_type": "markdown",
   "metadata": {
    "slideshow": {
     "slide_type": "slide"
    }
   },
   "source": [
    "# Framework Basado en Open Source para Materias de Ciencias Exactas"
   ]
  },
  {
   "cell_type": "markdown",
   "metadata": {
    "slideshow": {
     "slide_type": "slide"
    }
   },
   "source": [
    "## Algunas de las herramientas\n",
    "\n",
    "- Jupyter\n",
    "- Python\n",
    "- LaTeX\n",
    "- nbflow\n",
    "- matplotlib\n",
    "- bqplot\n",
    "- scipy\n",
    "- etc..."
   ]
  },
  {
   "cell_type": "markdown",
   "metadata": {
    "slideshow": {
     "slide_type": "slide"
    }
   },
   "source": [
    "## ¿Por qué LaTeX?"
   ]
  },
  {
   "cell_type": "markdown",
   "metadata": {
    "slideshow": {
     "slide_type": "subslide"
    }
   },
   "source": [
    "x^2\n",
    "\n",
    "$x^2$"
   ]
  },
  {
   "cell_type": "markdown",
   "metadata": {
    "slideshow": {
     "slide_type": "subslide"
    }
   },
   "source": [
    "1 / sqrt(2 \\* pi \\* sigma \\*\\* 2) \\* exp(-(x- mu)\\*\\* 2 / (x \\* sigma \\*\\* 2)\n",
    "                                         \n",
    "$$\\frac {1}{\\sqrt {2\\pi \\sigma ^{2}}}e^{-{\\frac{(x- \\mu)^{2}}{2\\sigma ^2}}}$$"
   ]
  },
  {
   "cell_type": "markdown",
   "metadata": {
    "slideshow": {
     "slide_type": "slide"
    }
   },
   "source": [
    "## ¿Por qué Python?"
   ]
  },
  {
   "cell_type": "markdown",
   "metadata": {
    "slideshow": {
     "slide_type": "subslide"
    }
   },
   "source": [
    "<img src=\"./scipy_ecosystem.png\" alt=\"Drawing\" style=\"width: 1000px; height=1000px;\" align=\"middle\"/>"
   ]
  },
  {
   "cell_type": "markdown",
   "metadata": {
    "slideshow": {
     "slide_type": "slide"
    }
   },
   "source": [
    "## ¿Por qué Jupyter?"
   ]
  },
  {
   "cell_type": "markdown",
   "metadata": {
    "slideshow": {
     "slide_type": "subslide"
    }
   },
   "source": [
    "$$\\int_{0}^{\\infty} \\frac{\\sin(x)}{x}dx = \\frac{\\pi}{4} $$"
   ]
  },
  {
   "cell_type": "markdown",
   "metadata": {
    "slideshow": {
     "slide_type": "fragment"
    }
   },
   "source": [
    "**¡¡¡Pero eso tiene un error!!!**"
   ]
  },
  {
   "cell_type": "markdown",
   "metadata": {
    "slideshow": {
     "slide_type": "slide"
    }
   },
   "source": [
    "# Demo"
   ]
  },
  {
   "cell_type": "markdown",
   "metadata": {
    "slideshow": {
     "slide_type": "skip"
    }
   },
   "source": [
    "## Inicialiación"
   ]
  },
  {
   "cell_type": "code",
   "execution_count": 1,
   "metadata": {
    "ExecuteTime": {
     "end_time": "2018-04-18T15:00:32.298623Z",
     "start_time": "2018-04-18T15:00:32.278622Z"
    },
    "slideshow": {
     "slide_type": "skip"
    }
   },
   "outputs": [],
   "source": [
    "import matplotlib.pyplot as plt\n",
    "from ipywidgets import interact\n",
    "import numpy as np\n",
    "from matplotlib import animation, rc\n",
    "from matplotlib import style\n",
    "import pandas as pd\n",
    "import os\n",
    "import math\n",
    "import time\n",
    "import datetime\n",
    "from statistics import mean\n",
    "from sklearn import preprocessing, model_selection, svm\n",
    "from sklearn.linear_model import LinearRegression\n",
    "from bqplot import pyplot as bplt\n",
    "import matplotlib.lines as mlines\n",
    "from matplotlib.collections import LineCollection\n",
    "from scipy.integrate import odeint\n",
    "import scipy.integrate as integrate\n",
    "import sympy as sy\n",
    "from sympy.functions import sin,cos\n",
    "from matplotlib.patches import Polygon\n",
    "from collections import Counter\n",
    "\n",
    "# Jupyter Specifics\n",
    "import matplotlib as mpl\n",
    "from IPython.display import HTML\n",
    "from ipywidgets.widgets import interact, IntSlider, FloatSlider, Layout\n",
    "\n",
    "plt.style.use('bmh')\n",
    "\n",
    "%matplotlib inline\n",
    "\n",
    "rc('animation', html='html5')"
   ]
  },
  {
   "cell_type": "code",
   "execution_count": 2,
   "metadata": {
    "slideshow": {
     "slide_type": "skip"
    }
   },
   "outputs": [],
   "source": [
    "mpl.rcParams['figure.figsize'] = (20.0, 6.0)"
   ]
  },
  {
   "cell_type": "markdown",
   "metadata": {
    "slideshow": {
     "slide_type": "slide"
    }
   },
   "source": [
    "## Analisis 1"
   ]
  },
  {
   "cell_type": "code",
   "execution_count": 3,
   "metadata": {
    "ExecuteTime": {
     "end_time": "2018-04-18T15:00:33.966723Z",
     "start_time": "2018-04-18T15:00:33.652701Z"
    },
    "slideshow": {
     "slide_type": "skip"
    }
   },
   "outputs": [],
   "source": [
    "def f(a, b, c):\n",
    "    x = np.linspace(-5,5,100)\n",
    "    y = a*x**2+b*x+c\n",
    "    plt.title(\"Expresion: $ax^2 + bx + c$ \\n a = {}, b = {}, c = {}\".format(a,b,c))\n",
    "    plt.ylim(-10,10)\n",
    "    plt.xlim(-5,5)\n",
    "    plt.grid(color='grey', linewidth=0.5)\n",
    "    plt.plot(x, y)"
   ]
  },
  {
   "cell_type": "code",
   "execution_count": 4,
   "metadata": {
    "slideshow": {
     "slide_type": "subslide"
    }
   },
   "outputs": [
    {
     "data": {
      "application/vnd.jupyter.widget-view+json": {
       "model_id": "411a75072fad4fb79a6fc2131a5d7fae",
       "version_major": 2,
       "version_minor": 0
      },
      "text/html": [
       "<p>Failed to display Jupyter Widget of type <code>interactive</code>.</p>\n",
       "<p>\n",
       "  If you're reading this message in the Jupyter Notebook or JupyterLab Notebook, it may mean\n",
       "  that the widgets JavaScript is still loading. If this message persists, it\n",
       "  likely means that the widgets JavaScript library is either not installed or\n",
       "  not enabled. See the <a href=\"https://ipywidgets.readthedocs.io/en/stable/user_install.html\">Jupyter\n",
       "  Widgets Documentation</a> for setup instructions.\n",
       "</p>\n",
       "<p>\n",
       "  If you're reading this message in another frontend (for example, a static\n",
       "  rendering on GitHub or <a href=\"https://nbviewer.jupyter.org/\">NBViewer</a>),\n",
       "  it may mean that your frontend doesn't currently support widgets.\n",
       "</p>\n"
      ],
      "text/plain": [
       "interactive(children=(FloatSlider(value=1.0, description='a', layout=Layout(width='99%'), max=6.0, min=-5.0, step=0.25), FloatSlider(value=0.0, description='b', layout=Layout(width='99%'), max=6.0, min=-5.0, step=1.0), FloatSlider(value=1.0, description='c', layout=Layout(width='99%'), max=6.0, min=-5.0, step=1.0), Output()), _dom_classes=('widget-interact',))"
      ]
     },
     "metadata": {},
     "output_type": "display_data"
    }
   ],
   "source": [
    "interactive_f = interact(f,\n",
    "         a=FloatSlider(min=-5, max=6, step=0.25, value=1, layout=Layout(width='99%')), \n",
    "         b=FloatSlider(min=-5, max=6, step=1, value=0, layout=Layout(width='99%')),\n",
    "         c=FloatSlider(min=-5, max=6, step=1, value=1, layout=Layout(width='99%')),);"
   ]
  },
  {
   "cell_type": "code",
   "execution_count": 5,
   "metadata": {
    "ExecuteTime": {
     "end_time": "2018-04-18T15:00:41.968176Z",
     "start_time": "2018-04-18T15:00:41.653163Z"
    },
    "scrolled": false,
    "slideshow": {
     "slide_type": "skip"
    }
   },
   "outputs": [],
   "source": [
    "def f2(a, b, c):\n",
    "    x = np.linspace(-5,5,1000)\n",
    "    y = (a*x+b)**2+c\n",
    "    plt.title(\"Expresion: $(ax+b)^2 + c$ \\n a = {}, b = {}, c = {}\".format(a,b,c))\n",
    "    plt.ylim(-1,20)\n",
    "    plt.xlim(-5,5)\n",
    "    plt.grid(color='grey', linewidth=0.5)\n",
    "    plt.plot(x, y)"
   ]
  },
  {
   "cell_type": "code",
   "execution_count": 6,
   "metadata": {
    "slideshow": {
     "slide_type": "subslide"
    }
   },
   "outputs": [
    {
     "data": {
      "application/vnd.jupyter.widget-view+json": {
       "model_id": "194dd00c35a84b93bc07015fb56e6f3a",
       "version_major": 2,
       "version_minor": 0
      },
      "text/html": [
       "<p>Failed to display Jupyter Widget of type <code>interactive</code>.</p>\n",
       "<p>\n",
       "  If you're reading this message in the Jupyter Notebook or JupyterLab Notebook, it may mean\n",
       "  that the widgets JavaScript is still loading. If this message persists, it\n",
       "  likely means that the widgets JavaScript library is either not installed or\n",
       "  not enabled. See the <a href=\"https://ipywidgets.readthedocs.io/en/stable/user_install.html\">Jupyter\n",
       "  Widgets Documentation</a> for setup instructions.\n",
       "</p>\n",
       "<p>\n",
       "  If you're reading this message in another frontend (for example, a static\n",
       "  rendering on GitHub or <a href=\"https://nbviewer.jupyter.org/\">NBViewer</a>),\n",
       "  it may mean that your frontend doesn't currently support widgets.\n",
       "</p>\n"
      ],
      "text/plain": [
       "interactive(children=(FloatSlider(value=1.0, description='a', layout=Layout(width='99%'), max=6.0, min=-5.0, step=0.25), FloatSlider(value=0.0, description='b', layout=Layout(width='99%'), max=6.0, min=-5.0, step=1.0), FloatSlider(value=1.0, description='c', layout=Layout(width='99%'), max=6.0, min=-5.0, step=1.0), Output()), _dom_classes=('widget-interact',))"
      ]
     },
     "metadata": {},
     "output_type": "display_data"
    }
   ],
   "source": [
    "interact(f2, \n",
    "         a=FloatSlider(min=-5, max=6, step=0.25, value=1, layout=Layout(width='99%')), \n",
    "         b=FloatSlider(min=-5, max=6, step=1, value=0, layout=Layout(width='99%')),\n",
    "         c=FloatSlider(min=-5, max=6, step=1, value=1, layout=Layout(width='99%')),);"
   ]
  },
  {
   "cell_type": "code",
   "execution_count": 7,
   "metadata": {
    "ExecuteTime": {
     "end_time": "2018-04-18T15:01:00.506238Z",
     "start_time": "2018-04-18T15:01:00.001210Z"
    },
    "slideshow": {
     "slide_type": "skip"
    }
   },
   "outputs": [],
   "source": [
    "def func(x):\n",
    "    return (x - 3) * (x - 5) * (x - 7) + 85\n",
    "\n",
    "\n",
    "def f3(a, b):\n",
    "    x = np.linspace(0, 10)\n",
    "    y = func(x)\n",
    "\n",
    "    fig, ax = plt.subplots()\n",
    "    plt.plot(x, y, linewidth=2)\n",
    "    plt.ylim(ymin=0)\n",
    "\n",
    "    # Make the shaded region\n",
    "    ix = np.linspace(a, b)\n",
    "    iy = func(ix)\n",
    "    verts = [(a, 0)] + list(zip(ix, iy)) + [(b, 0)]\n",
    "    poly = Polygon(verts, facecolor='0.9', edgecolor='0.5')\n",
    "    ax.add_patch(poly)\n",
    "\n",
    "    plt.text(0.5 * (a + b), 30, r\"$\\int_a^b f(x)\\mathrm{d}x$\",\n",
    "             horizontalalignment='center', fontsize=20)\n",
    "\n",
    "    ax.set_xticks((a, b))\n",
    "    ax.set_xticklabels(('$a$', '$b$'))\n",
    "\n",
    "    inte = int(integrate.quad(func, a, b)[0])\n",
    "    plt.title(\"Expressión: $(x - 3)(x - 5)(x - 7) + 85$ \" + \"--- $a = {}, b= {}$ ---\".format(a, b) +\n",
    "              \" $\\int_a^b f(x)\\mathrm{d}x\" + \" = {0}$\".format(inte))\n",
    "    plt.show()"
   ]
  },
  {
   "cell_type": "code",
   "execution_count": 8,
   "metadata": {
    "slideshow": {
     "slide_type": "subslide"
    }
   },
   "outputs": [
    {
     "data": {
      "application/vnd.jupyter.widget-view+json": {
       "model_id": "d6a2caf4c03c4d49b5d266876acc12fd",
       "version_major": 2,
       "version_minor": 0
      },
      "text/html": [
       "<p>Failed to display Jupyter Widget of type <code>interactive</code>.</p>\n",
       "<p>\n",
       "  If you're reading this message in the Jupyter Notebook or JupyterLab Notebook, it may mean\n",
       "  that the widgets JavaScript is still loading. If this message persists, it\n",
       "  likely means that the widgets JavaScript library is either not installed or\n",
       "  not enabled. See the <a href=\"https://ipywidgets.readthedocs.io/en/stable/user_install.html\">Jupyter\n",
       "  Widgets Documentation</a> for setup instructions.\n",
       "</p>\n",
       "<p>\n",
       "  If you're reading this message in another frontend (for example, a static\n",
       "  rendering on GitHub or <a href=\"https://nbviewer.jupyter.org/\">NBViewer</a>),\n",
       "  it may mean that your frontend doesn't currently support widgets.\n",
       "</p>\n"
      ],
      "text/plain": [
       "interactive(children=(FloatSlider(value=2.0, description='a', layout=Layout(width='99%'), max=10.0, min=-5.0, step=0.25), FloatSlider(value=9.0, description='b', layout=Layout(width='99%'), max=10.0, min=-5.0, step=0.25), Output()), _dom_classes=('widget-interact',))"
      ]
     },
     "metadata": {},
     "output_type": "display_data"
    }
   ],
   "source": [
    "interact(f3, \n",
    "         a=FloatSlider(min=-5, max=10, step=0.25, value=2, layout=Layout(width='99%')), \n",
    "         b=FloatSlider(min=-5, max=10, step=0.25, value=9, layout=Layout(width='99%')));"
   ]
  },
  {
   "cell_type": "code",
   "execution_count": 9,
   "metadata": {
    "ExecuteTime": {
     "end_time": "2018-04-18T15:01:10.006782Z",
     "start_time": "2018-04-18T15:01:09.978780Z"
    },
    "slideshow": {
     "slide_type": "skip"
    }
   },
   "outputs": [],
   "source": [
    "# Factorial function\n",
    "def factorial(n):\n",
    "    if n <= 0:\n",
    "        return 1\n",
    "    else:\n",
    "        return n*factorial(n-1)\n",
    "\n",
    "# Taylor approximation at x0 of the function 'function'\n",
    "def taylor(function,x0,n):\n",
    "    i = 0\n",
    "    p = 0\n",
    "    while i <= n:\n",
    "        p = p + (function.diff(x,i).subs(x,x0))/(factorial(i))*(x-x0)**i\n",
    "        i += 1\n",
    "    return p"
   ]
  },
  {
   "cell_type": "code",
   "execution_count": 10,
   "metadata": {
    "ExecuteTime": {
     "end_time": "2018-04-18T15:11:46.223979Z",
     "start_time": "2018-04-18T15:11:45.851958Z"
    },
    "slideshow": {
     "slide_type": "skip"
    }
   },
   "outputs": [],
   "source": [
    "x = sy.Symbol('x')\n",
    "f = sin(x)\n",
    "\n",
    "def f4(order):  \n",
    "    x_lims = [-10, 10]\n",
    "    x1 = np.linspace(x_lims[0],x_lims[1],800)\n",
    "    plt.plot(x1,np.sin(x1),label='sin of x')\n",
    "    y1 = []\n",
    "    func = taylor(f,0,order)\n",
    "    for k in x1:\n",
    "        y1.append(func.subs(x,k))\n",
    "    plt.plot(x1,y1,label='order '+str(order))\n",
    "    plt.xlim(x_lims)\n",
    "    plt.ylim([-5,5])\n",
    "    plt.legend()\n",
    "    plt.grid(True)\n",
    "    plt.title('Taylor series approximation')\n",
    "    plt.show()"
   ]
  },
  {
   "cell_type": "code",
   "execution_count": 11,
   "metadata": {
    "slideshow": {
     "slide_type": "subslide"
    }
   },
   "outputs": [
    {
     "data": {
      "application/vnd.jupyter.widget-view+json": {
       "model_id": "97e8d6899b794c579850dbe021e17f26",
       "version_major": 2,
       "version_minor": 0
      },
      "text/html": [
       "<p>Failed to display Jupyter Widget of type <code>interactive</code>.</p>\n",
       "<p>\n",
       "  If you're reading this message in the Jupyter Notebook or JupyterLab Notebook, it may mean\n",
       "  that the widgets JavaScript is still loading. If this message persists, it\n",
       "  likely means that the widgets JavaScript library is either not installed or\n",
       "  not enabled. See the <a href=\"https://ipywidgets.readthedocs.io/en/stable/user_install.html\">Jupyter\n",
       "  Widgets Documentation</a> for setup instructions.\n",
       "</p>\n",
       "<p>\n",
       "  If you're reading this message in another frontend (for example, a static\n",
       "  rendering on GitHub or <a href=\"https://nbviewer.jupyter.org/\">NBViewer</a>),\n",
       "  it may mean that your frontend doesn't currently support widgets.\n",
       "</p>\n"
      ],
      "text/plain": [
       "interactive(children=(IntSlider(value=1, description='order', layout=Layout(width='99%'), max=15, min=1, step=2), Output()), _dom_classes=('widget-interact',))"
      ]
     },
     "metadata": {},
     "output_type": "display_data"
    }
   ],
   "source": [
    "interact(f4, order=IntSlider(min=1, max=15, step=2, value=1, layout=Layout(width='99%')),);"
   ]
  },
  {
   "cell_type": "markdown",
   "metadata": {
    "slideshow": {
     "slide_type": "slide"
    }
   },
   "source": [
    "## Estadística e Inteligencia Artificial"
   ]
  },
  {
   "cell_type": "markdown",
   "metadata": {
    "slideshow": {
     "slide_type": "subslide"
    }
   },
   "source": [
    "## Regresión Lineal"
   ]
  },
  {
   "cell_type": "code",
   "execution_count": 12,
   "metadata": {
    "slideshow": {
     "slide_type": "skip"
    }
   },
   "outputs": [],
   "source": [
    "def create_dataset(number, variance, step=2, correlation=1, offset=(0, 1)):\n",
    "    x_off, y_off = offset\n",
    "    xs = np.arange(x_off, number + x_off)\n",
    "    ys = np.arange(y_off, number*step + y_off, step)\n",
    "    if correlation == -1:\n",
    "        ys = ys[::-1]\n",
    "    ys += np.random.randint(-variance, variance, size=number)\n",
    "    return xs, ys\n",
    "\n",
    "def best_fit_slope(xs, ys):\n",
    "    x_mean = xs.mean()\n",
    "    y_mean = ys.mean()\n",
    "    m = ((xs - x_mean) * (ys - y_mean)).sum() / ((xs - x_mean)**2).sum()\n",
    "    b = y_mean - m * x_mean\n",
    "    return m, b\n",
    "\n",
    "def squared_error(y_initial, y_final):\n",
    "    return ((y_initial - y_final) ** 2).sum()\n",
    "\n",
    "def coeff_of_determination(y_initial, y_final):\n",
    "    ser = squared_error(y_initial, y_final)\n",
    "    sem = squared_error(y_initial, y_initial.mean())\n",
    "    return 1 - (ser / sem)\n",
    "\n",
    "def calc_y(x, m=None, b=None):\n",
    "    if None in [m, b]:\n",
    "        m, b = best_fit_slope(xs1, ys1)\n",
    "    return m * x + b\n",
    "\n",
    "def add_point(target):\n",
    "    m, b = best_fit_slope(scat.x, scat.y)\n",
    "    y_hat.x = scat.x\n",
    "    y_hat.y = calc_y(scat.x, m, b)"
   ]
  },
  {
   "cell_type": "code",
   "execution_count": 13,
   "metadata": {
    "slideshow": {
     "slide_type": "skip"
    }
   },
   "outputs": [
    {
     "data": {
      "text/plain": [
       "0.8098384430758538"
      ]
     },
     "execution_count": 13,
     "metadata": {},
     "output_type": "execute_result"
    }
   ],
   "source": [
    "xs1, ys1 = create_dataset(40,20,2, 1, offset=(10,100))\n",
    "coeff_of_determination(ys1, calc_y(xs1))"
   ]
  },
  {
   "cell_type": "code",
   "execution_count": 14,
   "metadata": {
    "slideshow": {
     "slide_type": "subslide"
    }
   },
   "outputs": [
    {
     "name": "stderr",
     "output_type": "stream",
     "text": [
      "/home/ezequiel/anaconda3/lib/python3.6/site-packages/bqplot/pyplot.py:603: FutureWarning: Conversion of the second argument of issubdtype from `str` to `str` is deprecated. In future, it will be treated as `np.str_ == np.dtype(str).type`.\n",
      "  issubdtype(dtype, Scale.scale_types[key].dtype)\n"
     ]
    },
    {
     "data": {
      "application/vnd.jupyter.widget-view+json": {
       "model_id": "2b1777ba6f044880b585b82527713442",
       "version_major": 2,
       "version_minor": 0
      },
      "text/html": [
       "<p>Failed to display Jupyter Widget of type <code>VBox</code>.</p>\n",
       "<p>\n",
       "  If you're reading this message in the Jupyter Notebook or JupyterLab Notebook, it may mean\n",
       "  that the widgets JavaScript is still loading. If this message persists, it\n",
       "  likely means that the widgets JavaScript library is either not installed or\n",
       "  not enabled. See the <a href=\"https://ipywidgets.readthedocs.io/en/stable/user_install.html\">Jupyter\n",
       "  Widgets Documentation</a> for setup instructions.\n",
       "</p>\n",
       "<p>\n",
       "  If you're reading this message in another frontend (for example, a static\n",
       "  rendering on GitHub or <a href=\"https://nbviewer.jupyter.org/\">NBViewer</a>),\n",
       "  it may mean that your frontend doesn't currently support widgets.\n",
       "</p>\n"
      ],
      "text/plain": [
       "VBox(children=(Figure(animation_duration=500, axes=[Axis(scale=LinearScale()), Axis(orientation='vertical', scale=LinearScale())], fig_margin={'top': 60, 'bottom': 60, 'left': 60, 'right': 60}, layout=Layout(min_width='125px'), marks=[Scatter(colors=['steelblue'], enable_move=True, interactions={'click': 'add'}, scales={'x': LinearScale(), 'y': LinearScale()}, scales_metadata={'x': {'orientation': 'horizontal', 'dimension': 'x'}, 'y': {'orientation': 'vertical', 'dimension': 'y'}, 'color': {'dimension': 'color'}, 'size': {'dimension': 'size'}, 'opacity': {'dimension': 'opacity'}, 'rotation': {'dimension': 'rotation'}, 'skew': {'dimension': 'skew'}}, tooltip_style={'opacity': 0.9}, x=array([10, 11, 12, 13, 14, 15, 16, 17, 18, 19, 20, 21, 22, 23, 24, 25, 26,\n",
       "       27, 28, 29, 30, 31, 32, 33, 34, 35, 36, 37, 38, 39, 40, 41, 42, 43,\n",
       "       44, 45, 46, 47, 48, 49]), y=array([ 83,  92, 120,  94, 118, 129, 118, 129, 111, 116, 119, 111, 130,\n",
       "       121, 128, 121, 142, 134, 135, 152, 134, 146, 152, 165, 140, 161,\n",
       "       135, 158, 170, 160, 152, 157, 178, 148, 154, 156, 160, 188, 183,\n",
       "       176])), Lines(colors=['#1f77b4', '#ff7f0e', '#2ca02c', '#d62728', '#9467bd', '#8c564b', '#e377c2', '#7f7f7f', '#bcbd22', '#17becf'], interactions={'hover': 'tooltip'}, scales={'x': LinearScale(), 'y': LinearScale()}, scales_metadata={'x': {'orientation': 'horizontal', 'dimension': 'x'}, 'y': {'orientation': 'vertical', 'dimension': 'y'}, 'color': {'dimension': 'color'}}, tooltip_style={'opacity': 0.9}, x=array([10, 11, 12, 13, 14, 15, 16, 17, 18, 19, 20, 21, 22, 23, 24, 25, 26,\n",
       "       27, 28, 29, 30, 31, 32, 33, 34, 35, 36, 37, 38, 39, 40, 41, 42, 43,\n",
       "       44, 45, 46, 47, 48, 49]), y=array([101.92195122, 103.84390244, 105.76585366, 107.68780488,\n",
       "       109.6097561 , 111.53170732, 113.45365854, 115.37560976,\n",
       "       117.29756098, 119.2195122 , 121.14146341, 123.06341463,\n",
       "       124.98536585, 126.90731707, 128.82926829, 130.75121951,\n",
       "       132.67317073, 134.59512195, 136.51707317, 138.43902439,\n",
       "       140.36097561, 142.28292683, 144.20487805, 146.12682927,\n",
       "       148.04878049, 149.97073171, 151.89268293, 153.81463415,\n",
       "       155.73658537, 157.65853659, 159.5804878 , 161.50243902,\n",
       "       163.42439024, 165.34634146, 167.26829268, 169.1902439 ,\n",
       "       171.11219512, 173.03414634, 174.95609756, 176.87804878]))], scale_x=LinearScale(allow_padding=False, max=1.0, min=0.0), scale_y=LinearScale(allow_padding=False, max=1.0, min=0.0), title='Regression'), Toolbar(figure=Figure(animation_duration=500, axes=[Axis(scale=LinearScale()), Axis(orientation='vertical', scale=LinearScale())], fig_margin={'top': 60, 'bottom': 60, 'left': 60, 'right': 60}, layout=Layout(min_width='125px'), marks=[Scatter(colors=['steelblue'], enable_move=True, interactions={'click': 'add'}, scales={'x': LinearScale(), 'y': LinearScale()}, scales_metadata={'x': {'orientation': 'horizontal', 'dimension': 'x'}, 'y': {'orientation': 'vertical', 'dimension': 'y'}, 'color': {'dimension': 'color'}, 'size': {'dimension': 'size'}, 'opacity': {'dimension': 'opacity'}, 'rotation': {'dimension': 'rotation'}, 'skew': {'dimension': 'skew'}}, tooltip_style={'opacity': 0.9}, x=array([10, 11, 12, 13, 14, 15, 16, 17, 18, 19, 20, 21, 22, 23, 24, 25, 26,\n",
       "       27, 28, 29, 30, 31, 32, 33, 34, 35, 36, 37, 38, 39, 40, 41, 42, 43,\n",
       "       44, 45, 46, 47, 48, 49]), y=array([ 83,  92, 120,  94, 118, 129, 118, 129, 111, 116, 119, 111, 130,\n",
       "       121, 128, 121, 142, 134, 135, 152, 134, 146, 152, 165, 140, 161,\n",
       "       135, 158, 170, 160, 152, 157, 178, 148, 154, 156, 160, 188, 183,\n",
       "       176])), Lines(colors=['#1f77b4', '#ff7f0e', '#2ca02c', '#d62728', '#9467bd', '#8c564b', '#e377c2', '#7f7f7f', '#bcbd22', '#17becf'], interactions={'hover': 'tooltip'}, scales={'x': LinearScale(), 'y': LinearScale()}, scales_metadata={'x': {'orientation': 'horizontal', 'dimension': 'x'}, 'y': {'orientation': 'vertical', 'dimension': 'y'}, 'color': {'dimension': 'color'}}, tooltip_style={'opacity': 0.9}, x=array([10, 11, 12, 13, 14, 15, 16, 17, 18, 19, 20, 21, 22, 23, 24, 25, 26,\n",
       "       27, 28, 29, 30, 31, 32, 33, 34, 35, 36, 37, 38, 39, 40, 41, 42, 43,\n",
       "       44, 45, 46, 47, 48, 49]), y=array([101.92195122, 103.84390244, 105.76585366, 107.68780488,\n",
       "       109.6097561 , 111.53170732, 113.45365854, 115.37560976,\n",
       "       117.29756098, 119.2195122 , 121.14146341, 123.06341463,\n",
       "       124.98536585, 126.90731707, 128.82926829, 130.75121951,\n",
       "       132.67317073, 134.59512195, 136.51707317, 138.43902439,\n",
       "       140.36097561, 142.28292683, 144.20487805, 146.12682927,\n",
       "       148.04878049, 149.97073171, 151.89268293, 153.81463415,\n",
       "       155.73658537, 157.65853659, 159.5804878 , 161.50243902,\n",
       "       163.42439024, 165.34634146, 167.26829268, 169.1902439 ,\n",
       "       171.11219512, 173.03414634, 174.95609756, 176.87804878]))], scale_x=LinearScale(allow_padding=False, max=1.0, min=0.0), scale_y=LinearScale(allow_padding=False, max=1.0, min=0.0), title='Regression'))))"
      ]
     },
     "metadata": {},
     "output_type": "display_data"
    }
   ],
   "source": [
    "bplt.clear() # BQplot code\n",
    "figure = bplt.figure(title='Regression', animation_duration=500) # BQplot code\n",
    "scat = bplt.scatter(xs1, ys1, enable_move=True, interactions={'click': 'add'} )\n",
    "scat.observe(add_point, names=['x'])\n",
    "y_hat = bplt.plot(xs1, calc_y(xs1))\n",
    "bplt.show()"
   ]
  },
  {
   "cell_type": "markdown",
   "metadata": {
    "slideshow": {
     "slide_type": "subslide"
    }
   },
   "source": [
    "## K Nearest Neigbors"
   ]
  },
  {
   "cell_type": "code",
   "execution_count": 15,
   "metadata": {
    "slideshow": {
     "slide_type": "skip"
    }
   },
   "outputs": [],
   "source": [
    "def euclidean_distance(p1, p2):\n",
    "    dim = len(p1)\n",
    "    radical = sum((c1 - c2)**2 for c1, c2 in zip(p1, p2))\n",
    "    return (radical)**(1/dim)\n",
    "\n",
    "def euclidean_distance_numpy(p1, p2):\n",
    "    p1 = np.array(p1)\n",
    "    p2 = np.array(p2)\n",
    "    dim = len(p1)\n",
    "    return ((p1 - p2)**2).sum()**(1/dim)"
   ]
  },
  {
   "cell_type": "code",
   "execution_count": 16,
   "metadata": {
    "slideshow": {
     "slide_type": "skip"
    }
   },
   "outputs": [],
   "source": [
    "def k_neares_neighbors(data, predict, k=3):\n",
    "    if len(data) >= k:\n",
    "        print('You may change k')\n",
    "    distances = []\n",
    "    for group in data:\n",
    "        for features in data[group]:\n",
    "            distance = np.linalg.norm(np.array(features) - np.array(predict))\n",
    "            distances.append([distance, group])\n",
    "    votes = [i[1] for i in sorted(distances)[:k]]\n",
    "    vote_result = Counter(votes).most_common(1)[0][0]\n",
    "    \n",
    "    return vote_result     "
   ]
  },
  {
   "cell_type": "code",
   "execution_count": 17,
   "metadata": {
    "slideshow": {
     "slide_type": "skip"
    }
   },
   "outputs": [],
   "source": [
    "dataset = {\n",
    "    'black':[[1, 2],[2,3],[3,1]],\n",
    "    'green':[[6,5],[7,7],[8,6]]\n",
    "}\n",
    "\n",
    "def add_point(target):\n",
    "    x, y = scat.x[-1], scat.y[-1]\n",
    "    class_ = k_neares_neighbors(dataset_, [x, y])\n",
    "    dataset_[class_].append([x, y])\n",
    "    bplt.scatter([x], [y], enable_move=True, colors=[class_])"
   ]
  },
  {
   "cell_type": "code",
   "execution_count": 18,
   "metadata": {
    "slideshow": {
     "slide_type": "subslide"
    }
   },
   "outputs": [
    {
     "name": "stderr",
     "output_type": "stream",
     "text": [
      "/home/ezequiel/anaconda3/lib/python3.6/site-packages/bqplot/pyplot.py:603: FutureWarning: Conversion of the second argument of issubdtype from `str` to `str` is deprecated. In future, it will be treated as `np.str_ == np.dtype(str).type`.\n",
      "  issubdtype(dtype, Scale.scale_types[key].dtype)\n"
     ]
    },
    {
     "data": {
      "application/vnd.jupyter.widget-view+json": {
       "model_id": "1d6c5d20ea33437ea6a7b75e89baa91e",
       "version_major": 2,
       "version_minor": 0
      },
      "text/html": [
       "<p>Failed to display Jupyter Widget of type <code>VBox</code>.</p>\n",
       "<p>\n",
       "  If you're reading this message in the Jupyter Notebook or JupyterLab Notebook, it may mean\n",
       "  that the widgets JavaScript is still loading. If this message persists, it\n",
       "  likely means that the widgets JavaScript library is either not installed or\n",
       "  not enabled. See the <a href=\"https://ipywidgets.readthedocs.io/en/stable/user_install.html\">Jupyter\n",
       "  Widgets Documentation</a> for setup instructions.\n",
       "</p>\n",
       "<p>\n",
       "  If you're reading this message in another frontend (for example, a static\n",
       "  rendering on GitHub or <a href=\"https://nbviewer.jupyter.org/\">NBViewer</a>),\n",
       "  it may mean that your frontend doesn't currently support widgets.\n",
       "</p>\n"
      ],
      "text/plain": [
       "VBox(children=(Figure(animation_duration=500, axes=[Axis(scale=LinearScale()), Axis(orientation='vertical', scale=LinearScale())], fig_margin={'top': 60, 'bottom': 60, 'left': 60, 'right': 60}, layout=Layout(min_width='125px'), marks=[Scatter(colors=['white'], interactions={'click': 'add'}, scales={'x': LinearScale(), 'y': LinearScale()}, scales_metadata={'x': {'orientation': 'horizontal', 'dimension': 'x'}, 'y': {'orientation': 'vertical', 'dimension': 'y'}, 'color': {'dimension': 'color'}, 'size': {'dimension': 'size'}, 'opacity': {'dimension': 'opacity'}, 'rotation': {'dimension': 'rotation'}, 'skew': {'dimension': 'skew'}}, tooltip_style={'opacity': 0.9}, x=array([0]), y=array([0])), Scatter(colors=['black'], interactions={'hover': 'tooltip'}, scales={'x': LinearScale(), 'y': LinearScale()}, scales_metadata={'x': {'orientation': 'horizontal', 'dimension': 'x'}, 'y': {'orientation': 'vertical', 'dimension': 'y'}, 'color': {'dimension': 'color'}, 'size': {'dimension': 'size'}, 'opacity': {'dimension': 'opacity'}, 'rotation': {'dimension': 'rotation'}, 'skew': {'dimension': 'skew'}}, tooltip_style={'opacity': 0.9}, x=array([1, 2, 3]), y=array([2, 3, 1])), Scatter(colors=['green'], interactions={'hover': 'tooltip'}, scales={'x': LinearScale(), 'y': LinearScale()}, scales_metadata={'x': {'orientation': 'horizontal', 'dimension': 'x'}, 'y': {'orientation': 'vertical', 'dimension': 'y'}, 'color': {'dimension': 'color'}, 'size': {'dimension': 'size'}, 'opacity': {'dimension': 'opacity'}, 'rotation': {'dimension': 'rotation'}, 'skew': {'dimension': 'skew'}}, tooltip_style={'opacity': 0.9}, x=array([6, 7, 8]), y=array([5, 7, 6]))], scale_x=LinearScale(allow_padding=False, max=1.0, min=0.0), scale_y=LinearScale(allow_padding=False, max=1.0, min=0.0), title='K nearest neighbors - Click to add points'), Toolbar(figure=Figure(animation_duration=500, axes=[Axis(scale=LinearScale()), Axis(orientation='vertical', scale=LinearScale())], fig_margin={'top': 60, 'bottom': 60, 'left': 60, 'right': 60}, layout=Layout(min_width='125px'), marks=[Scatter(colors=['white'], interactions={'click': 'add'}, scales={'x': LinearScale(), 'y': LinearScale()}, scales_metadata={'x': {'orientation': 'horizontal', 'dimension': 'x'}, 'y': {'orientation': 'vertical', 'dimension': 'y'}, 'color': {'dimension': 'color'}, 'size': {'dimension': 'size'}, 'opacity': {'dimension': 'opacity'}, 'rotation': {'dimension': 'rotation'}, 'skew': {'dimension': 'skew'}}, tooltip_style={'opacity': 0.9}, x=array([0]), y=array([0])), Scatter(colors=['black'], interactions={'hover': 'tooltip'}, scales={'x': LinearScale(), 'y': LinearScale()}, scales_metadata={'x': {'orientation': 'horizontal', 'dimension': 'x'}, 'y': {'orientation': 'vertical', 'dimension': 'y'}, 'color': {'dimension': 'color'}, 'size': {'dimension': 'size'}, 'opacity': {'dimension': 'opacity'}, 'rotation': {'dimension': 'rotation'}, 'skew': {'dimension': 'skew'}}, tooltip_style={'opacity': 0.9}, x=array([1, 2, 3]), y=array([2, 3, 1])), Scatter(colors=['green'], interactions={'hover': 'tooltip'}, scales={'x': LinearScale(), 'y': LinearScale()}, scales_metadata={'x': {'orientation': 'horizontal', 'dimension': 'x'}, 'y': {'orientation': 'vertical', 'dimension': 'y'}, 'color': {'dimension': 'color'}, 'size': {'dimension': 'size'}, 'opacity': {'dimension': 'opacity'}, 'rotation': {'dimension': 'rotation'}, 'skew': {'dimension': 'skew'}}, tooltip_style={'opacity': 0.9}, x=array([6, 7, 8]), y=array([5, 7, 6]))], scale_x=LinearScale(allow_padding=False, max=1.0, min=0.0), scale_y=LinearScale(allow_padding=False, max=1.0, min=0.0), title='K nearest neighbors - Click to add points'))))"
      ]
     },
     "metadata": {},
     "output_type": "display_data"
    }
   ],
   "source": [
    "bplt.clear() # BQplot code\n",
    "figure = bplt.figure(title='K nearest neighbors - Click to add points', animation_duration=500) # BQplot code\n",
    "dataset_ = dataset.copy()\n",
    "scat = bplt.scatter([0], [0], interactions={'click': 'add'}, colors=['white'])\n",
    "for color in dataset_:\n",
    "    xs, ys = zip(*dataset_[color])\n",
    "    bplt.scatter(xs, ys, colors=[color])\n",
    "scat.observe(add_point, names=['x'])\n",
    "bplt.show()"
   ]
  },
  {
   "cell_type": "markdown",
   "metadata": {
    "slideshow": {
     "slide_type": "slide"
    }
   },
   "source": [
    "## Matemática Superior"
   ]
  },
  {
   "cell_type": "code",
   "execution_count": 19,
   "metadata": {
    "slideshow": {
     "slide_type": "skip"
    }
   },
   "outputs": [],
   "source": [
    "mpl.rcParams['figure.figsize'] = (20.0, 6.0)"
   ]
  },
  {
   "cell_type": "code",
   "execution_count": 20,
   "metadata": {
    "slideshow": {
     "slide_type": "skip"
    }
   },
   "outputs": [],
   "source": [
    "def main(sueldo_inicial, tasa_ahorro, tasa_gasto_extra, gasto_fijo_diario, dias):\n",
    "    ca = tasa_ahorro * sueldo_inicial\n",
    "    def function(c, t):\n",
    "        if c <= ca:\n",
    "            tasa_salida = 0\n",
    "        else:\n",
    "            tasa_salida = tasa_gasto_extra*(c-ca)\n",
    "        return -gasto_fijo_diario-tasa_salida\n",
    "    t = np.linspace(0,dias,dias*10)\n",
    "    y = odeint(function, sueldo_inicial, t)\n",
    "    \n",
    "    #Graphic details\n",
    "    axes = plt.gca()\n",
    "    axes.set_xlim([0,dias])\n",
    "    axes.set_ylim([0,sueldo_inicial*1.1])\n",
    "    plt.plot((0,dias),(ca,ca), label='Colchon de ahorro')\n",
    "    plt.plot(t,y, label='Capital(t)')\n",
    "    plt.xticks(np.arange(0, dias, 1))\n",
    "    plt.yticks(np.arange(0, sueldo_inicial*1.1, sueldo_inicial/20))\n",
    "    plt.legend(loc='best')\n",
    "    plt.xlabel('Días')\n",
    "    plt.ylabel('Capital $')\n",
    "    plt.grid()\n",
    "    plt.show()"
   ]
  },
  {
   "cell_type": "markdown",
   "metadata": {
    "slideshow": {
     "slide_type": "subslide"
    }
   },
   "source": [
    "## Economía Doméstica"
   ]
  },
  {
   "cell_type": "code",
   "execution_count": 21,
   "metadata": {
    "slideshow": {
     "slide_type": "subslide"
    }
   },
   "outputs": [
    {
     "data": {
      "application/vnd.jupyter.widget-view+json": {
       "model_id": "834df32234054bae84e8de350eab1475",
       "version_major": 2,
       "version_minor": 0
      },
      "text/html": [
       "<p>Failed to display Jupyter Widget of type <code>interactive</code>.</p>\n",
       "<p>\n",
       "  If you're reading this message in the Jupyter Notebook or JupyterLab Notebook, it may mean\n",
       "  that the widgets JavaScript is still loading. If this message persists, it\n",
       "  likely means that the widgets JavaScript library is either not installed or\n",
       "  not enabled. See the <a href=\"https://ipywidgets.readthedocs.io/en/stable/user_install.html\">Jupyter\n",
       "  Widgets Documentation</a> for setup instructions.\n",
       "</p>\n",
       "<p>\n",
       "  If you're reading this message in another frontend (for example, a static\n",
       "  rendering on GitHub or <a href=\"https://nbviewer.jupyter.org/\">NBViewer</a>),\n",
       "  it may mean that your frontend doesn't currently support widgets.\n",
       "</p>\n"
      ],
      "text/plain": [
       "interactive(children=(IntSlider(value=15000, description='sueldo_inicial', layout=Layout(width='100%'), max=25000, step=500), FloatSlider(value=0.2, description='tasa_ahorro', layout=Layout(width='100%'), max=1.0, step=0.005), FloatSlider(value=0.3, description='tasa_gasto_extra', layout=Layout(width='100%'), max=1.0, step=0.005), IntSlider(value=100, description='gasto_fijo_diario', layout=Layout(width='100%'), max=1000, min=1), IntSlider(value=30, description='dias', layout=Layout(width='100%'), max=360, min=1), Output()), _dom_classes=('widget-interact',))"
      ]
     },
     "metadata": {},
     "output_type": "display_data"
    }
   ],
   "source": [
    "interact(main, \n",
    "        sueldo_inicial=IntSlider(min=0,max=25000,step=500,value=15000, layout=Layout(width='100%')),\n",
    "        tasa_ahorro=FloatSlider(min=0,max=1,step=0.005,value=0.2, layout=Layout(width='100%')),\n",
    "        tasa_gasto_extra=FloatSlider(min=0,max=1,step=0.005,value=0.3, layout=Layout(width='100%')),\n",
    "        gasto_fijo_diario=IntSlider(min=1,max=1000,step=1,value=100, layout=Layout(width='100%')),\n",
    "        dias=IntSlider(min=1,max=360,step=1,value=30, layout=Layout(width='100%'))\n",
    "        );"
   ]
  },
  {
   "cell_type": "markdown",
   "metadata": {
    "slideshow": {
     "slide_type": "subslide"
    }
   },
   "source": [
    "## Casas y Aires Acondicionados"
   ]
  },
  {
   "cell_type": "code",
   "execution_count": 22,
   "metadata": {
    "scrolled": false,
    "slideshow": {
     "slide_type": "skip"
    }
   },
   "outputs": [],
   "source": [
    "def main(tiempo_promedio_casa, tiempo_promedio_aire, total_casas, dias):\n",
    "    k1 = 1/tiempo_promedio_casa\n",
    "    k2 = 1/tiempo_promedio_aire\n",
    "    def function(s, t):\n",
    "        y, x = s\n",
    "        dydt = [k1*(total_casas-y), k2*(y-x)]\n",
    "        return dydt\n",
    "    \n",
    "    t = np.linspace(0,dias,dias*10)\n",
    "    s0 = [0,0]\n",
    "    sol = odeint(function, s0, t)\n",
    "\n",
    "    #Graphic details\n",
    "    plt.gca().set_xlim([0, dias])\n",
    "    plt.gca().set_ylim([0, total_casas*1.1])\n",
    "    plt.plot(t, sol[:, 0], 'b', label='Casas(t)')\n",
    "    plt.plot(t, sol[:, 1], 'g', label='Aires(t)')\n",
    "    plt.plot((0,dias),(total_casas,total_casas), label='Total casas')\n",
    "    plt.xticks(np.arange(0, dias, 3))\n",
    "    plt.yticks(np.arange(0, total_casas*1.1, total_casas/20))\n",
    "    plt.legend(loc='best')\n",
    "    plt.xlabel('Meses')\n",
    "    plt.ylabel('Unidades')\n",
    "    plt.grid()\n",
    "    \n",
    "    plt.show()"
   ]
  },
  {
   "cell_type": "code",
   "execution_count": 23,
   "metadata": {
    "slideshow": {
     "slide_type": "subslide"
    }
   },
   "outputs": [
    {
     "data": {
      "application/vnd.jupyter.widget-view+json": {
       "model_id": "bbdb61a01e574374bf5891ba458101f2",
       "version_major": 2,
       "version_minor": 0
      },
      "text/html": [
       "<p>Failed to display Jupyter Widget of type <code>interactive</code>.</p>\n",
       "<p>\n",
       "  If you're reading this message in the Jupyter Notebook or JupyterLab Notebook, it may mean\n",
       "  that the widgets JavaScript is still loading. If this message persists, it\n",
       "  likely means that the widgets JavaScript library is either not installed or\n",
       "  not enabled. See the <a href=\"https://ipywidgets.readthedocs.io/en/stable/user_install.html\">Jupyter\n",
       "  Widgets Documentation</a> for setup instructions.\n",
       "</p>\n",
       "<p>\n",
       "  If you're reading this message in another frontend (for example, a static\n",
       "  rendering on GitHub or <a href=\"https://nbviewer.jupyter.org/\">NBViewer</a>),\n",
       "  it may mean that your frontend doesn't currently support widgets.\n",
       "</p>\n"
      ],
      "text/plain": [
       "interactive(children=(IntSlider(value=5, description='tiempo_promedio_casa', layout=Layout(width='100%'), max=24, min=1), IntSlider(value=10, description='tiempo_promedio_aire', layout=Layout(width='100%'), max=24, min=1), IntSlider(value=1000, description='total_casas', layout=Layout(width='100%'), max=10000, min=1, step=100), IntSlider(value=80, description='dias', layout=Layout(width='100%'), max=360, min=1, step=10), Output()), _dom_classes=('widget-interact',))"
      ]
     },
     "metadata": {},
     "output_type": "display_data"
    }
   ],
   "source": [
    "interact(main,\n",
    "        total_casas=IntSlider(min=1,max=10000,step=100,value=1000, layout=Layout(width='100%')),\n",
    "        tiempo_promedio_casa=IntSlider(min=1,max=24,step=1,value=5, layout=Layout(width='100%')),\n",
    "        tiempo_promedio_aire=IntSlider(min=1,max=24,step=1,value=10, layout=Layout(width='100%')),\n",
    "        dias=IntSlider(min=1,max=360,step=10,value=80, layout=Layout(width='100%'))\n",
    "        );"
   ]
  },
  {
   "cell_type": "markdown",
   "metadata": {
    "slideshow": {
     "slide_type": "subslide"
    }
   },
   "source": [
    "## Decaimiento Natural"
   ]
  },
  {
   "cell_type": "code",
   "execution_count": 24,
   "metadata": {
    "slideshow": {
     "slide_type": "skip"
    }
   },
   "outputs": [],
   "source": [
    "def main(vida_media, ingesta_mg, ingesta_hs, periodos, horas):\n",
    "    k1 = np.log(2)/vida_media\n",
    "    \n",
    "    def function(y, t):\n",
    "        return -k1*y # y(t)\n",
    "    \n",
    "    sf = ingesta_hs\n",
    "    s0 = ingesta_mg\n",
    "    ts = []\n",
    "    sols = []\n",
    "    periodoActual = 0\n",
    "    while periodoActual < periodos-1:\n",
    "        t = np.arange(sf - ingesta_hs, sf, 0.0001)\n",
    "        sol = odeint(function, s0, t)\n",
    "        ts.extend(t)\n",
    "        sols.extend(sol)\n",
    "        sf += ingesta_hs\n",
    "        s0 = sol[-1] + ingesta_mg\n",
    "        periodoActual += 1\n",
    "    t = np.arange(sf - ingesta_hs, sf + 4 * ingesta_hs, 0.0001)\n",
    "    sol = odeint(function, s0, t)\n",
    "    ts.extend(t)\n",
    "    sols.extend(sol)\n",
    "    \n",
    "    \n",
    "    plt.plot(ts,sols, 'b', label='Droga en organismo(t)')\n",
    "    \n",
    "    #Graphic details\n",
    "    plt.gca().set_xlim([0, horas])\n",
    "    plt.gca().set_ylim([0, max(sols)*1.05])\n",
    "    plt.xticks(np.arange(0, horas, 1))\n",
    "    plt.yticks(np.arange(0, sol.max()*1.05, 0.0005))\n",
    "    plt.legend(loc='best')\n",
    "    plt.xlabel('Horas')\n",
    "    plt.ylabel('Temp')\n",
    "    plt.grid()\n",
    "    \n",
    "    plt.show()"
   ]
  },
  {
   "cell_type": "code",
   "execution_count": 25,
   "metadata": {
    "slideshow": {
     "slide_type": "subslide"
    }
   },
   "outputs": [
    {
     "data": {
      "application/vnd.jupyter.widget-view+json": {
       "model_id": "7c46bde2d0c44ebfb91a1319221fdc68",
       "version_major": 2,
       "version_minor": 0
      },
      "text/html": [
       "<p>Failed to display Jupyter Widget of type <code>interactive</code>.</p>\n",
       "<p>\n",
       "  If you're reading this message in the Jupyter Notebook or JupyterLab Notebook, it may mean\n",
       "  that the widgets JavaScript is still loading. If this message persists, it\n",
       "  likely means that the widgets JavaScript library is either not installed or\n",
       "  not enabled. See the <a href=\"https://ipywidgets.readthedocs.io/en/stable/user_install.html\">Jupyter\n",
       "  Widgets Documentation</a> for setup instructions.\n",
       "</p>\n",
       "<p>\n",
       "  If you're reading this message in another frontend (for example, a static\n",
       "  rendering on GitHub or <a href=\"https://nbviewer.jupyter.org/\">NBViewer</a>),\n",
       "  it may mean that your frontend doesn't currently support widgets.\n",
       "</p>\n"
      ],
      "text/plain": [
       "interactive(children=(FloatSlider(value=3.8, description='vida_media', layout=Layout(width='100%'), max=24.0, step=0.01), FloatSlider(value=0.01, description='ingesta_mg', layout=Layout(width='100%'), max=1.0, step=0.001), FloatSlider(value=6.0, description='ingesta_hs', layout=Layout(width='100%'), max=24.0), IntSlider(value=4, description='periodos', layout=Layout(width='100%'), max=20, min=1), FloatSlider(value=40.0, description='horas', layout=Layout(width='100%'), max=80.0, min=1.0), Output()), _dom_classes=('widget-interact',))"
      ]
     },
     "metadata": {},
     "output_type": "display_data"
    }
   ],
   "source": [
    "interact(main,        \n",
    "        vida_media=FloatSlider(min=0,max=24,step=0.01,value=3.8, layout=Layout(width='100%')),\n",
    "        ingesta_mg=FloatSlider(min=0,max=1,step=0.001,value=0.01, layout=Layout(width='100%')),\n",
    "        ingesta_hs=FloatSlider(min=0,max=24,step=0.1,value=6, layout=Layout(width='100%')),\n",
    "        periodos=IntSlider(min=1,max=20,step=1,value=4, layout=Layout(width='100%')),\n",
    "        horas=FloatSlider(min=1,max=80,step=0.1,value=40, layout=Layout(width='100%'))\n",
    "        );"
   ]
  },
  {
   "cell_type": "markdown",
   "metadata": {
    "slideshow": {
     "slide_type": "subslide"
    }
   },
   "source": [
    "## Zorros y Liebres"
   ]
  },
  {
   "cell_type": "code",
   "execution_count": 26,
   "metadata": {
    "slideshow": {
     "slide_type": "skip"
    }
   },
   "outputs": [],
   "source": [
    "def main(a, b, c, d, dias, liebres_inicial, zorros_inicial):\n",
    "\n",
    "    def function(s, t):\n",
    "        x, y = s\n",
    "        dydt = [\n",
    "            a*x-b*x*y, # x(t) → Liebres\n",
    "            -c*y+d*x*y # y(t) → Zorros\n",
    "        ]\n",
    "        return dydt\n",
    "    \n",
    "    t = np.linspace(0,dias,dias*10)\n",
    "    s0 = [\n",
    "        liebres_inicial, #Liebres\n",
    "        zorros_inicial #Zorros\n",
    "    ]\n",
    "    sol = odeint(function, s0, t)\n",
    "\n",
    "    #Graphic details\n",
    "    plt.plot(t, sol[:, 0], 'b', label='Liebres(t)')\n",
    "    plt.plot(t, sol[:, 1], 'g', label='Zorros(t)')\n",
    "    plt.legend(loc='best')\n",
    "    plt.xlabel('Tiempo')\n",
    "    plt.ylabel('Unidades')\n",
    "    plt.grid()\n",
    "    plt.show()\n",
    "    plt.plot(sol[:, 0], sol[:, 1], 'g', label='Zorros(t)')\n",
    "    plt.legend(loc='best')\n",
    "    plt.xlabel('Liebres')\n",
    "    plt.ylabel('Zorros')\n",
    "    plt.grid()\n",
    "    plt.show()"
   ]
  },
  {
   "cell_type": "code",
   "execution_count": 27,
   "metadata": {
    "slideshow": {
     "slide_type": "subslide"
    }
   },
   "outputs": [
    {
     "data": {
      "application/vnd.jupyter.widget-view+json": {
       "model_id": "1a3cc935a85e4b24ba9f4f6ee1c21d66",
       "version_major": 2,
       "version_minor": 0
      },
      "text/html": [
       "<p>Failed to display Jupyter Widget of type <code>interactive</code>.</p>\n",
       "<p>\n",
       "  If you're reading this message in the Jupyter Notebook or JupyterLab Notebook, it may mean\n",
       "  that the widgets JavaScript is still loading. If this message persists, it\n",
       "  likely means that the widgets JavaScript library is either not installed or\n",
       "  not enabled. See the <a href=\"https://ipywidgets.readthedocs.io/en/stable/user_install.html\">Jupyter\n",
       "  Widgets Documentation</a> for setup instructions.\n",
       "</p>\n",
       "<p>\n",
       "  If you're reading this message in another frontend (for example, a static\n",
       "  rendering on GitHub or <a href=\"https://nbviewer.jupyter.org/\">NBViewer</a>),\n",
       "  it may mean that your frontend doesn't currently support widgets.\n",
       "</p>\n"
      ],
      "text/plain": [
       "interactive(children=(FloatSlider(value=1.0, description='a', layout=Layout(width='100%'), max=24.0, step=0.01), FloatSlider(value=1.0, description='b', layout=Layout(width='100%'), max=24.0, step=0.01), FloatSlider(value=1.0, description='c', layout=Layout(width='100%'), max=24.0, step=0.01), FloatSlider(value=1.0, description='d', layout=Layout(width='100%'), max=24.0, step=0.01), FloatSlider(value=15.0, description='dias', layout=Layout(width='100%'), max=365.0, step=10.0), FloatSlider(value=2.0, description='liebres_inicial', layout=Layout(width='100%'), max=24.0, step=0.01), FloatSlider(value=1.0, description='zorros_inicial', layout=Layout(width='100%'), max=24.0, step=0.01), Output()), _dom_classes=('widget-interact',))"
      ]
     },
     "metadata": {},
     "output_type": "display_data"
    }
   ],
   "source": [
    "interact(main,        \n",
    "        a=FloatSlider(min=0,max=24,step=0.01,value=1, layout=Layout(width='100%')),\n",
    "        b=FloatSlider(min=0,max=24,step=0.01,value=1, layout=Layout(width='100%')),\n",
    "        c=FloatSlider(min=0,max=24,step=0.01,value=1, layout=Layout(width='100%')),\n",
    "        d=FloatSlider(min=0,max=24,step=0.01,value=1, layout=Layout(width='100%')),\n",
    "        liebres_inicial=FloatSlider(min=0,max=24,step=0.01,value=2, layout=Layout(width='100%')),\n",
    "        zorros_inicial=FloatSlider(min=0,max=24,step=0.01,value=1, layout=Layout(width='100%')),\n",
    "        dias=FloatSlider(min=0,max=365,step=10,value=15, layout=Layout(width='100%')),\n",
    "        );"
   ]
  }
 ],
 "metadata": {
  "celltoolbar": "Slideshow",
  "kernelspec": {
   "display_name": "Python 3",
   "language": "python",
   "name": "python3"
  },
  "language_info": {
   "codemirror_mode": {
    "name": "ipython",
    "version": 3
   },
   "file_extension": ".py",
   "mimetype": "text/x-python",
   "name": "python",
   "nbconvert_exporter": "python",
   "pygments_lexer": "ipython3",
   "version": "3.6.4"
  }
 },
 "nbformat": 4,
 "nbformat_minor": 2
}
