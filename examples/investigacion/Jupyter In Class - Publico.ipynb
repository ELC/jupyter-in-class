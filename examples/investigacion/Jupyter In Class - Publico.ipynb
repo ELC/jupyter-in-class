{
 "cells": [
  {
   "cell_type": "markdown",
   "metadata": {
    "slideshow": {
     "slide_type": "slide"
    }
   },
   "source": [
    "# Framework Basado en Open Source para Materias de Ciencias Exactas"
   ]
  },
  {
   "cell_type": "markdown",
   "metadata": {
    "slideshow": {
     "slide_type": "slide"
    }
   },
   "source": [
    "## Algunas de las herramientas\n",
    "\n",
    "- Jupyter\n",
    "- Python\n",
    "- LaTeX\n",
    "- nbflow\n",
    "- matplotlib\n",
    "- bqplot\n",
    "- scipy\n",
    "- etc..."
   ]
  },
  {
   "cell_type": "markdown",
   "metadata": {
    "slideshow": {
     "slide_type": "slide"
    }
   },
   "source": [
    "## ¿Por qué LaTeX?"
   ]
  },
  {
   "cell_type": "markdown",
   "metadata": {
    "slideshow": {
     "slide_type": "subslide"
    }
   },
   "source": [
    "x^2\n",
    "\n",
    "$x^2$"
   ]
  },
  {
   "cell_type": "markdown",
   "metadata": {
    "slideshow": {
     "slide_type": "subslide"
    }
   },
   "source": [
    "1 / sqrt(2 \\* pi \\* sigma \\*\\* 2) \\* exp(-(x- mu)\\*\\* 2 / (x \\* sigma \\*\\* 2)\n",
    "                                         \n",
    "$$\\frac {1}{\\sqrt {2\\pi \\sigma ^{2}}}e^{-{\\frac{(x- \\mu)^{2}}{2\\sigma ^2}}}$$"
   ]
  },
  {
   "cell_type": "markdown",
   "metadata": {
    "slideshow": {
     "slide_type": "slide"
    }
   },
   "source": [
    "## ¿Por qué Python?"
   ]
  },
  {
   "cell_type": "markdown",
   "metadata": {
    "slideshow": {
     "slide_type": "subslide"
    }
   },
   "source": [
    "<img src=\"./scipy_ecosystem.png\" alt=\"Drawing\" style=\"width: 1000px; height=1000px;\" align=\"middle\"/>"
   ]
  },
  {
   "cell_type": "markdown",
   "metadata": {
    "slideshow": {
     "slide_type": "slide"
    }
   },
   "source": [
    "## ¿Por qué Jupyter?"
   ]
  },
  {
   "cell_type": "markdown",
   "metadata": {
    "slideshow": {
     "slide_type": "subslide"
    }
   },
   "source": [
    "$$\\int_{0}^{\\infty} \\frac{\\sin(x)}{x}dx = \\frac{\\pi}{2} $$"
   ]
  },
  {
   "cell_type": "markdown",
   "metadata": {
    "slideshow": {
     "slide_type": "fragment"
    }
   },
   "source": [
    "**¡¡¡Pero eso tiene un error!!!**"
   ]
  },
  {
   "cell_type": "markdown",
   "metadata": {
    "slideshow": {
     "slide_type": "slide"
    }
   },
   "source": [
    "# Demo"
   ]
  },
  {
   "cell_type": "markdown",
   "metadata": {
    "slideshow": {
     "slide_type": "skip"
    }
   },
   "source": [
    "## Inicialiación"
   ]
  },
  {
   "cell_type": "code",
   "execution_count": 42,
   "metadata": {
    "ExecuteTime": {
     "end_time": "2018-04-18T15:00:32.298623Z",
     "start_time": "2018-04-18T15:00:32.278622Z"
    },
    "slideshow": {
     "slide_type": "skip"
    }
   },
   "outputs": [],
   "source": [
    "import matplotlib.pyplot as plt\n",
    "from ipywidgets import interact\n",
    "import numpy as np\n",
    "from matplotlib import animation, rc\n",
    "from matplotlib import style\n",
    "\n",
    "# Jupyter Specifics\n",
    "import matplotlib as mpl\n",
    "from IPython.display import HTML\n",
    "from ipywidgets.widgets import interact, IntSlider, FloatSlider, Layout\n",
    "\n",
    "plt.style.use('bmh')\n",
    "\n",
    "%matplotlib inline\n",
    "\n",
    "mpl.rcParams['figure.figsize'] = (20.0, 6.0)\n",
    "rc('animation', html='html5')"
   ]
  },
  {
   "cell_type": "markdown",
   "metadata": {
    "slideshow": {
     "slide_type": "slide"
    }
   },
   "source": [
    "## Analisis 1"
   ]
  },
  {
   "cell_type": "code",
   "execution_count": 43,
   "metadata": {
    "ExecuteTime": {
     "end_time": "2018-04-18T15:00:33.966723Z",
     "start_time": "2018-04-18T15:00:33.652701Z"
    },
    "slideshow": {
     "slide_type": "skip"
    }
   },
   "outputs": [],
   "source": [
    "def f(a, b, c):\n",
    "    x = np.linspace(-5,5,100)\n",
    "    y = a*x**2+b*x+c\n",
    "    plt.title(\"Expresion: $ax^2 + bx + c$ \\n a = {}, b = {}, c = {}\".format(a,b,c))\n",
    "    plt.ylim(-10,10)\n",
    "    plt.xlim(-5,5)\n",
    "    plt.grid(color='grey', linewidth=0.5)\n",
    "    plt.plot(x, y)"
   ]
  },
  {
   "cell_type": "code",
   "execution_count": 44,
   "metadata": {
    "slideshow": {
     "slide_type": "subslide"
    }
   },
   "outputs": [
    {
     "data": {
      "application/vnd.jupyter.widget-view+json": {
       "model_id": "ab92d59e692843e7bcd0205825afda8d",
       "version_major": 2,
       "version_minor": 0
      },
      "text/html": [
       "<p>Failed to display Jupyter Widget of type <code>interactive</code>.</p>\n",
       "<p>\n",
       "  If you're reading this message in the Jupyter Notebook or JupyterLab Notebook, it may mean\n",
       "  that the widgets JavaScript is still loading. If this message persists, it\n",
       "  likely means that the widgets JavaScript library is either not installed or\n",
       "  not enabled. See the <a href=\"https://ipywidgets.readthedocs.io/en/stable/user_install.html\">Jupyter\n",
       "  Widgets Documentation</a> for setup instructions.\n",
       "</p>\n",
       "<p>\n",
       "  If you're reading this message in another frontend (for example, a static\n",
       "  rendering on GitHub or <a href=\"https://nbviewer.jupyter.org/\">NBViewer</a>),\n",
       "  it may mean that your frontend doesn't currently support widgets.\n",
       "</p>\n"
      ],
      "text/plain": [
       "interactive(children=(FloatSlider(value=1.0, description='a', layout=Layout(width='99%'), max=6.0, min=-5.0, step=0.25), FloatSlider(value=0.0, description='b', layout=Layout(width='99%'), max=6.0, min=-5.0, step=1.0), FloatSlider(value=1.0, description='c', layout=Layout(width='99%'), max=6.0, min=-5.0, step=1.0), Output()), _dom_classes=('widget-interact',))"
      ]
     },
     "metadata": {},
     "output_type": "display_data"
    }
   ],
   "source": [
    "interactive_f = interact(f,\n",
    "         a=FloatSlider(min=-5, max=6, step=0.25, value=1, layout=Layout(width='99%')), \n",
    "         b=FloatSlider(min=-5, max=6, step=1, value=0, layout=Layout(width='99%')),\n",
    "         c=FloatSlider(min=-5, max=6, step=1, value=1, layout=Layout(width='99%')),);"
   ]
  },
  {
   "cell_type": "code",
   "execution_count": 45,
   "metadata": {
    "ExecuteTime": {
     "end_time": "2018-04-18T15:00:41.968176Z",
     "start_time": "2018-04-18T15:00:41.653163Z"
    },
    "scrolled": false,
    "slideshow": {
     "slide_type": "skip"
    }
   },
   "outputs": [],
   "source": [
    "def f2(a, b, c):\n",
    "    x = np.linspace(-5,5,1000)\n",
    "    y = (a*x+b)**2+c\n",
    "    plt.title(\"Expresion: $(ax+b)^2 + c$ \\n a = {}, b = {}, c = {}\".format(a,b,c))\n",
    "    plt.ylim(-1,20)\n",
    "    plt.xlim(-5,5)\n",
    "    plt.grid(color='grey', linewidth=0.5)\n",
    "    plt.plot(x, y)"
   ]
  },
  {
   "cell_type": "code",
   "execution_count": 46,
   "metadata": {
    "slideshow": {
     "slide_type": "subslide"
    }
   },
   "outputs": [
    {
     "data": {
      "application/vnd.jupyter.widget-view+json": {
       "model_id": "251272d1a3db45f28da44cb8ffffb6b5",
       "version_major": 2,
       "version_minor": 0
      },
      "text/html": [
       "<p>Failed to display Jupyter Widget of type <code>interactive</code>.</p>\n",
       "<p>\n",
       "  If you're reading this message in the Jupyter Notebook or JupyterLab Notebook, it may mean\n",
       "  that the widgets JavaScript is still loading. If this message persists, it\n",
       "  likely means that the widgets JavaScript library is either not installed or\n",
       "  not enabled. See the <a href=\"https://ipywidgets.readthedocs.io/en/stable/user_install.html\">Jupyter\n",
       "  Widgets Documentation</a> for setup instructions.\n",
       "</p>\n",
       "<p>\n",
       "  If you're reading this message in another frontend (for example, a static\n",
       "  rendering on GitHub or <a href=\"https://nbviewer.jupyter.org/\">NBViewer</a>),\n",
       "  it may mean that your frontend doesn't currently support widgets.\n",
       "</p>\n"
      ],
      "text/plain": [
       "interactive(children=(FloatSlider(value=1.0, description='a', layout=Layout(width='99%'), max=6.0, min=-5.0, step=0.25), FloatSlider(value=0.0, description='b', layout=Layout(width='99%'), max=6.0, min=-5.0, step=1.0), FloatSlider(value=1.0, description='c', layout=Layout(width='99%'), max=6.0, min=-5.0, step=1.0), Output()), _dom_classes=('widget-interact',))"
      ]
     },
     "metadata": {},
     "output_type": "display_data"
    }
   ],
   "source": [
    "interact(f2, \n",
    "         a=FloatSlider(min=-5, max=6, step=0.25, value=1, layout=Layout(width='99%')), \n",
    "         b=FloatSlider(min=-5, max=6, step=1, value=0, layout=Layout(width='99%')),\n",
    "         c=FloatSlider(min=-5, max=6, step=1, value=1, layout=Layout(width='99%')),);"
   ]
  },
  {
   "cell_type": "code",
   "execution_count": 47,
   "metadata": {
    "ExecuteTime": {
     "end_time": "2018-04-18T15:01:00.506238Z",
     "start_time": "2018-04-18T15:01:00.001210Z"
    },
    "slideshow": {
     "slide_type": "skip"
    }
   },
   "outputs": [],
   "source": [
    "from matplotlib.patches import Polygon\n",
    "import scipy.integrate as integrate\n",
    "\n",
    "\n",
    "def func(x):\n",
    "    return (x - 3) * (x - 5) * (x - 7) + 85\n",
    "\n",
    "\n",
    "def f3(a, b):\n",
    "    x = np.linspace(0, 10)\n",
    "    y = func(x)\n",
    "\n",
    "    fig, ax = plt.subplots()\n",
    "    plt.plot(x, y, linewidth=2)\n",
    "    plt.ylim(ymin=0)\n",
    "\n",
    "    # Make the shaded region\n",
    "    ix = np.linspace(a, b)\n",
    "    iy = func(ix)\n",
    "    verts = [(a, 0)] + list(zip(ix, iy)) + [(b, 0)]\n",
    "    poly = Polygon(verts, facecolor='0.9', edgecolor='0.5')\n",
    "    ax.add_patch(poly)\n",
    "\n",
    "    plt.text(0.5 * (a + b), 30, r\"$\\int_a^b f(x)\\mathrm{d}x$\",\n",
    "             horizontalalignment='center', fontsize=20)\n",
    "\n",
    "    ax.set_xticks((a, b))\n",
    "    ax.set_xticklabels(('$a$', '$b$'))\n",
    "\n",
    "    inte = int(integrate.quad(func, a, b)[0])\n",
    "    plt.title(\"Expressión: $(x - 3)(x - 5)(x - 7) + 85$ \" + \"--- $a = {}, b= {}$ ---\".format(a, b) +\n",
    "              \" $\\int_a^b f(x)\\mathrm{d}x\" + \" = {0}$\".format(inte))\n",
    "    plt.show()"
   ]
  },
  {
   "cell_type": "code",
   "execution_count": 48,
   "metadata": {
    "slideshow": {
     "slide_type": "subslide"
    }
   },
   "outputs": [
    {
     "data": {
      "application/vnd.jupyter.widget-view+json": {
       "model_id": "d24f04bfefbc4a2f8f28801f08cef7fc",
       "version_major": 2,
       "version_minor": 0
      },
      "text/html": [
       "<p>Failed to display Jupyter Widget of type <code>interactive</code>.</p>\n",
       "<p>\n",
       "  If you're reading this message in the Jupyter Notebook or JupyterLab Notebook, it may mean\n",
       "  that the widgets JavaScript is still loading. If this message persists, it\n",
       "  likely means that the widgets JavaScript library is either not installed or\n",
       "  not enabled. See the <a href=\"https://ipywidgets.readthedocs.io/en/stable/user_install.html\">Jupyter\n",
       "  Widgets Documentation</a> for setup instructions.\n",
       "</p>\n",
       "<p>\n",
       "  If you're reading this message in another frontend (for example, a static\n",
       "  rendering on GitHub or <a href=\"https://nbviewer.jupyter.org/\">NBViewer</a>),\n",
       "  it may mean that your frontend doesn't currently support widgets.\n",
       "</p>\n"
      ],
      "text/plain": [
       "interactive(children=(FloatSlider(value=2.0, description='a', layout=Layout(width='99%'), max=10.0, min=-5.0, step=0.25), FloatSlider(value=9.0, description='b', layout=Layout(width='99%'), max=10.0, min=-5.0, step=0.25), Output()), _dom_classes=('widget-interact',))"
      ]
     },
     "metadata": {},
     "output_type": "display_data"
    }
   ],
   "source": [
    "interact(f3, \n",
    "         a=FloatSlider(min=-5, max=10, step=0.25, value=2, layout=Layout(width='99%')), \n",
    "         b=FloatSlider(min=-5, max=10, step=0.25, value=9, layout=Layout(width='99%')));"
   ]
  },
  {
   "cell_type": "code",
   "execution_count": 49,
   "metadata": {
    "ExecuteTime": {
     "end_time": "2018-04-18T15:01:10.006782Z",
     "start_time": "2018-04-18T15:01:09.978780Z"
    },
    "slideshow": {
     "slide_type": "skip"
    }
   },
   "outputs": [],
   "source": [
    "import sympy as sy\n",
    "import numpy as np\n",
    "from sympy.functions import sin,cos\n",
    "import matplotlib.pyplot as plt\n",
    "\n",
    "# Factorial function\n",
    "def factorial(n):\n",
    "    if n <= 0:\n",
    "        return 1\n",
    "    else:\n",
    "        return n*factorial(n-1)\n",
    "\n",
    "# Taylor approximation at x0 of the function 'function'\n",
    "def taylor(function,x0,n):\n",
    "    i = 0\n",
    "    p = 0\n",
    "    while i <= n:\n",
    "        p = p + (function.diff(x,i).subs(x,x0))/(factorial(i))*(x-x0)**i\n",
    "        i += 1\n",
    "    return p"
   ]
  },
  {
   "cell_type": "code",
   "execution_count": 50,
   "metadata": {
    "ExecuteTime": {
     "end_time": "2018-04-18T15:05:24.165905Z",
     "start_time": "2018-04-18T15:05:19.207920Z"
    },
    "scrolled": true,
    "slideshow": {
     "slide_type": "skip"
    }
   },
   "outputs": [],
   "source": [
    "x = sy.Symbol('x')\n",
    "f = sin(x) * x**2\n",
    "\n",
    "def animate(j):\n",
    "    if j % 2 == 0:\n",
    "        return []\n",
    "    \n",
    "    x_lims = [-5,5]\n",
    "    x1 = np.linspace(x_lims[0],x_lims[1],800)\n",
    "    if j == 1:\n",
    "        plt.plot(x1,np.sin(x1) * x1**2,label='$sin(x) x^2$')\n",
    "    y1 = []\n",
    "    func = taylor(f,0,j)\n",
    "    print(j, 'Taylor expansion at n='+str(j),func)\n",
    "    for k in x1:\n",
    "        y1.append(func.subs(x,k))\n",
    "    plt.plot(x1,y1,label='order '+str(j))\n",
    "\n",
    "    plt.xlim(x_lims)\n",
    "    plt.ylim([-5,5])\n",
    "    plt.xlabel('x')\n",
    "    plt.ylabel('y')\n",
    "    plt.legend()\n",
    "    plt.grid(True)\n",
    "    plt.title('Taylor series approximation')\n",
    "    return []\n",
    "\n",
    "# Plot results\n",
    "def plot():\n",
    "    fig, ax = plt.subplots();  \n",
    "    anim = animation.FuncAnimation(fig, animate, frames=10, interval=500, blit=True);\n",
    "    return anim"
   ]
  },
  {
   "cell_type": "code",
   "execution_count": 51,
   "metadata": {
    "slideshow": {
     "slide_type": "subslide"
    }
   },
   "outputs": [
    {
     "name": "stdout",
     "output_type": "stream",
     "text": [
      "1 Taylor expansion at n=1 0\n",
      "3 Taylor expansion at n=3 x**3\n",
      "5 Taylor expansion at n=5 -x**5/6 + x**3\n",
      "7 Taylor expansion at n=7 x**7/120 - x**5/6 + x**3\n",
      "9 Taylor expansion at n=9 -x**9/5040 + x**7/120 - x**5/6 + x**3\n"
     ]
    },
    {
     "data": {
      "text/html": [
       "<video width=\"1440\" height=\"432\" controls autoplay loop>\n",
       "  <source type=\"video/mp4\" src=\"data:video/mp4;base64,AAAAHGZ0eXBNNFYgAAACAGlzb21pc28yYXZjMQAAAAhmcmVlAAC2J21kYXQAAAKtBgX//6ncRem9\n",
       "5tlIt5Ys2CDZI+7veDI2NCAtIGNvcmUgMTQ4IHIyNjQzIDVjNjU3MDQgLSBILjI2NC9NUEVHLTQg\n",
       "QVZDIGNvZGVjIC0gQ29weWxlZnQgMjAwMy0yMDE1IC0gaHR0cDovL3d3dy52aWRlb2xhbi5vcmcv\n",
       "eDI2NC5odG1sIC0gb3B0aW9uczogY2FiYWM9MSByZWY9MyBkZWJsb2NrPTE6MDowIGFuYWx5c2U9\n",
       "MHgzOjB4MTEzIG1lPWhleCBzdWJtZT03IHBzeT0xIHBzeV9yZD0xLjAwOjAuMDAgbWl4ZWRfcmVm\n",
       "PTEgbWVfcmFuZ2U9MTYgY2hyb21hX21lPTEgdHJlbGxpcz0xIDh4OGRjdD0xIGNxbT0wIGRlYWR6\n",
       "b25lPTIxLDExIGZhc3RfcHNraXA9MSBjaHJvbWFfcXBfb2Zmc2V0PS0yIHRocmVhZHM9NiBsb29r\n",
       "YWhlYWRfdGhyZWFkcz0xIHNsaWNlZF90aHJlYWRzPTAgbnI9MCBkZWNpbWF0ZT0xIGludGVybGFj\n",
       "ZWQ9MCBibHVyYXlfY29tcGF0PTAgY29uc3RyYWluZWRfaW50cmE9MCBiZnJhbWVzPTMgYl9weXJh\n",
       "bWlkPTIgYl9hZGFwdD0xIGJfYmlhcz0wIGRpcmVjdD0xIHdlaWdodGI9MSBvcGVuX2dvcD0wIHdl\n",
       "aWdodHA9MiBrZXlpbnQ9MjUwIGtleWludF9taW49MiBzY2VuZWN1dD00MCBpbnRyYV9yZWZyZXNo\n",
       "PTAgcmNfbG9va2FoZWFkPTQwIHJjPWNyZiBtYnRyZWU9MSBjcmY9MjMuMCBxY29tcD0wLjYwIHFw\n",
       "bWluPTAgcXBtYXg9NjkgcXBzdGVwPTQgaXBfcmF0aW89MS40MCBhcT0xOjEuMDAAgAAAG4lliIQA\n",
       "Ev/+963fgU3AQO1rulc4tMurlDQ9UfaUpni2SAAAAwAAAwAAAwAAAwAjL/M684NX9B3CQAAAAwAA\n",
       "FpAAAr9fa5v/+IASXiSIog/JXx1Vohosfa6gwfZZ3VNVF2fqb2/hq6deg9bTQZerSjzETMb8CuwS\n",
       "0+F2dRBuPtzJO36OAeHA6rbt2YZDmZ4qDjCfa/WeHuKIUw0AMfyctm5+b/NybSreYHMxlqmuXFfU\n",
       "xzFVS9iR88RaDr+Is2Joif73ZR1fa3CkgYjbGP4XAtEQPodS1FVf8sFHBIppNl+4EBoaYNglU6e9\n",
       "j8nwex0Gi1pwacXhlSFRSQIGlbNCIfhBNehXAWdWhdQ+fjYjiKU+ET1CsvD/TioGJ5VSQBP/RKd6\n",
       "vbaTgAINCSe/WGjhBOK6qW8lBcjHN0xr2oejEFcaZwsNyZfJjVuul0FVB+BeiNjgUW0OAntfJGRI\n",
       "0UBNNaJmYEJzWLneVrO2FLMQD7Q+HxeG15GInWABJSnF6MkRIaBYCvv1BZyHLfvIAv/uHY1gPwYL\n",
       "qYbE1DDxFzjCQjkKiTISXRuUg6kS85RQTC7a2E0zmsirTgy3AodLWG1ekIC/INiuXTs+Prlh0+HC\n",
       "gfiZsJGG6+lRGmwWxycMrsrwxvMJjQ7xEDWJaGgDJIPu6afmL3Qt9FAgk2Xs70JMkjHKoV0ZvN/j\n",
       "tXyqDwZjVKNb9iGCFt13eE5OcOnCRU6HOZrpz8uBdl+tsy8YQY/QHVSoXM0GyvrXVpJk3N6JrS7v\n",
       "8JroTgxCqOeF8Gs+yve21AU96KvLpoUHWnJZXynezwIm3mjq8VOBOZUOwNpyhmaUClfJO03WVYxJ\n",
       "js2eRkjF79NUo2rP97hbjldIGx6U1IB82jtRUWXghKow2l5p/a0Yb72wZqUZJHTMyKJOU5mhFWc4\n",
       "Rj5tNrG7qJ7FxvAh/2PldBzCea/urH+vOxoMghPK1TGOOMh/VVcAiBkD39nqcycGzkVrCKHKLsxh\n",
       "qve87yDRbjh3TjuN/sejq+dKVndttlgsi9oqeiL6F4ynu6ac7tBOTm2g6Roe41MbOAM+im0a5OkM\n",
       "yFOAj7AZsDWQBQTMyBlj+n9D4AA9GmTUUSGM8N7g2nfeMlXNDAQ+/XHo1VnCz3FNVVJYENehkvDp\n",
       "+s4utJQNkf7xWl2qVt7TOSj947wfzAk0DcfHd4dtjO03j2oO1MFjYTrBz5q1DCFMrArosp1BswP/\n",
       "BjIiw+GTGsA3grzRJXVrIeL/oXf5VJOoPmZrqOXSk0uHCDfO/lMHDS7V/EYg4K7xdJEqJrgBEqTo\n",
       "BU3eoQgFR6cTaEPfNKDqySrW06KhzF4wb8Th2lmsZgd8cIBefVKduBokYJauOnukAjUtRefeAmux\n",
       "zCCklsaIsnaIRokpeqUTFH8chzj6/p8ufVB9z7dGgflND8oRj2kM7rUEu5unRLQJKj/nNq1J63tm\n",
       "S6F9y4Uay3Ms4/jmDf39LjKTzqOmG8gqAk5omivEPUJK7/DlzU7flF5pBFvkm/aPHR84hvKhLJUQ\n",
       "7wGB7ClwPJ1bPrda1MXvCx5xiH8ReX0oI+KVabHZUl0oXqeb20B7gagmB2j1xm1zkSzcah1lvPsX\n",
       "nlFTMB4gsNCQZhcQ6WM/bVdK9JVywaJzYVVlR61bJrvM0dwJ4FY9EY/RX15C46BB3Kgg/ApYgB94\n",
       "s5qNFgW526xrb73DVXNv4TWbhoU/HvqYlPVZMUyn/schuBAE9BCwPLsZwABxJ/10o+HbUefndloR\n",
       "zXbPxyVFCQhS3Ig/Gp8Yytb2tkc2Fx71TRrkuERBZB/EwPO9J+KZheFta16/R4XcxM9cQkBXIBb3\n",
       "x5C6ymLwsrW4GnqyBr6dlSQ3oMKuS2SO78fnhLDR3Y33RHjTcsM5Uuh6vGy2+xl8Je6aUwaxz3vJ\n",
       "YBh2L077LI3gFQeQT3BAWNlHuBaZm4lGvFcjV5qxHDHGILzubSTj4bqpHdrq9UOlgt1+d10gq49U\n",
       "RgHuN5EDaRrf6ysdDwvEPteVavvWI6LEe6I1wyDjWW+STpqjUBHjJohP6M+OsNCw8dOT/bzbR0Lo\n",
       "6lH5ulYPWe+uifAyrxrA8ODgxFfv7EHKfRCKgbcgmVPaFukmHgijXgYnOvICWGXHj/SVx9ZPeOM+\n",
       "w9plNfSSsucAfjkgS6fp58wL4aUe5UC1Bf20oCJzi8FYOkn2XJrv+eD7Oc/ihKeesuQJX7PNdx4m\n",
       "Hr4n8lQrl3ZeXQXOSTCyVHHRfOiHREb1yQQNQCjd7VrV/hpYL0/IUxfdOAAA5srV1TSfdSrhd7v/\n",
       "l5wuaMbNR6LQ7kqwn3ryUtuBIF4XACCIl3zCkwwvOwqsEsL2wrWgKs5o9dv/fMbLluPuX3iiPRzQ\n",
       "CCzDPT9uCpti2YDusDG8vACoJs0ouRDUvLBOOEVvREL/v8aBdPJMs/T24Xy8Te24f78kq7SXhaIG\n",
       "r9NH8qi2Fl0EMDajt3f+aK8P+1+oQqroDh1BkeOze2XP29yjuYdvqF0xPTsdADNaIdi6Eq8ZsoI5\n",
       "iKi8v/8JkZYbBF3kgCybRjWaxSIvJ/yojktVKNd6AjJpnyiyyIlNx4wge/ysfLOj+YoxuJweR7s/\n",
       "H/8mpviuVy1e4LiRD+S8FbGDO/hI7iOV2k7fu9zeJIQm0JRNtj/6DPgxoFyB0H9Ai8wzIvGioRj4\n",
       "Znix39xkgz9oNxuGQSc0vrWe/gZliDx7h4IQlNsua0ZbfYmkwAnTL/997RMnTGgqo0HCLJi+LxbS\n",
       "sBQX4wUO4uaoJdNTK1OfavFI4iU+7dnZ0YtctrkVnxTsOd5OLb4ubHFbhF/+AVByY9l/bjKivBlw\n",
       "TxG6rXud/RqkaLlcL+OVgesrBq7kIqDegye2Qlqqrf/INYznXNw+E68RhJ6UU7NzqU/y42I12+vA\n",
       "/Sz1R2mNr9YuISV2pdiOCNYelECVFp7Q7cd5oGv109ljz2HVzhDV7uGQxuh5uGVafufx5pxeAc+y\n",
       "mSZ1krJFblPE//sfenGPVWu0L/VPT90gASb61nr8PAV8ID4FX6enfZKWt1EoCDLXWSs9SpaH5dW7\n",
       "Z/Rpa2I2U1xgVSCxvHlekfgF0yOuxWCF+xm2O23RORXsJ63JOFXrNQFfMoi2AkT05+KL/KJ02kzN\n",
       "zstvCmbz+fz9asn/qJy3YdmM1DBG6Q+XtNBuz4G/cylVYQRykNTa3afiomdCIa4UY9qLEENlXM7y\n",
       "DXuByos2EgYZqPlft2S7KMwtokopqyzreF3RhYiQA2QtNBoGUUz6C21sqyJnHmcV15nhje+4B1av\n",
       "u/AL7TbHsllJVjRVcIdz+6oArYGEqp4XhE0BwKy0iHQHNHbbJCpctS1Vc2x7Y7N8K7o6aZhBtg4h\n",
       "KgVny7ymk5OSKUwRG5GWLyCkDD26N5BRryz/yjAyBALrM0zbAm94wZS1J4G5HdENkcf/5GilDKfV\n",
       "dJyf7oXGWCf53ZySaL2SPuVnzenF+WISuljZJLTcfXXYeKTLYJ9+4rWLuxOSCeUkfKxLUujJnIck\n",
       "VoadoQQm7Nw+kx5sqIkNN/HaF9Tt+VEOjyDtuDwg2fEccprXcH73HBXVsVlgtmSvSXhXQmF0Yvzx\n",
       "C7hd0gqSW5YHHNQBlzeh0p2WIISAh7LoWcofF5t/W3HPGpZkI6e2IwdTP5Yu2PdYKDISyvcI4lUG\n",
       "ETDBTUWzoVDRyQVc3o6CVZPvs/g9O6y8W1cwxYxCPYyBXH17fkByRkyEKZFSU11ptlchPDFuSjn6\n",
       "xo3mI0r/ouzRXZoXU/C64GQ1ouOQ3t//T0OW79imKpCTaPfNYsH6/aPF3htEoEOBmnxIZQWXqb5C\n",
       "Tg4JtslHIGZgDbiTbFkXKHy5fEk2cyiLWx/KJ2P+FrPAeePJfMaaPgq9eWOulr12hAjiyeMn1GvR\n",
       "JlQSYSfhm0DyYYFaLgcyx0l43qpDiW5Gz1ykd1q8xDlZ7cib16lW/HicFSmFQ0nw/Yjt0DLqCrFA\n",
       "CDSC7o5Jr67X6/4SagRVAq4eS/anmL/wrDiIuZN1OB5HH2iSJn6+77SLsKqu4+mVH6PdD1srSpkG\n",
       "VMV0luNfMWttov+MAVCo1YxtTwnwAAsFZotq5j4fTycZihiA5aUmPTMrc+1Q8XsAAyGvOxs0h0SW\n",
       "K/Iy+XcIAHOWdkffwqHdrgiPrAJXWcYveE2x/UWYh9n464xqiur30cmXHQvxxmZ3FTSyRyxy6DHe\n",
       "InQLxMOdjg6j3neg4G7edG+eyLqCtzr6S2r8PZKRS4Ic4nurALFfhHLGEvLZ01qBLGF8tCt8NKW3\n",
       "OkCpK5UDSeLMsGxGjqvgcbVbWKd5Sxl+xMI/TUKvSlLMuH8egNXnMcKng8pWzZb60/ZfjsND+AP+\n",
       "9AJhPZQlczJLczY8fjZTU06NcaU5va4hnWtu3mAuQT1oAtnp0kZuhwjciee9jzJDvaUWlJIirWYi\n",
       "wgtHLzHF/25aulqvsIDvQPpw/5GTpqt1sfYYUAJTEr746XDOgkwYrF3sWOvJnHSXEJPM4eDyU/qW\n",
       "H/AWpZThKHDvEua5TwD+h5jRTel0OEdr8PbV5f2Di0yQmJT6hnMzz/Obw1NpEewYS5oJ+eXjtO5Z\n",
       "i41Sv+0hvyCoAaz51g2eStwTIDvjTw6+Z1waoWlTV69/5mzPnXP9Xhiob/ZwQPIjpdUCWg/GLzqk\n",
       "QFB1OhZott/KvNxB/mmSDm3ZkahmiMdRwZ3Wk6JoKr+KWhW90m8i6vgBlHjgGbAJe8DBKlLxqdiw\n",
       "MO+SLKTYJ19xoHSZxKd7MbAiS6pUtGq0cI0/deiZtQS8mMBQEdCuhtQAPpaAqqsLcqKcExmR3706\n",
       "rfIXYYpStedNy7QOJSzdpTpRzkNW99oUsMEUo/y1aeXK9DEwLl4wAY2C4vNwStzszmnHhHU9fcvi\n",
       "n4FbRnm3Bx/m00OSRCKEtKKVULsgGkNt3VN3zBY3sUtbP8mYcXTvz8v8WBk+lbKbhVkuw9X0wiNd\n",
       "ppAfNTNAcx8VTQu6aE2ArL5gGDIMIeqqOVcnVsV4ZAjRqL4DiqkXHP/nh+pFN/G4tBFUgLsno6h5\n",
       "YzAQFoLYxLn1OkvNYA6IQMpJQIp+PKQ8lDEH1CFxBaRRrE79uLeieWLPBM7mgrGneXk6mVQv9r02\n",
       "iEVgFuIhOYhUqkzomU1SFO1HHlz/2zZdrwaHrAsxLBWR5YV0bnKwolJ+D0xpdmEY99ZOq6Id3Ub9\n",
       "r8PPXgN9CSpxwPMDTLs83tIFcP83xOTbGHHkgBOX35k0l0PmUxzOSjEgDGElpoBNNuCIDY0AO+kY\n",
       "VCc8uF0iDYeRLRR5MXcU47SEv+Yo5QdfURwAkHln9JhEkR+AAdPjMnJlGzCUbJX0EP8jvE2O0ETL\n",
       "Ajk7ISlzuW1tJeUs4Ok6mG76AUGBthaYkwy9+0HSY3Y/HEVyNSP6+s6sl4VNOpvBZ6FXaV3X8Q+r\n",
       "2r1jr3m1woHBY8S+H+jK2k6MRtgPq8gDJMis6K7mEttNgvHFnqjNIeaMKE5I9mLShHuCY6uXBUoX\n",
       "tZefMIOT7fMZ4YRvsdoVMH42NR8Z1bBlOY5/JIO17CQNOPSAIxGFtUfBgrECMTVzEyRI0Jwc6wxR\n",
       "1+nBogq+s+kYGQtZTIRW9B0IITCuvDVTEJFvZPWwkWmMM3Yg2Xo13Q4+OyitcWsd8RunjVQXuIhS\n",
       "v2sBVzOyoCV2OeB1M3Pfrxrces8Zcoa50qhkb4GjiZh87bUTvNccJq9Md/xiI2W5sjNoIJ9GpDJg\n",
       "kD8w+nlCAAW7wX7e3QdeI9VyzFADFcsJ0uNm+KeCV+TRbrkGlDE147+b9j3GspmI86fEd5N8ffq7\n",
       "NTKq1fCBl/0AONr0pmTgCnMqsVhCWLDNFAjc8AAAD4GN9CVqGSCL2mzJ5mRplljOKBde48IU8Nhg\n",
       "fwxjYeAAvaq41rAkOaKZbeYe7moQA+1jE4YLEqrF7/vm478QMddrnBv3/XPdTqngM3c1l9MYNjmx\n",
       "Anp6oEh+Jj9MRa7U2KUuvrfiniAkYpfANnA9awCmcO1/s23nC1L18MjSvuYSSJQpKnmUdW3sGjLs\n",
       "0V7RWRx/9T6LhQTMKDTKQ8JvPp77qWEqzWEB4IvNlc24jHc/rH3OwG6+hLC34S65uoXAN+2aHj6f\n",
       "Wvqqa7KL9Q3cDpcvFGRJv8KbILZkhm4L4e4Oc7FlTSX1RJfyP0WuVw2p/LfGgT3BE2eoShPdyqnp\n",
       "b7L/8+Cve/JMfILF/oVA+I9D/AW0Xmi5hQsVFcNKfKkeHZuyGnTk6GFQMK7KHJprR0DIq/P2d9A5\n",
       "SQefQngt2Aj8njN+ihwvHk7dR9aa8Wh/qpKJTZOpFm2fMDYBql0SlfPS8lYLYGhWPo3YRySvEj4z\n",
       "wGzjSNtcW8jrzXvg7Dp2suhKasJWJvOSiRNmL6T1XWv9HuW1utYIM5utqMflbGYwL6fTZDsV9f7+\n",
       "WURjIvlcoX3puDYo1Ij0jQA29VcIuRmf3dBuy1NkAR8ZcfvNaUUiVKWKCUIh5q+6tKqbA2hVhk06\n",
       "nWE2andIcqV2zfPZrHpiZWBzpA2MMR+26eOXDkE9sY/WriT/aMY46ySg8/RHTfrN1vxU/QGN6sC8\n",
       "jylgWsCZRbKH0w4bp/eV9rYFgIWFJuWXkqO2g50HgqADafweuKr7SI5lBD6Ir7PPHByO1qy4jK7u\n",
       "XXYv1If0GGwjqfJWfe8Hhr5d5HcN2CrS55Lz0hRx4EyxsZyC5va+xl8hP+MnRoaiDTnZPFsWJWv8\n",
       "OWuHrK6UgSQIlKDFVobNnx02u2jDBT4x8Msb8ghU4oGLFIQ0AkJxw80mXjUTl88sUsLNEQxzot2c\n",
       "6qPtf6p2Fs5mmVCCJ5HFrp6XnB/PKSyVbqpQ6jFkyRBWgUIupmDMvK4Mifd1yZngIKDUciwAca5i\n",
       "OnX2IA0w+I111Qadw1uWCQQF8y1To/ugpfYk0rcnz8y9S0M+TCSGI3VUrJLYxJhuFXHnDSIwcAUu\n",
       "LGp+yuLajQlN1g3GXNUIQiJZwzGgpdCbTsPN6xYeyxw0z0yUEkAOnLfP6EHN5uAAE3b0MvZchSjI\n",
       "9iLjXeZxJ0P7vl81/KHFOS7gZb5jasVqGrDEben4kVvydkjiOWBMVo01Y4oxFhKHGeX4EjzMCHc7\n",
       "YGaAA7ZOp8TVrK1C/IN2b4gSAGRr3Oc/rzVLZ3itjxO4k0wSQS70OhsKS67NiIn/9n1z/FMGf3Rq\n",
       "F/ko5rA2Nma6GAm337dzdOCozz3OpQPHAUn3xpvdw9xuoi6Q73YaNNveNm++/LRuY3KNIdpjJ0k/\n",
       "YbCNCdlQ2j88W6MI7KPIpf2lQzmFIc/cFt316zQ53b3KjWbKT1Pt8hc2W3u3SDWGFCJrIpQ9umK5\n",
       "34RGahHYLrhXtpEel9rRp4u/505fRPM9fcVo6fWYjkT3DejgJmS4swkuMSm4hvfDUcAjHiPxo3bG\n",
       "Jq1pQgChtEv+paNCXAZHPU2D4Jat/mC+dYwUyGuI55s1BCq1SRDpzZulx8qDqw4U25fYj/aULAVp\n",
       "q+DJbJJJjLJbSUM8xjs3ul5/a+Y+JwO1rugRgRpfil2MeSVtnU1spijUk+9AsHTjyvadFeysX7Wk\n",
       "etdgdeW5S9DK7ZlEUco59ZlW4EnlJk5sx9j+a8D+fG540lpa80PzyXbxgdjVqJaQZC+TuWNwDEN7\n",
       "dCxzbSX/nSD8Oy46Kiz0BJhXfZfYJdVKHi4Pn0zfUhI/zN3Zfzl9Fgf65X3gwwSsORWOZZE451jx\n",
       "hsrPu29rgl8JbSSf0vOxAAAF1ZpyZDCQysgOA3uBWRv7xMztaC/uqPj/tHeN08u+T7lvJIMVQ03g\n",
       "Lfc4xuB2C/6JDdCqSooC3G5z1wHF0kJk58l7N9b3uoyqMN5dH7UF55/p/1F5uFUPnnIMEV/jclCo\n",
       "JIoei86AHLkgISck7v8etHXZvUOveBD27EeUxeExQwbiOSNkqPPMCdzyy3W//lbgyPhN0rYlvhia\n",
       "5MmiA9zYQBs5U8wNX8wfwDXRU+FiCOF82N4d8Xf+BUr6A1rcRh4QfBWNhgSkr5Tg8ZpC+EQYGhec\n",
       "+soVxemrU7lyPOts+/1YPGuAUXgXpvTVHzGPZsZ/5iUrXCyc15MPoziALzxO8i78LusyQHU2CbWq\n",
       "ykso1XS8lHFPSIcNOO1m/9pyOsmyvIVsRRnCjiWFq9yN+pcpxr6HPZ+sb7BhjqAMvcgNeuyXMHHd\n",
       "NQcI8xWMtBxHZzZQLrTce5gRA7F99HE1YY8sSJI5wZKSL4MI/FYbUxO5tTy2SXtUcJL1SFA3I4fM\n",
       "+ZMDGRD8cQBTvIz0b9hLucgl9U3yRPEgX3BJLtMRw5zDovo5gkVn5UJ0LMiVOPR/C+h/7WSZFTeV\n",
       "YJVzlUmI4ooHzYvszJ7DYmLcxWjlFLmKVrK0k1w5ghxWRVYovQnsvOyQNcCXaKMUwhKuefoX2l4Q\n",
       "/VCy3CTOCDP8AAW0gGbX02ExsF2BFU4U+HwX8QkK6snu9rZzYAaOxnKwS+r0fKWbY3trqHdEgt5j\n",
       "KH6ckwwWdLtkHt/jPB+GH1GFgDyLl6ADPR6XUUBBRnjuMLijVfzrMsqN/12dLxbM4f3VvffViLKL\n",
       "tdyv4IB0VR65G3rhTjObwoHO+MaHjaekgfzXD2qj280p/M8v9QPy2/2AxpfBRwEKg+MSgzU8Nzpn\n",
       "zO5lSDkeWfQvxV6iNPbbgvXp5Hj8guN5BgmCATnnPmp9G/JRHl1GxDS8/a4BYlOFjgdwiCZIMCfN\n",
       "GP5hVU9fhqpfMM7Qex/lkdEnqKzan3sFncXVoIRV9jvNVuTFTjzuM9D2dQao53p9VEuCt8FhdmNF\n",
       "NlqTZTV6bzJwABIlCWgoaeVoynA0miwbKwKrZhV5WOz9mFoXW2+vwPfGfCLwzFuQjROOckdWCayz\n",
       "3XieE0uI3ZNhZ3KI6+35ALrQQLyJQTKnPI/y7HzoaLYyIl6EFtqmMgjecjplxEb5HcK2RuUmDpqA\n",
       "UVj2jjHKvTS2P75vA7aGXgFpmfFdogIssHfjFHRFlhTd0KVdTrVCJldDjzVxEho4ROfbwAz6JooP\n",
       "l2JWgE6vO2bqOXcEMXqAwijvogjoiLN6W8pUu7NfwHcGguCfKtzA0WbWaS00j1pOF+FatXuDUhbG\n",
       "92JD8AcIT3ghgLk7k7u6Mc9gHu3GAPNB11CORdkXrK91g008X3TNd+bO9EmBYZ10jqKANRYuh+3l\n",
       "JdbmBPYHLUfQoRYXB1wW7k6kPX3yZ/H6kBtH4OKhyxUA3zcfehX//CntLEeTADMj8set8halL7pl\n",
       "vecV7maaOjRNKTky3qMHCjSke8frWSYImFJgB0iq6iKw9d+v/wCdxMKE5wGDhHFHwyaS2qWm6aXd\n",
       "k+fiL3jIO2qf9uj6RTShUV9ouEsSyBKYlmvik3Y64UJ7gHoo+StwBOD8g8M2zUoS2Uv/BJ8cu66V\n",
       "DUWP6ghO1J+ah8+Zq2Lys7ZgoOYACngmQLqAAAADAABJQQAAUuxBiIhAW//+99M/zLLr9zm146j3\n",
       "op4mX0N1JQGblsTtOoAAAAMAAAMAAAMAAAMAO+Zq2OZBjWzTwkAAAAMAABawTOb/wg7/xAHKFTRo\n",
       "mThwq/zhm8A+TaYeF6cHQZRdgJ61PlMTgJllPK1QVVY3AXbZeiut6pdNNBhqEwaSHluIT07hSyZG\n",
       "qX7h9JWZmJNyaBrguZTOmLzyK+x2TmlDb9ePIidItilXoRoty7He0CFZdZo+xT2f2e6gJjlapvD/\n",
       "tOmxa7B4syA5Nfo2/c+1e2ltT1bOVthm3x+YD90MF2vo9rRiLx9DT+fCw0X1y7Q2xJzE7wcOLskx\n",
       "7rlXybYpadS3gwQy8ZCoTdolLnmGEU4ei4Bh7JwCYWAgK8mP45d8sogxt9cKae3UldRDG4Xd+hCX\n",
       "N7R+i8dNbl2ww6+V6DEnEAQxdpnGU9NK1LFSarMTQrzumYsXSSzSdCTEWvgH1OAj/frqdnfBKwyV\n",
       "4/yKXEM0qLwFlzGq9TDmq4FIoVeIRGGp7BFXYyxyGE6Lw2HfanDRWfTeC0hJ5dC9b973ufBbMqCd\n",
       "JcCyqwTMZasGvn4gnQKCL2PV1vSHAbfnMxOoPQElR+4MKuZviNEqSvsEde3KvpbJ1NSQqz/6AEUY\n",
       "J8VUspSxOPTWDGPxSTQepIiFMMK9KkuY+WHA16UdIQ5AtPGG+O/skGyfgNC/gbg41Mj58yM2L0zP\n",
       "CUJtPVcKogDK/8zbE8NtOh+pS59zOOLBJ1sGxaoV0A2aoLUj5bWiwRUkotph9fo8p5vy3iGJkdAF\n",
       "Y0CxwEiO0/WvzchnwXIhfXCUUz9sa8tOmZ04IKU/0m6lkTGLPBjd16Yd9kPevj0pIzyToc9hxOrU\n",
       "HEAUthy1g/I+QegSf2ZArmjZii0UAXmLmOKb0joZ5Ln83ec07PDPm2ONNUoQryRk4i3+/IpPxCvO\n",
       "cAk85vetGBhoYdd7CXmIcfnrlJw5tso8YDzdLGTc8d6xjgCs7h/9z4MZencmFAZ8Dxn9/uLacUZX\n",
       "lWUQYFM2BIuVLGeOrlamfKIeadbIxNoOvkknWJM1DDK9iyYs6plspwUSHp2NuX9FfBZHhEkPYi9/\n",
       "eWZNZunaSxR/acoLhJkylNhGeHYfUIX2F6oIy3pdO95vwU2TCSiwY6GBhAYBLIM845aMncD3HQTV\n",
       "WVAnRixSllkIGOngd74pbivOTXxLHxLcSQYKygeREABiKu0Cg2dstMu+Zp7jjlCLMm9t2d32Ra9O\n",
       "8pqow6xw9N5Vvwmp9t/Eisp8sd94mmKSDpjW7EFFovbhQZf5V3MynugcjTnj+4fuHg8zLCkyLYrY\n",
       "tKUSCwDcwtywG52RK0asJCcoK8LMhiT30V1UsrF1U/0KscJ46dJSFEQdBdSYOzMjpZqD/ZjqMWo4\n",
       "Deq1KtAmrGhPbChnlf20LxJK0D725M4E3YU2RFT/j/P3YYGmc74VavYqKCEOs8qTePzMW1yXCGrz\n",
       "yAap2REOM4PymReAX3256EBJSynl6fCf4OngtkFFdrVVS23tI0FramKNTduEQkB67t1M0TWEtKv0\n",
       "i+bSbXwPAqODbVssp4sXfNfOaT6eFy1wX8Idt4GR2aiLetGiqUNjqArxtjyyXj2sVw+u0JEKBWXp\n",
       "WMEi+kCbJhaIeJysC0trqtOu37FxhaHlaeFg5PGlY0kOfCblkWcnRQ2pjQuNax7wzvz/pDdyCEOh\n",
       "twt9EhKo+zibEPLNN63MSnm6OZ941pH/SRA09fBVT3kmI+AuDWP4czqtZsjalPzNwFegWQIvXHHC\n",
       "t3OWP+UGodcC93lhsrYLH8ameMP+5yowHT0k1CqhpThADv7q6aFF7rxaSJkOXx02qgkxw0hZJ3l+\n",
       "kXpEGzQKTWISZLkq8s/aBRMA/NcfYoBVRoAYaLKm6156Wxmqiic+HxFzGObzovo1rkK2cVcxqI8n\n",
       "Yom0yEd8OVLNvZDMv9bEnEW6rmGFBD/JwB3E5eQ0JJeVJ+5b5znpbO1ECN+ATXIPSpNU6MOxcc8Q\n",
       "sAjZ8HnjKjzgVaZ61/ioA/qZPBUKTBDnM9gb+hAOW7VVY0Li8kQLi76oB2iOakbnwhgVbcUdtBaf\n",
       "TTVBO/YgL3LD9uR2RmE3ShVi1xWJyUNaua2PqEyvaYj3FutE3hIXjKc972AGYY3Rf3DYVxqWnirm\n",
       "bAa9HDTbcrmirlvH5SdiQy8G4nwzZmHPcaKcRi8RZIKP7nIp7oqU7zDrvRm8sXx58ZgBl1pdWSeB\n",
       "Wt7eQrjOUfN9386ezOaU+hJafe44cpJVq6LWOTaqiEExVf+Df13KZwmGglBzseAD6XF/PKxhVABE\n",
       "Mgdb9WbRSqVfhUFdCnjDwtvT92B8Rib1Nkb4WJPiR1sbbE3CLXCVQigD5RRX/w/k0Vk7C848IMw0\n",
       "ubLiySiu+w3Xn8iHbECXRctOgTMtyLTL4KNRtQXDIDgw4XqdgNkXEbVlGWAYEKvuhks4nrCyEaXn\n",
       "Yb9H8WF8XD4+eRuQnNfZqM3SucSNgT8ARkBf7mzfoAtdaP/MzUOvUzrjyBsUuDHsnlWJEu56WHm6\n",
       "0voHwr+kGkq+L6Ycr/rrd4xDJwu46KbCv1DD1zZdPTUaPQ3Lr77/R4lEu8bBiPQN9uTfq2824bGS\n",
       "gSem1yrmryWD8AGYqlMRKWxB0LrDMGfcQs0Wq7AzsgC8LzeebJH9/VlNf/VhTlsQn94zt1nv0Y0H\n",
       "Oq7wp6tq8RdsHN4L6QW310P4SYj3K2/eDPf7zOj2kDgqy6nA60VuiSfcbNlOtuT3E865rhht0av7\n",
       "FpDFwDnCdGHKMBYIdCYZznWitZA8TsE10cmuLwijcb/zdOQXUeSpv6zz+CU7YU0uXADv9Ed0y9xq\n",
       "bT+sp4soBVDgV/+JJiHBIS8CA2m6prOusGHthc1fr+BRjP+Cp2iKPjwyWkjMyZdLLukaC7GXv81k\n",
       "CDcgLmdrYZvNHLXk5A51tpDBlFz5jO6Jf20KR9yRcxTaDZfoYMx+sx5R1qB0GhoIwh+LgZjCPr7q\n",
       "hbach/G9kUw6JSZsOpQRHlifgccPUpZiDBS8Ct+aygaFqZVfa+jpTDyJJwCNnT4NAPzMC9ftbKbd\n",
       "L6tVAITi0T9d7o85pSPJXL0EgatvxgSaKb8q2GsaloUIWML8KOekUV++vrYNCKeDbgNtD0mG5au9\n",
       "W6GWQPkEEs5pVHXwNvZuUNK9Dq2xiwvN8wOCXk3+rOkUhyUQ3/hVX2LVCfm18StTwhuBZi7afYXp\n",
       "dOxpST5lUCw1C4TVHzqdTdD0E/3gmxifpI4UpABYNH9OonPkVC1QY4c50eVYIvpkg7HF/wszUxUL\n",
       "lcm1tui94NX2CDKy7vmwwXT8TAL+bVTPK9WtGwkitjvx1wMIhgqGVoOlNV6C3k2lcZ6dX+h52PJI\n",
       "RnVSyXXzPxPy2sDx+6MG/i4diNUkNlr25S7Z8BtH91o/ZS3Hh8UVGGbypLqfYwQuPr2PYYNoDgUx\n",
       "9fTpGv96OHDqkKcz1umONn2uKimTYMJ/7mSOa1FzfOOIc9TAyaXAQBfZ5nTQK9gkDpCA1pOCTv/H\n",
       "qeLvQiJcejbyOzjMgm5SO31OiQ1Ai628yN61U2RiP5Y+I2uZjxxxQ0RZUv7n4Yviya25Awwlhuu9\n",
       "ulJXScLKNY0oJr0NfQME5uiSNO8YaXA1l9T6Ab3PfomLjux4QZERrdGraMi3iZ+XkoXw972ty69z\n",
       "e4mc5IwJBS82obDLwWHqTVb9Z70Pns194auWQEx5iq/D3/Rh//0Codl1ldVaFabMgo8R0BUUkMTb\n",
       "W03amZ2OGmWrq+mhANLMJOPfN1donCzdxJD7GRlUl5hCOcFhyL46dfK0pPKtGqWMlF7GJTng0/9P\n",
       "doy3Jr/p8B6NV2cJXd4aTD1vxeciKXN7GDTbqaazP544F/GVw2sHBEPS2cR20xYcxvDmSccCGMK+\n",
       "O05b6Jgp4EwK287F7hWLNPZePY+Vm4pu6lFFOx3nIGYh6+HfECSnKHdNZiMiSfzGV5tSKIzYBqYz\n",
       "89cf/F4aHnmU+1gP723YGWw/4HmRAMiuL+H6kLa1IsaTyMQstcd5+cOjA0IPvdzCkV2vx2p/zCLe\n",
       "ujK8j6PSxjBn5zIKHh3RMzDyitNdiokEgrweBXwS2XFzv7Nph6rNVVoCTOEGlF+s8GUj7pjlSU0P\n",
       "L5YzxWJ7qyrgvFLQZNMgYuQBb/q5RmfpFruaYi2S6Hl550/fr75vYWB1YiljRFrK/G8Bqvh9hAgk\n",
       "rvM2HxgeUAgsNY13eaxstlM+MawRivXozG6yjJNzJNAEuLTAOJXc7LHorJ94/pq05i6x34I4FLE7\n",
       "f4v5FCV7yAkyTzcScmt4ue3Y9ABN7j4rvDldHmO/x+DLTmny8KpLjuLVK1fP2SvAq/ADgaJAY0DP\n",
       "cBEqJfb6rjNGMWbU6NPv++npMtDcbt/fVOtM7N78JLl8nXKTWcvPPM5F/hru/0a5eR+4LWLzIazj\n",
       "Wppa1PyYYM1OA06GLxbWBBA3n4O8njkP/7QaWmu1x/T9S8J7TiYkRIWkXVKdg16xL5FblimblKPP\n",
       "og4us5eU0FPqX69tjmp649CeodbujEjKTIiquCPYBJ1si/9qH9/e+9Fo+kUUoC2x57uljPOY1MVc\n",
       "XDolQd8/DI0teaXlDCak5mFuvbIZ9c5z0VEEnS02/tKy/VsDQycm1lYNLgYG6tQHdXq70wt8HamQ\n",
       "UjJ1+ErOlupU97VqzZcvBcCBzK5Lrg5tCtwchhiOif+quACoMh+fOE6XKYNKqVpv6i4/RLm9Hl2P\n",
       "kLUbr0T0qQ/sFu1oNImDOGhRoLp0/CNVqsFZoPktbuImiQGvQ9y45HxFRyjlCu7zVmxWuX5rxFUf\n",
       "f43EmNbaxdhuWGiogrETQ/llIx+d5JVP5T+aoSbaxDnEGmTzsZlepQM268YS5OGugG3TKENqyI5d\n",
       "Eg0YAnv9pXs6hU68OGkVTaIhznH7NwaMJQbgEocwcehuRaIY4oed97K7q72OhoKcjqunNmF/f3a7\n",
       "SZfmu6rfF/b73M61szv/5fPcnOfLsezozSQPDexwJIjnXmeBe8Ug65HxFKcddLqndE94nHKeF/oi\n",
       "aZLCvYAbLE1FjE0kKY1GA9zQlIqzo0mycSViIgT1WwFnjuSHlqCZAwBXRa/TvxoKeXX/uETZxxap\n",
       "Xz0aqTE1lZPzlgJyD+tWqomd05M0ERIQVX5aLqKiDls/g4N/jvQK9gYDkAzfpc1qRqhtbYvNqK9p\n",
       "nFPyjcEAyg6dGr9xOkxXQH7+oiBTPL0nTdlvczI2CtwXleya8mDPWCO3DG2oZFHEAjTf9wfosYeH\n",
       "FYOcFZ8fXmxUJ7z7uxJKpT6xIfm6buILKWBgdIWs0kg0Kxr9+rGLsB86otrHvnZMnKRBPvghwdkz\n",
       "WucCIh6BmzcFjisEb6QYKbvd5aEmG1xTL7UCU36GDdcvVnqOBPSkGTMoRujVDDWKdaWB8saADWEf\n",
       "idYXkoaCJ7bGZ9uEV/643/TD6BUwlE/+HUId+qdYzK6QBahNJv6737xwdxHw6e0fO7InW6WThIuP\n",
       "t38xfJ+Aq3ZnZy2JGuKZv666L9gMnDlVVHCwbwQMDs1JQzvZouA5fw9i9/ZP97PzNTUwhaEvJmlJ\n",
       "tj3KkvjF55UeaukQAAbzRrls6t/fKHSGPDytMOg52izddxLf7irCfMTRHIJ4gFTyYLGE7vx6Mk1h\n",
       "nBD1N52vgDt9wRHMiIm8ppDR99RTtggXWo//cmtn8WN3WzvZNhSZY12W4wULBKi0pUQoM1iinFok\n",
       "zo/jCs14fRo11fAQC8S1i0BkKxgIVKYmJZS5O1sfnn/m030n6D9C8Oea5mp2TWxl9h4vWSdjeRW2\n",
       "/Syx8K/yj6y3WWS7FVti9/vDfbbktNucamRKv6WhIuVjU3WkZUMpoJdHj1JeJeD4WhtEn0TZnrmX\n",
       "bCyxe6t0NlKOgNrxb66FlkEGNHoIOc0mwEZIjDkSJ7NgxyJ22vGCMCq5AkX2yu31wOSYJlfvjTPt\n",
       "QSZYcdRm8GRxshtvkBGWwU78BuYtMdNwP0OJ/oMhacp837vVKph8ATMJ2FcGeDau8OiXg7H5xVvo\n",
       "mjZPI7MP10f9KtdrweBLeO8Q/SBsR9Ra/ckt2L2on4N1uDqcGtZU9QmOqxIWyjBmxtIic1LBinIf\n",
       "QFbkMhC8x3zp7B9GbCQWauDfoL3/43kAzlKEXqVVFA6MoEkc2j2zaa/Lccxr+Y6xjoPJIgNT7ipn\n",
       "g3DOKZ7F+D5ae8No4WlnPDv0Un0nKk6MDC5VSC6DSPxBOmQBHwfnli801mmTO54vXCmN5cIZIHeE\n",
       "GNMX2g5Wk5eFkAquEWrBmt4OGs9Aoy9npfTqMTjTWCWnngqLTm1qZqxkDRIuBSmk8zfdt5q2vYxc\n",
       "MteguhOS5VU2ZMc75uclKhGImjWtSP0Cve+StzB1gxZhCrBK3bfaAYO7XsPp1F6ysBRAB+aCk/Wz\n",
       "/iTdKmDBBm9SkukAx4uAKBb5HIVik8UNk8S5TCAToQ48bwf0Edf+6MgD6VkquxwC58Itnnhswv66\n",
       "lI+A55xp/zhCrOGqcBkat0Sx5hdU0kFzmzjcuRgL/7VVGSczBtjVVlG61NYQglUUYfXMFnPtMnJa\n",
       "dTQheteBY0XPx2LSt9I24jYhQRP4vA3YXsjCskkxgGJTilBXcQsrNmIKCYkdGM9F68XUcL3nI1wX\n",
       "BYN1Gyouvo6REXdwlXPa/t0kmRe6QArKRz0ocDeMmovjruC86Yd98gfJVE/NZErv2Sm/UrRUORKK\n",
       "F0ezVv1y2NeUgxgBJ+rPdO3hSRAPn7yLeMfynN1SZZUxckLv0vRppTqG64QpI0UY5YDmus5Q5ft1\n",
       "+DbhjvYtKjCcgmAjPyHwGzMZySCZf9hyrau84dkH68Rp9Hu1cdaQdqqh2fNNzxWGZTvS4eeHJS6b\n",
       "IjWXlFUJBGTfXmtrac0WqqhfMPNI2w+mqZedXlQTtsOgOiqsEzFw0BJJLgN+Cp4YS0vzNqFKMJba\n",
       "thCv3ssKDtUJZ0CWYX5BaIxT5/2zNlGHtYvtt8w/mprsUMAAX7X/mf9EpCPar17hMhpjKBTEkBmD\n",
       "ou9fQQOFTdImyxr4Zl2B4qd23ySZ7/EOIVUoHCmCH9bED4sWkFu90D9t+Rh2zpIuKt+O3QNjDEsn\n",
       "5yrI3aDVQGi8zGlH81YWpvDqhcw5ru+0czu2PZ5E+dc/mkcvHKnTtHm7oMYBKPhYW5sjoAhH+aBT\n",
       "FNKp8rf9ENtOmsi3bR791s4vlGhwxd/hTuOIXOFDKv8b/KBTJwtDSmrMPQh/leIV8NjG044M2gAx\n",
       "8BEftC7xjLI4oNIOKDXJxlFPULUfV67vgg1JBxNszKjh96IcK3fKsm0DskFKCzfFXSfIZLOqyGHG\n",
       "mh4Lxlk2U1KgAiHvKw5rlTLZJZd03498/yfs8bUQTXVX8YUi9eLi+KYpblfMvXbWqE9ugoHfICKn\n",
       "3UuDGM7QF53JO0lGn5BQcEQb5ewTn6/86IVQLY2e6mD57yBGaD0IzFeHkdRW38XoRK73E+fYPi09\n",
       "XKghYw8t2CjO5ApFrIa6jWd7zgESeUbmxu2w7r58h2moO4S86CVMv2N8OQnc2xE4543rVUMTYuRJ\n",
       "PojDyXbuUaG8NLIOaPosD4dK6Cik20ymO/o96fFJeSM2S72VciOnk+5uYdej0eQTDcvRX0jg3rhd\n",
       "LvbGnBHSdmKBmsaf5RvUa0kO0RKXa+gxxdeQLQCrgJpZucncio4BprnlrIHvmsKEFU+tADguEp7D\n",
       "qJSWKCbQ0VraZvYPrQzKZ+6eCt4N9rczaFwKlPZuXZGp2rWYfT5h/q28TEfPJpvf9kgcl8AOLM1U\n",
       "pjPle6lMJws1gjg1Z9CuycAyCrjBdO2Tn9dt42zbH6/IDBrz+R5gi8KlkFkxuFopCEO4oJoACqrr\n",
       "Pcc69enD0NM0HcHHZzAkaGLtMg4sgbj1XMA7jwlaYADc/nGCbBSST9GK2ZkdSKl2fzfq8PgF1ZNc\n",
       "rlKg/F5HxIG7kjwOOz6WX4yaue0oczNY+Qq29o8gVUP38S4eUeNMhkPy5t+w+6HVf9wQ3eIVh7/O\n",
       "gUrmbmpEWXSTTcbw2oxSx8HGPpU6uoBCwmd6K7eOFZC3erwP6wzImvEnAsQ4iyASaGjUburdLtIq\n",
       "Dzqu2LH1NekGU4hqsAtF+WD9toaal0wMLjwNneDN7wfCAVARpo/5d7aLYuW6Rj98mqqSubbB3aN7\n",
       "48kjvYqvohUe7o5b7/C8wz2kI2WTYRjVqi+PFdNln5dQ+2nEsTN479Wg630/m/7Rpdtj8P0Hm1Oy\n",
       "XWvg0ZTgqE3QpMBG/gQjfPMZz9QE/4IDfRjq0lM0Bv6AAvQMKdLNVBB9IUWC5qQBUP/3w88VQkfC\n",
       "sY2/5HBof+gUE48Sg6hsti5QS707rB1yLgPImNp83pNKGWBsQzGIIRL3CPRcrSJg3/H1HCxInIIr\n",
       "q8bAR8UVXZIm6MEDJ616ZQPODa2nmLyq60VdtT9lRWV/i8tyRrEs9Y6ipL86FIO75QwGbIpvMAW3\n",
       "ynK7mhydNf+OALB2O50XUH0Rp4QSTS+FbY+cM+phqO4mErfakGy7ZlD86m8zsSbJ1Rnf4TJAgGpP\n",
       "vj9fjVj8GSaEV8NN/quqQz9Ki58AoJSXpRtfuA2JACqXV0czcIeguYCe8nSR+TZ069hkQPOMvU/0\n",
       "uAEmwKUcJZJXcuH9TtoGBRrbVTWGC1Kx3+elZC023clRSir2Cv7Ew6Pgc6VzgLqPDlHdvYY6H3ll\n",
       "7Ske3kScSo2MhVvCqzluRdL8qmAQxnNDghMnCNHfId+0uBQUPb0Qffq23+ZXFKnszAiRqYLc0idB\n",
       "M0ta7gADroajgIbJjxfJNQsgyHYg2Esdvw+CDJIdvv/hAU0tIEFlofm9DTk8M0kZUdQedJOAYei0\n",
       "agKXhkDHkAvG4tZaLmZyiBHXIGnrJMdctRDiLwtYC0CpFAdGJf6KIqcObYmdSTJykB1sMKV7gIb2\n",
       "yC+1xa+MuwOMTzOC9YRCpn+Zi9exmUek+7RKonupPSU1ygYKm06niumAgPciKkO0qpcCxrDsYXxg\n",
       "636bpy7hz7/rcq/TD/Uuu1Im0SYsjRn3gIOCWopDXcAUPsfLa7YsHYr8DM3R0xnwMJCAKdygA+ED\n",
       "wUV5YagUR28td0tm5lMoSRi7Gg2QuGXlgeLhqD+HozJpEHzcxJ5sKboVgMoUQ1J0RnvnvkbmznUW\n",
       "ZLBh+mwe5GaJ41jN9KDt9Y32pkn2ag7XLkTYUq3sgG6q7OHsBl9cFYh10Jm0y16IjZxI+ekbUMFz\n",
       "en3PolaVDkfdx1TQtcP/q0Jm0G1fRHJWiZLRnfQkBLyhXgQCh4wEq4hRFOaoTi+Wf0wUImMm8K0J\n",
       "9OW9SxekYOtYPJ8L/yanTeHaghBuGPoAMJDU81XdKqVzL85oOKAkFSjsisbFxqduNYfahloQ/5Rk\n",
       "q/FnYUo9N+8T8iA/6yvgaHrZSpnrxVWRY/omFeQz9S9BKZ+QZST9wCN3uDqm180PEKP4o2SNrKrd\n",
       "ujgfAltakjYciZkU/ACo6HDoz/9Sb/u6yIKhfkrB0GkRxNo2trL7kGtAjD5lsID9Z3oSGV8K0mNs\n",
       "3pHx3TD/8xhOaMgDF4a+xnOHf8bK7YJLyluIv0H20xYktAZQ9LlL5Lgf0d2zOBwylPd98n0iSg6U\n",
       "FiA02hg/2Wdfvn2UDU1yEbXHcQGmSA/br8AGsvxgp39OCp+8A+3fG+I3wm4AxIdr8WEq2YZvtDcK\n",
       "KgN1v2uL++6kyxhFO/E7OrDIBznACw9IfNdojaqGbvVKEDIesIy75DEx4dDV2v53Vz3WDI1JtiHP\n",
       "U4LHcQjWTyUANQ9eTIOcKfKSiFUGHk35cOU0fXhuuWXedh2iV3y/I4AFN6TokSt067/euqQONIiA\n",
       "YeDaswbvT+134d7rXVdwRd+nS0h4VbnMqDFpTUR0qFo+CYUtXoix+H3dvmSZ/Av3chP9ZVEiX3kt\n",
       "0gdKMeHnDjFSVRVqMkybAbh4yO7zqKlm3fIfA+u+BD5+aXmUmRCUFhXTdFJ9nydkXwG/ZdEFtk1c\n",
       "5fCwznYSM5dIlHWeOQ6SIuAWRgxZ+uGMt73QpXa4D54m3w4TsPB277OA/OYqAOCEJakEYRpQClqF\n",
       "2UUh96OGbt8kGxPRy8gCNce+VJADPqDKJwYj8VZtitkZbqW6xQaIuW7lmMla/ZWzpK3DbtKU2L+1\n",
       "jetMSqxQ16n5Sz/8o87L2CwwXCQheRYAhLpEr9qBecy6CqpeTwYkEFsORaF+SCJ3tBCMXzrq9mdH\n",
       "dreaUfUauFYA5rFry51/Q6H/5GXefKM10m1aquPONuI3HAEAEDdkFHYqyCvrbLYTIyNAxDEfH79O\n",
       "V/r383mflRclsM2vSJz5l1uB/t2Am3gqW/kdqyz3v0XrQgXaE90PhY/qFQ0aaFePz8mhDNLHZMAj\n",
       "0nwW1jX2XFL0WJyd5VTg9wlM2OlT9coylukuuJWUiI9eiAb4levDood+h5cp23MBJGZxSubnJduX\n",
       "VmMQukgJRMxBShYTl9Ippq9vkbm6++vxIMujvz6s4UB92femv0T/ciL45h724Tt7iyLAOml+LV+X\n",
       "LeMbaDC6cL0IFoRy4hEYKBjuuZEa5ZLOr/sOmGkSJPBQEPS8nPXWlhQoKpm7XBDvFyx/2d4mWBtF\n",
       "AzR/0iv8SSQbPj0m1SsfWKXLeOlOrMrWNgFeAaHMpDtAcSnwJcfVYxRYsFHdXcQ4/jnrvYg2OVYR\n",
       "aNcb3ZYWr9ksHPK42GY7RLtosgHwZkiRmRlWESUZVr8htzT0P68SIaKeJTN7qwY7ybW0H7mqgPSZ\n",
       "Qcwm3NrclX3LlKCUEV7alvHUtxx8+AH8ejjluGYGPVVO/18gRugjZJlk1rTj6n15H2jZzByNuRxO\n",
       "I/zAjLmApa6B6310BUtN14hyAsn+lAny3VDQQ0mqo0z1vjgKFPG77nnj0j5E/n2bRNbO5AWe9IDY\n",
       "6ehztbEQXr3O0SmACIkGcQaZiCEo/v+v91VfvitfSStXz2CTTd2ZZxVQ4DhCsTmTfSrcB5L+4FUF\n",
       "daF+KMFuZ76juvYw/6ZgY4CGgG146gcWFzZ2W4DOTHEKe4XLEHyKgQWy+Vj8LqnTYta8mnyeS+ZZ\n",
       "hldIchiWi5s02P/2NxcDpxLmzYsvvoIuN1EK6vHvx/R8sY20SK3KEjLhvWUuTV3x67unBH1ZIOsf\n",
       "UzXAjJQp6Zo0PNnpY9gxeplv/MdBPVdefstCf/BPvg2oaRRLFwAfKOOSYvq46d6LRWHbuOT47dCB\n",
       "vGucxgtsty3SQneOQGIrbmpC1foiaSFFj3HFRN3O1rLr5UReCzaVO5EjaHHKITd1l1G0vbHQRvNY\n",
       "+AMAcMSNtKNxkLW2ILJ0UBDLbTyRvuQQLyGf2qkgVhwegPMzWufCJC7rIQYMIUw4hTx8Yn1FiqTY\n",
       "NtYE4pu3zXrMVZigvM+pVrhLyjFgcIcNjEjzRo2hyrDTc4P6XICxtkg2AZCsSE/uD1H2PwQUuCH0\n",
       "qmXxpW4kqWXfgpVknntcs4A55OWGpQCtTldw8PTkg8GFpPgguuq9AJ3GIF6t8ad7p2fnX7TaoWUS\n",
       "YQ+Be7vH08+ykJhw4hq8ZS8jqG4xxTpqqhe+n/chZ1CkF1YGmOpyrVT7ELMjXlCZaND2QpU8Zbc7\n",
       "B0lTnLppzhEDEIO4VJg1qok+rZmWbTbFDCx2/xmAUpv9ZWbeycWY88risx5rsK4754HZ6+8EQ5iA\n",
       "q1RuV0TqHyOqisES3J5/NSDi+1TMWFPJ388Hfb6gvWYI8pE+4XqF+xe7JwZRJ1Rx0T940vX2LkXw\n",
       "B0BZo7Mbop6n0XNqpRaqLCGtUIS2iTKA2IsunUqFbhE/pqHGl0I6nRCwTCyYr0EFDDdypwDymVPh\n",
       "Z1JEF/B/pztXVUvb3vz9z7S8eHFGPUFTRqMG6lEtoRlbg6qPqODy7Z6/jHjEOXe+zqmW4Y8x1Iic\n",
       "y84r3jnG05iRPK5TIcWX+1JO1yQtasAU+oKfxmoKllIyg4QPkG2omqSSXVmmOQpUUPXJ6s5KhRB9\n",
       "KZPd+lF/IZ06H5oZczH1GfuM0FYoGK6BjKErLL7QWL8349RkZx8Xy3QKhmSalLzKxIg1McB0l6f0\n",
       "SPpuEACtd3Te/oLsS8Jlf03B1sDB7xWtUhLD6h+YHPD1SrCaW0BI95A0dQ2rub46z2rZZVcZ4o9H\n",
       "IkfNHtHdLOfDxQCPEnKhO9d92kDzP5VpzqiBSC+rmkntwrKP/OqThhz8xrBaQNeuUox/R69kpxGy\n",
       "b+Vv60t+yYg7x3tn1n2kKm0ivH3zzd68k1IJZWkxd41+3zIDKG6QH3/43U2kXeJHgGFt1hvNEp3P\n",
       "RdpeG8M1C8y48xOX1uZB93J/wAudyd7qfYAACkpJ1dyMNN7PbFkCYXFUolR56V/UzCvmEsH42ea1\n",
       "jwxXLnsz0J+be72i/gKsiTob7zoda6HO+ZibpuBM/rKOH6CVG8fxcSRJ7ILNIleXaWq0vxNdVsC2\n",
       "d8B5A7OTUFbDGldmn7/JFqo0J5e3w/kddpKWmamsN4kuB67JLvnE+U/PKyL9UMB2/vma6G2R+HTC\n",
       "o/y7X/IK+vNzh6ZTtNourVTBP9iyuncfEJe/++2NUS8qJqwyDcgkj9E+3UUSzX71PsLHfj/SR/ww\n",
       "iWlYl/asMZkHLq9sPSWn+p9j7UjZbKbzJiMKIwNAFJS+xJnd63itV/4WVr48/VJUB0bmPjaLUEVC\n",
       "aiFyNFflVzFPJGkaFR7mQzKJLXWa/H6bdFH07iARLv5HI9FIhoQc9XXxnzrJZ/lbkHPXMbMQrWnf\n",
       "s9z4ttOk7twfFmAMUZP3/5kMCQJr8nR8h6mFl6jFdMo4Cv9He21tjodHHGfIfZh7xTacb9bR6ZPG\n",
       "kbTLnNFz85SKrYFCMy5c3FcJQ6eSTjSpoSUXNtg46H4C8bkz4GUVEdAKBm4O7YoHZLF6CKfhGPxN\n",
       "qMS106YWMfqPalN1PP6NxIB9LPKQ1LWgiCjzNLc4HY7xDv+UzZ2dt7fni4v2rAzMv9RqkVIUUQCc\n",
       "FNzylGkQnIB1r8wBfalya07CBRb3mdqZJ63RVFyZTJl8iDUQPxjAWLgk132d0JCb3Jf6EYd+Fa5a\n",
       "B6lhPt++FlIWdswZrBxCA/1zSDm3g7ALt4ScPjyssxDM6mofsxWRXf2AWzPSBZRwEU2kczgl4diV\n",
       "bgxyOblzlQpyqzJRLXNYkODBxU9skg9yFAIHW+IJw6VBrTAQIGwRafKNPQQOlMO4lQLht9YwMx2o\n",
       "XsSNBBabGhNgEs1NUuf+MvmWMN4sS7sefaPmn+MAA114/M+6jgWSiQWNX4bRoGyHkm5hHucGe9e+\n",
       "g7q9dETMhe5sl8/UEWbUwdXovsdqBtL+T8FPFhtHZLPspSeSndAWv2FdLelzlZrN/e0bJ/SIdeTr\n",
       "x6Wy7CnnZK1ZzmrYuQVQXYSYxmwt1liJ+Sencz6dVwZAaeT4xj5cwDUil7WcRi0RhrQPX/Cl+ix1\n",
       "P55hz+nlcbDwcqcfEgmBqOv/76vNwbeG2e6bpT698qDYQZyJ52gEk0k5ePAxj6zfTR6iHvXlYw0P\n",
       "kbQtVSR2oRNtaXpirfDsUGfwWNTPdaYaarlqMVYiAjqYhfmgopSbA2xHVmpXyGKIW2PcACHlU8yJ\n",
       "tL6cZ1kKU/yFtyzTYHzs5NPkB9ILrSJo/HrmYFoTashn1zlA0kyVE4wx3mqYbLQBzc/hfpWSeVNp\n",
       "BQ0tNHf7iuu5IzWUvUK25+3GDygWeU637Y+GDrYZa1KhCSA2tGrz6o+oNSEXB2WwfdF48+ADpLWB\n",
       "5hNyNe/MXGFCG/TR9KowTTYaGS0NARC0OZuYc68MEaPojrImv2sZ2EEDOk1RDHOGJzvW1hLIRQEQ\n",
       "Ch5K56D/9Bofv8twRhQ3RzKFRLsnFOfdU0yt/fLhPJnMqthMAbgJ2pV2XpXok2x5LnJpmrPntaaZ\n",
       "H/Xldo3V6jeLBAPwsCV3aRF1JqvHPpupilZipRgDM/XvYFseHSDISdrWskF+dUgIRKn0Dzs7QcyJ\n",
       "kZbz6HEFsovqaOVge2voa++jgKdDr4Mgq5LUJX45BGJTjN6usjoYqQpii0RXh36+m9wVNu5zfrZE\n",
       "fd6c6ExSpaNWpqzDqdIDUrugyRxwNVp//dkBu+UQcSzDoPzGSasj1AV1LIh4NkfOlkksDXEBr+Nh\n",
       "oDBcFgcc33Q3cll+NnTtol7dlYDHSWpDs9adieeKaANUY2DN7yn+JfjOH3mk6nrzCGwbh1LucOkh\n",
       "qVdpodAIOmWjs9elud6qKy/SMTXF5HJrSa7IHMd4RfY36Khfs8HWfB3J0EXkifx3zG0/OrGoBOj1\n",
       "lnXCJo00McKmU9qP51mWRMVPA9Mpb8bwE4MAHb9KamVcLZO1QAUkXtvmchHof1ZhOPXKat2HYlbE\n",
       "jMJsisIYcEZUq0Np4uywwgvTfHujvQZDsK5v7kPXJUjujnnBCOXlPqYkTmYOCVbrkAh/AaG+D88F\n",
       "djCjkWCib1eWGoz56N8U4p/k0SBnIak45ijjFBHFHZgw8t58GE/Rj9Kv7DP2sUgeWQuwEzXtAUdS\n",
       "dTdpuPodZJeq9U65aRelgLRdrbEBcPd1tklLDY432Eebr1oAbPBnYdgYdCYDqS1k/789uz/mcHwR\n",
       "U337KT3D2zkxRPj56wVDGQ6ietC0D45DBKe5ogAxcp7BfdAEbJ4ID0Q6JjUAmEEkqmfjk8WaMImQ\n",
       "4vb4y/CirjN5eaSD86mnsbRaCd9/XC3grAXg9Vm56ormC64xerlVeaLHuNwtLqlsZFf4bPF5d5Uf\n",
       "/9TLYHJEzL/vJT06lGN7tPiP71ok6nYG1cISPbT3x4MEyOZBkXppAnHkZw4CQsJ/JA4Ro7ZWAhJi\n",
       "XhZAtpLbC7prbzv11OeukfMc6Ws9q4VR0U7PByD54fz3qolJQM4kwvj/z04Y3Ygvsd2Nw9f2hi6D\n",
       "NOEbsMdNe5VgeAmQTdSdh6PnfouC53dN7TQXgzsOf1AQ+syfQ3BKe+yV6EYqoCN/nCXgVaf8ijj9\n",
       "8Z0uW9ikPvTcKjIcQXTrUIeRC+HybpjIIx6MhFUD4r01ypA+RKNXbRs5afU7oGkiX80jGmw+xWoL\n",
       "mxnrXcDeBCwgTs+jOgoe9spG62/CCQMWyDCBRrHO95PInBFbqmV/ON1tlk+4L0/6z6xOf9nzbfU6\n",
       "niFSFGBdgqdLaQqn+GP9Rz4MP66tujDFU37JkWWkwrV5qtXU3Z/L9uCLlouy8sAJ8za/N/+WYKsL\n",
       "uCc6PGkx0uUnbbIUrJ3X0P46zu3vYrLVGaWMEUZUSFHOAuoWSAMe/CbHikVoUsS8SM4BffDewaaA\n",
       "pwkhTwv4ook2/56Ff5bHtab73uIBVKlxFDtrb2vDI9REYyftwAu6Xe8kH+q4E0t4591AfOMK5xiX\n",
       "R68UFRAjrkx7jyqQSTmsqg2w/lJ/0bhiEUBlor7EsWG31VDOgq74QrpAeMhPK/9lFtNzju3d8OHW\n",
       "lTzKU8ix6GPGcsqYgz3VfNCE8hbgKs1iof77QhXv81m4h/QGZK1KrPINzmCsRrGuG/kNCx18AbKt\n",
       "II5SNb6D5/Vo2eEtJjGDjU2VjpdWQf9T/qfjXM+idTNu82LiErD5DRe0+AVIj+t/ypi073ggohSb\n",
       "9ppG9ESr/d2NX2C68ZhpLCVjMPOm2vL5cHHg16EIplL7BsassqbnBH0HqWkI2Dj8vj/Xqfn15f97\n",
       "WfpxDCyHIdhfYr+PouDsYH+J1PLJGoK8ceOE+qu+aFq5oCluj+8/7Y0Qib3r/4jIwZh+qSplVtNK\n",
       "rLz+eNLaefdQYbBA+m2KZUQqyqIC4f8IBiNbHa9350VGzYkf2ALLpcM4C1KuN11109v+V0CVxyYj\n",
       "ZjSL41bBF28wbKf4A4QbOaiBdLlNhklE0kvSD+Zc4KlktOyx1MqkxZvcD2lxgyT6IZVHlMljNqVS\n",
       "d97oIrhO0MoejE2WkOz5TbycD3GKbO3euXXGI8jkVPfNGJmSk0CtrYtTB0PpZTgcrf6UODEhoqjb\n",
       "J/c+ZL6kxFdlri0M5CWOsNK/8sWu5K7z6L3CSstXz/P4xW53JxjMiVFXGwUlgp2lJLbldy561RWv\n",
       "LYOQCk8C2k0k9fqAYXB91eolAXGTz9W8h3/Bd3GP+KkBxqXxFT4oq/huyMNkI0zvpCJEfDs+xpuH\n",
       "NHk3C4dqQbW44LC0IkWruJ/AqXqChSBwo2uyksbfjXzBXgEDmemegwQopZsjC+Z6+W1YgPM4eccQ\n",
       "nPvWMwzOvucT0gJ1XlWv7/S6wBlU6k8DZsx7PVOl7Yup6wnLTH6Rt4fN85hCaSMr0VJ/1ugzZasd\n",
       "rcCgN7lqT+yKwP3VH4qAxKPWeoOzt0uR64x5/058ayeA4izZvY0rPyBe3lrAi5wuOqP9UHkvYABB\n",
       "QIRSxnL3kblNAg+Y+ZVq5EjnBc6yygcmkuNhwskrtXy9ELY/ZVmKnC4m0ZQSxs1SmM414wxLTMV+\n",
       "C7Skq4rvzJ+yTx3c7UBb6K0NRqyuiUsZbpXiHaer3MvGyEM1ybvWENIc6NTqi5yM4EO4T2yzSuWL\n",
       "jin3EDdvliG5QbHdGZ3gg7T6Km+FvRrKGFeXZk6Hqd685wHWPJZIpFg/1wNNaSwrXC6BhEn4P3bb\n",
       "ALkwwLZhHSDs7a3Iu3rMJQUgqvqWd+K1Q052//PNP915BBl4Ajpd2f4gHq2mnfXHCGyNqGMvwm62\n",
       "QR+mPKm7a8/g6wgdqM/2pzKsVaczl/4TWpWW8Sap0geq+SC+OL8F7tXkf7KimPu/Kwi/xyy7YKuK\n",
       "NammB20alnKihl1TuaqmouDOEyvgk/Br0IY7u7qx6+DLZOkxBNRBt0fF5P2TGTxn4H5venFausMI\n",
       "sDvEnckjFVlB6CQSrtvKGlWV0zPzxVI5tP9hu26V/RgM1f5SEQZYptjXVTN4rx19h6cML1nRdPg7\n",
       "XRj8LnCwgg+5Ee/2BIvcY9m39kPE278ZEnFtgFFntG1Iiht9v1bINsBDHAWkkc9RU2T8GfWEY4Ij\n",
       "qLiT+KslDOQDFRbOsjwc0Au+czsHBAXFwjZ5jjCng3jSkgWp6SXIVuEUn5sR9y2kGBKVu1f4ibCK\n",
       "Cya/g7VGmx4I6gtX/EhicEVDbvzMd4G/LWtfzzbVWsBDexm2SUVk9ygciLlF0f/y36GmlqfGZDzE\n",
       "53czTx9nNrehZc6kr8q6m3wp1OfD4x8gJ3NDy0dou+AyfmWdyCGPg5G7aO/HVL2xf9/JeA5HmGjx\n",
       "mwsaQf3WXT854dUrXbUeEdFBee1o6vO0Zd2Ln2DF79tIujlb0eYG61JyKLN83tmmIorNzUEHLBGr\n",
       "ORD21iHBrtfOjJJvWEzppYUtQOfjWu7QMjN1IPyNK7oCOpTmHavIKxW0ko3a/Ho3ybtI2PV2glHe\n",
       "ejxiE6ai7DpVQ8g3RIsMAOBTvmOjJ9t6H2MUjQbW5DRmjRECt9tqx9/OrwtpDlkHusjN5KzQ3b/3\n",
       "0OtZe44idIcEyUrGLqsqZ3v79Cg485j/pLLvBfvAH3OSP8KQqRJ88/Kk89d9uiTo3XdmI9tVP76f\n",
       "9Zkeun+vkIMm/xyWBpb5/svPHUn1NPcoscoRP/u/b5QuqS8vOBm6ImlIFoGZoVDLpIv1xrw7mBHW\n",
       "9CjZQU4tbBae02RW885G0TvrB2+yTQxIXh3TDGaq1WTbbQy/7EdgpnxUHwRcrXxOzd8Bi4x7UfFk\n",
       "vhcZ0co+prMP6HsWUz8O11c5HBDEIKDlFYRgClpeQoEU3l6kdleVTDP0WrrtcmwZB0R4MHNGMR4A\n",
       "B0wgfuKsX6otDq0eZAy+y6Nt+CuDhAweCEjdUfhCdmnjEJM17L0TK4DrjfEn3dvX9UA4l2hiwUnW\n",
       "brc37XOW0xW47Tf0aAMGQAmAo/uB4qBF/z4GdduPHdXtlJ3Hlj3ERuluxVO65G7r0PC8k72DynCU\n",
       "reqmpXSGxsMGB0WYxQzv8WfFs/dRqrJFpCpE83zEELhk1KHrRWeMaiMKfSXZu+bJ/oVUP057lGma\n",
       "TVIIEEdwGXLjb1JR3hsdAPjoi2SoPxmdadxSyL35XntGiY5DJXkHsvv8rp1nEToWVpatRbNrXPK5\n",
       "O91ndqB/QHsmpCzBBN5ja3Wben5Nr2n+Omy5Unv7PxmF6G4nxiLIavQ9I8PtnHCVV/cKNz/mt1gZ\n",
       "bXIkpCOfBDSedFZUbMIqHZLcQ/CnEjk4qO0eY6M1KaU6buL1vlm+didfxhx9vidLe34XNIVogK7Y\n",
       "PgD7cHDj8f3sKDXRHJmADnjj45Fs584VPvJZ6Siq1NYMM3AUyWdXZt6yb6iXt4UXlQhPwkowD8S/\n",
       "2AEnGMABHDAzX5LmMQAvghSEm3kr164D4tXLF2U/hRaT2RqYbiOTT6hLfK5yfnZb95VXtxHmjtuY\n",
       "oeKa4S+PnvME9RdwBwaNuAEbcziEW4BTyPbA4adeXV6sLZPh7NuLkwTMKO52rnoCy/Ih5eYUS9Vs\n",
       "RvudXirF+rUAtCMaDop7oEgOJbm1aKiRTVbdqVW9RPNJwVnhHFrGIbbmkp3LoH0YN2NDDU6offEJ\n",
       "50QAQrNbcB2mLmD31CfxspvW0lgC5+4Zmi9vTIG1guPOBhVBAj1W8WLizFviapAZQl/PcxTiKU0o\n",
       "4leC78HN7YqtoH8er/+69arCouMW0ovHJrAroI15/ZoTRNhSfi6ZnJlWSX4IOr4epV2/nL///0f9\n",
       "GfFrPXzxunFELtQSndtC7FJGk+c6vdknE7VHJFbrTPJnjzdXI6Bv0mkZroUZdj1iAGI+I97635O5\n",
       "mRiKJykpAwDuODCYltAq1fIAAYMGMDhsZBwld3hpIEd90BW0R7m9hsGyU5TqURHP1qaOh+F99iIm\n",
       "Xky3o9gAE04PfMCQRcaJeHqliJ9435RVQasUeqYvGfYhq6dSs5dd4p3zRwqd4ufLQSOnAnmFKFV8\n",
       "6RJArAKum9B+FWg+5ktRusV22qEm5DnaGCX2J/cFmVzQpDXl/K/QCqU/JLPmXGKlIVZvZ994S93P\n",
       "p4C9lDF5Kwryp1etEegRt8I6LmzALkO8/+klwZc0JkIaGnSqWwBFL9cEdArqbNNNKGtwqQEaOBIt\n",
       "2gyQ3QMysofZ2cL+aV2eI1DTC8WY3897nDeLutc6WcpgJ+dC1CSwZwKFaSGLCW0t9zOk9T6fNO31\n",
       "V0XLrmmGm4+5rkCtRqzqDv8hqDJUI5HlAdfPLThpPSZClu1aO4CmbjNF/cwQrPQTPmFgkBmVvrs/\n",
       "dmWFNd0bZKTwmjr/qccIgQPlLXRPz5Uy5srWNmzi8RrL0BmxSYi+fHxF/dn4wlb0z05ApopHo2N8\n",
       "wCU8I1FsUS3HTd3Hf0RKHX2te9Ua9qNQ1b61CA/xqQ3iCBmAxJSx+BtgUU9A+h1xQMw7KEFfpLYi\n",
       "sYOmxjzT0og/cBbUr+1NAjAeEtP/SCDIV3stbUXOzXw/2dd/AnIhV8+LQCt+947IWe+dEdRoeddy\n",
       "LcO7gSCsvbWb0g1kSmvc70QUdwP/zkMG068UMHyAYBS1bivIzCxy5IZ/xOUzslIA/RV8FlPe2xRu\n",
       "p6lAXL9nMqm56h8eCjiJm54M7Xs8MaasAMf3SuirZbjZeiZZxCo55iS2HTbK8AvuomV1mFiucB1R\n",
       "5iuwy0SAl754rHQzAF+CtfOtmT4FbDn5S/Kej2vyZsi/pRvHrL0g59eGAoMfhkfoAYGv4rHF8s/Q\n",
       "8Q26dDUWHHyQ+aGE3NXTP84FUNn/GQZpPw2KB6OyoRGwPnHGO9ABQJAP3dQaPB/vX7J7fanAbxH/\n",
       "jfOlQVqAcW52KvIWjkxeSpZq3cz0miNJFygoYVgkFbzSPOQ1VI7+WSxe3OTfNQ3dq/r16IJOOLoU\n",
       "U9Tx8x76mrD8k1hPWnCFLb0c3E8VmwMA8SDpEJPzrHKYuCaFZ35iqXo0+0qvLGhqxLPCCOtk2g7o\n",
       "iQFcgGh6YW+h6Pxy/QaZ+/znz0MbKKcNBs+Bm+TDCyOeB3i5yuzlP1oktkzXA0dBxQPfTj8djXxe\n",
       "3AFegvI3oFbKagHRqjt2qVL5S6S3/RSDb8O8W8HXQZqRkiFcbSyie3HYNlbM1thqq4zq/Jv2YSHh\n",
       "DyM7TL0EyKwEcP7yuNy3yvyyiUEyECpvni/VvVabhpS7AfqUaN/xeh3Fyn4HTNWX7aanrCCb1oZv\n",
       "zqq8i/NYHQd1fzqg76vUH9GWq9NuVvd4daK67sEvys1TiYwtmIQ0mVMeMkSfwFLn4LSV07S4cUqL\n",
       "KPisDwthM8bYhyLXngoWST+3dNx67gHxOVi/BMAbo84sImXkvXRR7H4wy0vYl0Zc7d4zz7SEWOmo\n",
       "oABUxAkHxk0b6w1Qzz+nalahMq/vA5Ppg3VuAEkUbgGtezaXMvf84dXYNzYlMhyQtNqNHaAUzKL2\n",
       "XpU5MwWHzkqI6g9Jdm7wLFYhtg/DxFxQc0cj3KxpPbvghZXkdGH+dymn2GYcCUdYq/UHiE2v0VVZ\n",
       "yOcky6akojSJZ/QuEpNPJke1TgZZt1k3mGJ7fB1ooXLEMfMtoN/kxcaCx/28as+1VYHmTiWCpL08\n",
       "uyATZkAzhVwNcEkpVtcITZUPoK36yufEx/unYx0lDp9Fy0NsTCayRqaJdKGDyuAfTthTU2kuMopt\n",
       "MlgYcUqnkibHXPP+VhEVv5MHD0e0NwEZzqb8k2SEV143DJbbAqi8HTCA7aUW56IERwQj8deVkkLN\n",
       "x00X/qbhBK2m7Y5I04CtVmt8f2K/rfx3Sojf8DMfCc2txr5qMz5Ct2DZjvktCxzrI3yLxzEiVCA7\n",
       "x3R/c2tDMocK8VRdGpAOr74D4ILKuluQfdzrrpTQZ066Yt0cBT3eMb7SwWEKI2GM1AGO+NCwP4xc\n",
       "Z0mXxHalymTdpIgycbP1BBSs3Zd0HgDmIsFy3MSpnGSc0m/02OKnewZhWi5HTucKmlCAIlSnCxL4\n",
       "0Ylh/iV1GH5Xgp28zd4UuQARnd0rfg59di3UZigKFqo8kovfuI5qwV4Mu/II/9mcF0VKb2nd+Ta3\n",
       "40si1IDEA3z/hzfSnBPrrXVzfbk2U3biRG51V7wSflFW3E44a2g+iiUfVFgpuX20zfHJGH4QzQkr\n",
       "Zuw0/440R4l0Og0m2EgN2H/dixdLNqzFYoLPJtLx6UlJ+pjFFKEVjHTJ9yJeYMrz8D3xcP0Niswe\n",
       "kgwXS5BI0NU+1DCT9D0G1Y8GgJLzrk3OHjtrpieQrj6qkHtImiunVbR1DcOihxpa2/WGrUYbir85\n",
       "CrJrGZDSue17J7w8f8ktgBvK6wZ32+AeB4ZyQE+7PoXFEAcsbLj7n/r51cMiAo7YzT0yHLNXjvzw\n",
       "DtHfIAW9n1ZET4HHywAEIhCyAmrV1rpl47HMC51e+qwrEbsN8cWYRhdQt21zbeZBwPDIpVAvLuR7\n",
       "R8b99vqzI/TjOGAyoR4mJ2AqCSXU7N3vFkYIGw8QFYUvLjmtCmnstTcVi8bAXJfEz7rP6pJD9GTz\n",
       "egfK9vVr3HxwW25RMf22RGOJkOd7cx4MeLezxi21yFWx6KSuKB6Bx/tSJ+KTHCEuwFH5iNXdyOpE\n",
       "VFv0wzJ4zBY52l3H+pCMVdKBh7zyvl/Nr9RSpmj6kAAKyf58Vc3Gpg/r/2Tl4zYR+dQz/ZOjuRSB\n",
       "w602b7eodcxF37Dt5hjvEZ0W2RnXzeDsPdsUlmrx+7tD1rX88ERBa1qWge+FaqVYVHvmIv2oIRsr\n",
       "zxHa8BgoxdL3nMfL1mvDrl8p5DsHBlaLU7GbBxi7GfhiJfASMs3tdmGaB/MgtTbh4HYhbh1CxArG\n",
       "FfPmS3yUIJ9Wnp6TGyJ08r37Zjb4iQWUmEvt64Yq5xdhQvhsgAy0IO2/zEhfYCuz0SwH3TzHYPJy\n",
       "HcrCgIvMxv9q+Cv9rsJtGBDAXbkoz+y/OpFCjmKe/D1TKnk33VznivPQjI5WhVb3DQ4+jvCKP/Mo\n",
       "ona7/OMcFDEFKp5cLgPuTec+2Hp/jIZQNAAyKvaPmrJcZ+oV1PIkzAIgPP84oYWeCvKmOkemCjCW\n",
       "h2eqBc0L8tc5kKWlu0egVJvOpCkhFBaQswA8hSGlmaIOL262MRlYrkyzjaO/gzLMKy0aJnehTKY5\n",
       "H4BZnJ6IAVge7HcJHaiGQCCVjsj+Q+zmYBLq714B64cUgfwgJujCoW41XrfrmaLYMMolvBtQSfyA\n",
       "chaNnj3E5VOsPK131f50qPrPjKhMLK/Vm3sc4kuqFjPuR4VjeeYhfA2NBURRsNsh/yMQ7B/eHjSZ\n",
       "XGIdgeKZIlYRrTNXc4QqlOzgbLfmFpKnpVGNumQms/IVKpJiEpbk2dj+dTNI55CADOyUtFdMF4T2\n",
       "/dhJUR3oh80VNB4sLhHyb5mJWX2h3gWd+ikK0guBVghGuzIgK3rvpCUJ5Dt8Njpq6YGjk8hJA5UB\n",
       "wrHx7a0pPqFrTC6mL6rN5To/gOHOCr3KaTHmayatLdLVjHrnHqBQgftwoCt2rDrkCDcTTBOyRI0f\n",
       "p1jfRQDFfDD3PqSQdxG0zO4tbNs+V4sxUpSFg7gz5aKRLlLEiAJugCTpxG7PDfgtTP+iZn0mVmO1\n",
       "BK/ZcThUctXyIH4JNbJYmKmKe7+MDXFyRPsJjFN/gqPzPlTl22S+Un0Lj1sjO8TWl9BrXKhirPON\n",
       "gVBMUdiL5O5Dm9t6VpBqBxWqgVM3bMPl3DvPDD5T+e9DkuRYB1ngCw6PDWR7wY3itcYVBbyDZB6b\n",
       "x6yNnph01S1yLiv9nxrQ1iNcU0on/vZFr1f6PAAeqZZNRG5GR8R4x8Z9UyU5/xut+7weAN83f3KK\n",
       "JO3jfkTPFYey8cOTGCeDIsARdUr20t5gpAEjc1ydrhvt2Xt5Kw/a8pV7rrc9DFSG06de9HsVknVG\n",
       "WIfak8U+CsouxRNXFiqqN73VHJ9zxT2j7ZwB88lYn0AOUidcNmTcu5bl1qhx032SZdPQitLEVCfm\n",
       "E3AO4l2KOETAgQDao0ACSPfCPOCCoM+xRB5AMidR7Y5PcraLsMD4z7ujRSA7bNH1Po6d9KccQBpn\n",
       "t9T3hL2JYrLnAaNqxBVca6mG/9dyYi4XqSzIi+WFEOKRDOXWzSUVL/biqoGlA90Jci4HuHMADdGB\n",
       "LZS4wAgaBGX2IwxjukaErbVw32QMqSrcRRFY/UnD+sLYG3gVAiNZLX9NQIawd+sj02vifa2AKh6W\n",
       "B0jY+8lWlI44ns0QHg2peWzOMbu86yuKhGiCLxKsqeiNP08wzD40hkdsnyMhAIFE02NYQK9/hpK2\n",
       "hC5nOIzHS9XpxXCaOYcNMCfp/o00uMIG+ZeSjXSs2oJRacKpFSkACYjnMkmpylO0q4v5K6r/5s8Y\n",
       "D7ntzEH8yGHtfP6H8Xvo2ILBZTXFTgMIcZ6tZeClk/LSE3QAY8Cpd3tyU9Hlo3Pg9YNVhcJSwmP3\n",
       "KNItMu31IDkdTdt+UEdOhsCsrwdYYfwpn59yMiFOYPe5JH8TgpFmlnWRYAkXYzwjxG+egStNsQd4\n",
       "Y7Lv/Qn/hiefz0nvxmKiON8VlbH8el1DPSaS3qQv3zi2bjk2fPYqirtiRtU4T2+Ebo/lY+PguVrw\n",
       "+FGXM9ny+sZUFPNhMj0d5lo5n8NJ/UBGPJHrs5xi9U5Bi/gu85gy1Et5Bb+jr2GySJO8Z0E1bYuI\n",
       "g6SmKIrj5K6XArduMcQHPvT8MhDOKwjNCB2kBpKVp75V+o73h1A8Rvxa7iFgq5L2lIydMeYXdI9j\n",
       "tGAJusDFV9/g68HOjmITN1RffBM4NpxUlE3pEYr4mN65LNMsEb/wUcGh/xiZuJ3gd9j0MBAlVUOs\n",
       "JHIr39kLFYfgT0qAM/kRQsCBxWHuiCrGOQZ1TnCTu1OGVPshwbnr1CPeeXBXpt/rUTR/g94V3i6Y\n",
       "3nFwtnzY6A4rKxYyZBLygPZHL2yHuDX2UicxCyUVuYW1PNfa4AOFq5dqHnp1bwe1HbTX7QVBNQ9O\n",
       "8czJnypHWlyGIoatD2PTtM7rt5NQD4R/X3EGf/qVmhmYNQdH5LIplDLQ2jtHZI5CKl3qvq10GO7H\n",
       "IyrpdP1R8pmwzG8YaE/AAprLdJqw+gjO13zdrVz480+cHuDuccUtisFDGacfEqtDiVmnqSEAu1O6\n",
       "WgqJsP/7osqzX9uWyKgHMpHyP0R7p9PtWWs4IzdCZEkNz2fGgLp8RKmFE9XX+DeTb1FvCKHpatga\n",
       "QIPBMys98MHZhiYlhdnjJjWpiyxC8CBQB2JDF5CJtpC50M4XFJj6SnhLUuZ0kHdSyWAYnvzHgVsf\n",
       "626PXeZH20h9gYtkbOa3//oZmvESaRL14LoCy6F0C7Z/yaLP5I6DRqtubjJd/B5IePgwFtzZtuLK\n",
       "8V6GVrESZD+S85v+WfxhyDf6Q8pCBVRZhn+pg2uh6pTjlIcXkEUpLNa8xHlIzdQRoK9y2cTx9qsT\n",
       "Ida9SXc+YXbPorc0pWbDYbapg+VaShLvWeERpah+2rPV43APm/JhxKiWyvyjFUDuQRPt3wpuD4b/\n",
       "08AlsjsTBAXgi49IhPbigMGktZdBmrQBm80g1Hq9rJh3QnlcnvsKwvYCTJpwtZv99W+5+XveH/uU\n",
       "/Yn6/otY4cvmOprTBB+bKWSka9G9y4ALjv7CytVLvEVwyBcumZd8utceceR2GXBI3Ke4nlH2iSof\n",
       "NWXFE9TLPdjoXtCWp10KLtKLtXSd1QaGSpfSJDSg4moGgpBbteclcs2zHX1MAGMonEpWtiYROAHE\n",
       "q1/qlhSDEmwLSg9znDbqBJnZEU35HbSN+h6BCxsarDvDi5AZwP9DTUI3HmwxaMURS8B1mzhL7nZ8\n",
       "Xd2Oq2uViLa/ksMS7THnXIB0kg0+CsNkgkgFebds0N8/IzudUDPFuLc4nBXYe3rJtvxsBVgQjVeK\n",
       "B9227GokRkPDmvYdGDgJtqE2D7qLj/ycxRjzsh9y8kYhTCChEMArqIzBd7a3Lk3G680Pfszw3Ahi\n",
       "nZlUD2yJu9pXBL+EZDdLqgZLPJNlHM9Feur6KI4MAmMhMZqhNUjNyO5XEYe8/3EagYD+rQ8ehssT\n",
       "s26KTsWPwutzHF+uFJhvhchEP9Q6StACTqk3KemYMP1tBIUqR6Y2k0938L99QZ2ZDewowzVwknc0\n",
       "POFHxRU7PxVPFyWcFq7BszqVTBpubKvXCK4iO/1tS+aSkPV7jWeGAeQmezxc7xQZ41Vx2f+f7a1P\n",
       "VoYpSa+F47ouQGVA5iYBfqs2A0zj2MTR7SAc32SKdw4/MtFP80eGx4WWH+yTD2VGdu4JIq5lqXTP\n",
       "Mb7A/rNZiZ/3494LOHE/eR4KwUbSA5IadVkibKSOC3naRMaF+Ppy94INsiAPyhQ4Iew2ag6oySoI\n",
       "Uoqjd4R+StxBt/6kxQ9NMqqK6YWrHs/bn3AwCyefYKNt648Ut7jEpKSvdwXg/na49oEueIdpjCS/\n",
       "8QkbeJghvToCLXDBIjtLltkRRzZgRFBMA5V9uyobGUQOpwE4Z9hxedBc7f6cAD2i0Z8LF6kw2NZC\n",
       "qUsUGdcrGXIxJIvrYX0BB0+V/0yRrWoU8ok0GcfiCWb24+x9+OJDhz1OMSt9jkkZFtdRrfrPgx5H\n",
       "n5Atxi6kzvqieMrdkTH/atA9BIESagkRN3+PTMOgWh/JcJogMbomeVEqiqQB3ew2b8sEVGMaXpEN\n",
       "F2KLEYDyaRFcrxWueDYLjLyAkCJaCaxnLLTcsyc10r3yphiBEo3Q0Cxw7s2H7hdrhyY1//5EGziQ\n",
       "CqYiWlCsCCR1/Pd8/n9U8XJzDV/xc400hwQBxyQgPmaoyrBZvobvyHE8MNICg+QC8FgibA3BZMAL\n",
       "ycA337Wx6YKrmOT9Lgb0N/9LaX16grHlzFLU2eZu9RUPgrGwcWPdoIA/FGqJixhLKNuVW69nG856\n",
       "1D5YwCfnoKQaBzYwG7MeAGPccoj0sJm3nnKvGQpXslvDq27vxCFbBVc/shvkNHqE4vq294YzzJEe\n",
       "Pf86Wsfgt+E0gy2BGXc1NLg51KMIbmOsjY9cI63F0LYbRLac2hAe8l9lJADj5bl+FYqeGtM8HVCZ\n",
       "Hy3LZ+y605VY2YKKA37FYXioayAJVyQHalC6ZfM7PGXSXqkESqDGCis66NGzt6bi8ZWDT8D4Flyv\n",
       "dm8ZrTxWSEwW1D+8Y+O2J0guE31qpAxRFZL3R+RO9KYSwBj7DEFMLmplE4SDMv4Z2b9AKKxOuI5m\n",
       "yrXnI78rJZPka/7GUb+57CqPcAjfNWH1xR5qCi8n+Ruu/ibq7QUJpnNbWeBNxQytuO15Hcihm+4v\n",
       "nt/6BXiBxXTZkM9Px4XaBj5Kt8QjBbn32j1CzBqiZA0TP3uviYlIqMgkc3nG855BjSXiaf7b/ask\n",
       "bFkBtg5sAu541TB0Rj4OO8vBRkyUWnWdykl2qaqs+7j7yjKCv8eE66W+in9YgWlJ+plII1LRwqWY\n",
       "rmDCG8mGKSqbu8BAh2stJgvUpn3tqCVx1w4JFLMYbEqIpNWkGC0PZI6le6QD9YqfoglMO909aqKd\n",
       "JpSbsaAo1/BB8xKf4zH+RJhVy4gA9Vty/A8oCxRniNBRYDj3eimNXr6qFjx23nYhkFr3X6Btz96d\n",
       "OlMGsiWJkFANlPGzB68org14BR1TBuRoa0Tmh9w9/FdrxtMepC/nFM1Ah+Rw2X48tcieoyG8d3p0\n",
       "bQx1/rgNS3EQYUMLsAvaLvHo6c/Xbp4knRZLYZEJ8ttrB5yuzj7uD7eXhsgeQU2J8CsEmCDHWn8U\n",
       "cpE1C85oBuiOVL0Z6YBzXXUWiSzeIcQecl5yn6QN8ij6Ifl0gcuIJoYrxB1Rb22Lt2qhlL+QJ+AE\n",
       "50Ut1/xryVsG8W9KuZiTM12EBmIw6F7Xp3AgtrZJQndm5RIx8JnegWVPnKODg/nvzKG13mC2nKzI\n",
       "jgqnglrDbEvn6f/L5prDzabHmLhPoU9Os4DtwglpsTE6lVbyW5aOWWP2TA59P44CwqkTMG9u7lOf\n",
       "fwlh9tsDxTLJS9f8z8u6FzAu3XXdJu5NQ7rCX+Gko+yw3ygF18LPiVhMYzWOElBjKHPkT4lYJoaP\n",
       "OHu/Q76BgN6v7U9AANzAFiNc92+AXW3tcpYeFCwqr2crMOMrtjrktqnfI8nkjuR+gAHpO4bbBbPa\n",
       "qagIdHIrGyOdEREDgETlOOEh9jtk7kkYIgDv276TaBw+Li0YDDNXPjn22Yp5WQpjZSW7gPe02t8F\n",
       "xSDJpZ+rC5yV6Fo0sTUtL2csemtQbNiVEcFzDrQtWb75hb1TyqfQdtCiavPha/oosxrH1UShPafc\n",
       "sDid2I2eM1ssvK1VHJHSJG4z2P9TMuDNN1RlSaxvA/1Zuj1bIRU7BevwjWFpbRNdsm8KMrD6GCf3\n",
       "qro0n+d1nXclfeFbdrdLiUWdLMN8I6rYPsnCuId0xbHNCsR0/6SgngjsJN8GIjFuPKC2epN7BHAG\n",
       "wCxPkSwDwp5wF4yoj9npTWPNKPf6nhHFGDQAFg85QWnOwvpsqNmIFlpXC5TSrN6V8Mj1bfrc7dhG\n",
       "+/oCmPx5KiVX7ZcQQ/c42Vy1LylHtMhL5/3rp+0lDku+2ut1wg9F28fgW/Y39bQxJ3ePehgMkz9I\n",
       "pzULJgVR18QtiL5EpL/4/Pwd2kb8OZ4oFjRkxkUenascAuDaJUPYC077mwgGbYonemdfVAlB42aW\n",
       "6huUKud2dZei3IZF8421NhoNHtFfGCuBf4DGuuUuW6+0JDSL8BCa3TLvlA5PybwMgxrsxqLUat1r\n",
       "+Fe1sVR4xBkxEuOxeZoXQ8QNDT99qbVx0UahIAlnRYiUFsHXbgjWZy2/Ko48nr21br9/Ndo1Tg8R\n",
       "fOpyQfrFd+hrBYOQPvEzAXFCcK6jpKdP/rvmpoDNp9cVRPedKD0aNIYOwt+ZHY8ZSmpzu4BgSGua\n",
       "opIPSJW/YRyszr9FPr77nf+zkQIqR9Vbudf2fTIiDgQTvIv1HTOaCcIQyGtI1NvYmYTNd1n1iBid\n",
       "LqZXk3CAqTpNMGN1eN7u4zXo3ntBH1tYWqMg0pMDSfZguD0QoHdYzQBl0VcEMSZ4FsYuLdi8hMKd\n",
       "GzyY/lN0xcuRqmier6J9HBPYEzo+uk1K0ZMgd0KPqYLTail8CNyUMtXoVGZiHjLHcSEEohHCB2Lh\n",
       "HZFd/m/KhCmGE8EtYR9VO+2lnr26o6d8vXC1JJ+mWHGJdymnwmkgbUpI0WNisSziIMfpGR9uwTc5\n",
       "x5HwfISLdO29WOjZcWbXDOK/AUV3RFEpq9pQ4kGPps2MvorcMc+XjfZNphVn00e/ZKkq8MkqXyln\n",
       "ledTNJrBb6kYtjcwKmdnh1ZXpegn3eFBSy2H62WaWpqkdp/LaGYqMrGG2KBFkEW8qHvBAfRWOGYE\n",
       "j9ZsNuBEnZmKtTFk0rg0ecRJiXKPavvO9zvu0zTZQERRoJ1Xu+IGttjqOfMDzKIrRMOiEPs/FXLO\n",
       "83MBEEtGrGPt9yxL27qff5AecqWqYBh0Pix5PV9x6Cgwk9pja6jvPnqu4sBpWCtH3rzB6jH5yYSF\n",
       "eLzFV2UbsoWwFkCy3B9F1VsIyx3cTl0Ff876iyu27bCs2nIzv9tOH/08VWt4stUwrr9kU9bjJFdq\n",
       "CbAAEBAAAB3mQZpFPCGTKYQV//7WpVAADKcK9oAWyBgyOCzstv/c3+v+MfppJGkNHp5t0d6xn/Em\n",
       "uax2sQZ9mpJjuRKdZc5yeoD6TFam0rxsqNNvLP6XkcXU3l79WQF3oZNyz7QQuJqGJVor9vswsmCz\n",
       "/yaXH6qGAmrNK0X7t8+O+K/XLSgVLZfGnaMu7Dxde4ZwW7qx1As5swipdmyLfvYIMQEE3RPMXXbT\n",
       "X/w65N4l9rDGWAuX8emUXYrLOBZAY7Sia8I7LkfV2QjI8cJoVB1JjNPsOMgPNLO/rrGCUMCRAa6/\n",
       "9fPMz7qU7rTp4nhdN0HReCgmQ6CQBtlKOXF4L3osOf7W2CVa0FmRa28xmvzcTgI6GDlWSogynCsM\n",
       "xPbCDep+ECNLH91nkDPq/ITweuf9Zee4+N1Hvpko0JfvqACpLVruGpGRVnmKR+SrzCmiHv5i4Rh2\n",
       "MbS6p9AfdBDKCs4deNdry2VljeYX1iYhZIeT+xVUkU5TRDtIluNws5JR03pCxvT+aZ54PskG907M\n",
       "fOfI9r9nehHp1stzHOrvoL443zAKI9iStfN0m/+UW6T0sYQkYz0rh2zs9TYl8gzjRVLnTaWO8wZR\n",
       "UW6FgCaswIvDGGKd8AvhFQ6blYzKwFseHucXznZUa/hZH76dXpjCTXfxlEsVEjOpF0TxESsCMSMq\n",
       "X7FXN4HmjukZYDyjZxdNlCvLkNxsyfKeE6xQ+/D/E7lNyMo5cAsvwog3nyNpEJ0jQKXS/IbJNyix\n",
       "jRqQtyjKuuk0ws3HZ12Btxrl0U0ijVXHFBb7Bt3dhs9vHpIwMFa4gkkdz8osX5GruLUQlr0l57s2\n",
       "05Jq6M1lwp/j3knqL34LowSMlBjVuCB1GmlVIAMhDxTSV/pBs1DN2nnKX/WuqNBa42wPREFtJ9pO\n",
       "P7TpjUkLci4YCdRaNCC7ubgpAfv6z/viutcZxI7wd759LlCruiyS8Ylbk+NFPSZHOpAN0q1a349A\n",
       "cHQ3zFPj0P65XzVqhnryAKmKSJBA/My8lUUkabwiHat0rrU4iijzID8l32ZjS+ZX4TymPGjNTSi3\n",
       "rOjvgvYRC4FA3/M4yxex3A3TrDbmpi9uQQEwsLyN27Im4pNB0FlDvh6f00oBIOrQJH3eb756jKd2\n",
       "0/1JlNUwElC8SLSc5qLodz9KLLDVkoItt2dcjXe/dRqDiDp8p+fWUr9LIWFBcLzA2nroqe9dhbH9\n",
       "OPqiyT4q22b1odioojZN7cPgT02GbYbaOH9IQ0FlU2cH4ZJaeSpFjnZavp0me3rYPcGkeSvNI7jf\n",
       "8aW7IQw0h53sUFdJxLf1Yf61B+ztifLUtLGxY5m9QRYUV5rvlNX0G+qBd+tbZ5QPirgRTZAJ9G2c\n",
       "ROq8B9ozk6L0fXEB+eySpcFAe+MF0ukRXfnnaHJ5rI8rTnkXpkoFUBHOaDNKE5oDGVs5rB/SUUdF\n",
       "smQfeJzV8JH0NXZGPYGREFzk6Qd8w5n4T5IahyVtNsYbfqoGTqhiTBt7IA3Ki2kpXEyn5ur0U/VF\n",
       "/OwwE2Ce9nz40FrvEpCRAD/qt6lvJ7v8byVn5oIyORYsvYZh+/AG3iIhnjbV3UW9QXuwxTzNpx0i\n",
       "sgKhW3aSxhbte7ZBt85gBmUyEnwNpxTaUnP+Qb1eBhDbpVS9MmDdc1Z5odm8ELXdqiJ4DFYNdD0D\n",
       "7yjkWC1z8oABSPwt3ZTralQdYK9/isya+QdQ3HEt37dg6GmA9d7Il2a2KLBQehbUyPvXfNxCBuKA\n",
       "hTYz6zO0vChrqJv7ml3kA3YSSSnPCCRsMihWh2mJRvsqK8iLdyDfSCok+D2zGokadgwtlkKp3/n8\n",
       "HiPaDPcO7VqDxiNLQd3K1w6QdCKX23LDtNT1vcekmXpeC/BU8PeAUQLNBTkQtJAyi9Ee5Z0MUXam\n",
       "PpYqBe+Rkyg16i2PheyeY3JYX9PwH8oC/BNt6rex6EedP9DI2vcq9yiJ8ol1BCXs4NJu2KO2ZfxE\n",
       "DEbdQxBtjLEaAMiQhlfb2TLWyebx+k+9zE1TyQaYp4WekRFQel5F2d0HK7ie+K3z1DW0v1ddeARi\n",
       "Mq0XPzU9Cghqyl/YNTRMSgDk3OLGYExQJr9f54/gioOI/Zpdzu+3Q+U63l5Oosbad1mZdhc5sPZ7\n",
       "9OOys9TlPNgBAqFs6l9S4NYBykPW9kKv4NXfB2chiW3f4LnVDozU7oLks8SRx1asid9RWPyeGDaC\n",
       "3/A8rCcFAtzUw3c8WHHAlwuCLzDs93lxv5g5Mzd3Jlbl79jLzDdsu+RcHeRvo6AYqDljLRL5vFQt\n",
       "eWOox5sPqsKSM4hQ/18qJlvpyQzHOwD55I52xaHWTU/AzczOxf59LuqTiTcE7OlwE2rGDUcpwKMT\n",
       "L40wR2F82GqHfTkc2cbztlYrVpdR4hXA0sXlpF5SmCgZoTlLTACgw+l98Z59LySCkSolzIIzDfUJ\n",
       "QjYl46MviCOuDxlQrikgyA9beylM4g4xbAeo7vs6pquikvw8OMNqfPc20Yjicspf0bWgM67x+afD\n",
       "5XUU78g3r+vdkV0KNmVmCjvp3/mS/FzzkUnMoEQn1VXrkbUl+X1ic6buXKSld/2QwlFK+OiHJ7+6\n",
       "aaaFc2WKY4mIoobaam7feZdtr87DKlX71kQSyKsb1hCZFEDPO5M6udoWMBZQ1bR/LgKdO5+L0Dxw\n",
       "BtfGZFvd1RCbMGBUZn/OGNGR5CzIhpIsOead6BE7nbJdTW1CzCSEqzQMZc+rXcCkvCgS5OFSKIK1\n",
       "q2sn6o0r3DoKHPJon0VUjDdk2LJ48Al3RExWHEuaGMmLXtq7xczOF2yN+09pJSrDN0llnGwaPNms\n",
       "HXw6xfEuAJLtUHnYESio8YOmKTYuJewh1I/CuAyuP4sOMpio1GdAt7WcsV1YVFey2B7l/7AJ+YeP\n",
       "x54iqApxOb3w4dqdVYWReOcgXY6G21VGrXI8EUNzXotorGw7bM53sjw5KCrPj+mdZ1sYD4jhPftk\n",
       "23SQJQxytoHJFPf2OY8DG4QDS2Wh7NzMiZhfiSN9pgP5rFWVJhS38sJq1/8grpX7FbflDSRergR5\n",
       "k+aAxhTOSg1gTbBdHLFJ0MFLMGd1fM+pu0KQWyh6R658myRgVOWl4jZHWMPXc4rYvCh49yKvNv2e\n",
       "2GCs8PjbGxwv5xeX0x+Ivd8vEVfiLhEvstpS+m8jDquaK9IPxLTvoHC0CRf7cd+8VLDiuaSydPwU\n",
       "1k5HaCxwcioYsHhTvcfIgIjvU6V3KsbqJiAdL7hWjYnnHdKAjZm2EGSWqN1IEDd84Mr4Ur+u+sIf\n",
       "jerTa2qg0/bqIK88XveotI90W8hlN85jvSgeyHJNRdIkDsHJWM5ZayLzHuq8rbcUnV4cM35tKLOT\n",
       "A1NktjqgYTbJRHDt7/WgYHvXEVHW0Sc2KRpuoBuXvSBIID0Y/EqRibtnvoM47MOi4Wa9BkRbNwvU\n",
       "ZeWsA5FvSxY+wYUJAqqsx5phMkrYItR4AqScJ8VnTHFEUqZVJKmi0L9+h8fbgdWpWmUI2puFUgeN\n",
       "M1lHpUwtTEQeiDkiX6mDnlpfk8MMmEpUQbPsW4Fz2DNjW0fD8FXnipCpm0kiodR4NS/Oa8AXoTB0\n",
       "8BrxtGuk1si2lTjffCJ8UlkS7MioRAwOi/SA2qXuMhb0UtT4ifQLeFIJHvQMF54jURr7mMxXvv8y\n",
       "wMzJxWzFhWp/deKXbBYgFS6+2C6x8AbWgTXH80bZOr6kW1xq5C2Kwo3+NOhYosm73KyVcxND5pA2\n",
       "scpbtwY2NSeOcU1IVxr5ahlQWiViinWxZimYV5vDoGVfbY7rIY3eudOiiW0wbSC3DSm59hKixs5T\n",
       "vMxOcjaQrERr+9P/fpZDX4iV5RkZgYtl9bLM1XTZ6BzsquzFzuC5NlfUSLnVe3O52YM9keZlWyXf\n",
       "5lysAW0xkLBlyYPMDm5GdXXVeumFAHiL5Riokt3kSSHl4x6OVEFIAms6/HGZR53zgMxjvcRw2INY\n",
       "jrOUazSLm3d+5JA80f5iU4Vw96YneAf2CC3q7xdHj2+TFFfV/1N6jeTbxDwCtRt11mebbA1rkzXG\n",
       "KNIpRTNJ0dZtm6Er0UBcwJb3l6AK7i9TPRQAGQVfw+OPwfVpBlgy7UKa4dbaZILxsrf8Nqg+F4qt\n",
       "6aQ3FgZzt7JirzYjxGhPSVNwgvY/9+SPCkwYXYoDNNDuJHRpHIWkJwM5ceOp5G5625P3TzyRMESz\n",
       "SvA1uDWAJOV2xG69PvsgSmlAZTkvmJNiG5vX+PeDcKNoRF5gcUUSEMeTo3ljtpsGb6HZq7zXXH78\n",
       "EB9mQNr0yGMicak7Scfgepx7c5XopC71GOo7khiyUfACi/jcesdwLqUqMFPMRO9hkXjLF8wCRTbs\n",
       "DbgRo4OKy626uxeUzB36REshidkNR1ZbU63pc3/JEFSGXNpP0NH68r87WA/iEtOpj3fh5R/2Y7yv\n",
       "CZjk4iOa28ggYpdUMp3IyBEUVCKgOZYOQoTIYU0athnOePb0TVuRHkkFwc+S1jIznMbQw6REoXl1\n",
       "fiih6ar53UDecNDxWvBkPgM327DYZCjQriK30GvqWF7ppUExy0fBNvtQNW2QE9Kk4SnUxLTivfuT\n",
       "JLyv5XlSd8sIvrbqScOPjg1NYQvapSXAR2gVHXkqgdDp5/Yc4DpKo5F9cUCLcAV2M7tbtjFxIrgB\n",
       "3lkf28zQFdMZyhNzJ117yhW+biVmFjSTQnl+xb7LhJeF80ID9jSiD1VpMO0SepEmtPmdXKpX6VjV\n",
       "l7LV0uEyWTfZ998ojfm5L0b+tlm4xsS/3hast0RHEWYCx+2ROkULDg5Cl5JpHxhElOV7mlUr7IDG\n",
       "7Ea29+37lHXOw5l+AC5uA0jaSM+G3XxcDJPOouQsGCHTWkXCMSBFSS2XzfnmKn2joTGZXUV7K9lP\n",
       "2zFY+ZBQxAwGpgdZX0sPtO+TvWy/LUNncUPxZBBBzfbVWCQOvBTrB8rr9wP10wwmWT/b2V6jKVeQ\n",
       "LCUTllu/gd+jpvrdtClTXks420Z33fjMfe95eq+J4v7vxpAQ4NhSbBE49h1BmuLns3ko1/c7MW5i\n",
       "ew2EDTAyWE/lJS/z6RYtQ8dhpvox2XsH7pYOH62Sag1mrLElEkTvx0KVmta3uycGyDiyW7BgDRwL\n",
       "KuYsD76+7tWfqWtTf0KNeyhDm8q/XpBG5tCuWSl/eYGpLtM6Z6QFwOXdEtOq3YqxlBoLsBPUNq1h\n",
       "ZCiOSgPSVZ5S8HPjxvTMMK40Q0fXPzwh5bI3kVAad+QAAA95BpTf+DLsgaSzlhGJEkRcziJSMOk7\n",
       "yCiUPVAqLidDCpAburKCISdhdRcmfBYwdkbiwKZbVQHO1yGHlEF94L8e4BewAqh90FJh9hevFYa6\n",
       "XftgOK1rmEKShMVPSulYbbSfEqUzHG1YiL34yX18om42OaF2iUS5iNrqEgHBwtKpvaSMZiqPGCSW\n",
       "r2Mcj/upLuN0Z6oiX0fryS9CQxeGuteIR42b50rEQ+RJZpJqsIr/TllNO8XT+4/XhpCF0NGTSWxu\n",
       "lYJ4NKVJZ1SlAPgLNYm1rzUT/Ip6Rml2lHIHAUpUj0GltTz4GzEle45flD517JPvWyCa7G7eRU1B\n",
       "PPxqr8VjJ0KVJZ/HSKvFoD24+3RI8ryvZbrl8KyHN3plAvMg6NjWzyZ6eOeVkxYxXIq2PVZA51ll\n",
       "p7M0is5jjptjC++lQJnGiEhauOdYfzYPo4Wrta/93FKybTu6YmkeqYsd905mOBk9DTT07hbQeVsz\n",
       "pspVe5DFBHl6yESLao/zjJ6REnQ886tLRgPr71rekcfG6n4zy+l1U9qPCGfYeciH0sa7a9/holND\n",
       "d4xFgW38/YC4kHJU0ISzjjwfUkFSz/nfCMAsZvbmScguQP0UpAVi+YTBb3MKam9c5DALPk+T33+e\n",
       "3aCVeybmx3Gmep+kzk7PR6ocG8xK+obllP5xVQp0276RLZbwerrnU2j+OlcV81Qc1OeaT2QErdvo\n",
       "UYLvl7yHJ/6TCTcp9TlI7e3qcejV9sRjJPIAO9UFcGwv4yo8xQx1DJXq8AITVYwDS+/74XAxndB9\n",
       "hiBeVTfTA0MO8/VPyZLa95R37a1lg2kQgjnDAo89w+dsEM5ZZfqsCvS1/HstfLlzt09oJNJLyScC\n",
       "nvHjG4GTjq4OoL85rcUjngXYMfGIhit7+Q5pXIe/DDG7FY2BbqbUlme+F1WG7UP7T28KOkjWoLSm\n",
       "rrG1Pf/GEP4pC+BsL5avP4x/wn0hFqKyCnRU0pbABoIjj2NT2D3mf2+ZdlTqAYk+tEKA6QB4HWht\n",
       "22POgp1LXKsSqXuKlTLpw4bOKOjTBBdvbkcu2I7OCrYUiS7jYfQZ8MmAoXw59uIIA7LgJxOA4P2N\n",
       "RO3ois0JGJ/y9CvWjUbXJXjyemB7qgED6H7oE2fOL77d1+MAr9AwPOTqEY3tGSuDussBNl27WypQ\n",
       "VcGE37ITFuaP/Fz5uVeHGQscnlg2NHp9DjQNsFu2ApsC0n6wTSlt07dioNeMhBTu0TOkhkR/C+u0\n",
       "rwZ7v3yI4P9P6kxuzPHiS4XIHAQo+SFDwbICRk619bNxuHxBoudRRtzPKfAZE7nIXiBozeCdNRJM\n",
       "8CRBSEzZRDfqcNCBj5JTN+oiFdTYPTmJ4pgiTFU47ehV4Rn3jno69hY5/oa/3nZxLeAy0+1cA3Is\n",
       "wkywXxusXdxq8iYMJe5D7mlHx400CyhFP4unWzppms538IH8ZpyX4WXgc078bzDOtYBmzPr+EHKo\n",
       "2WvA1c1P8sZ+lViy45XwuYthTTGjC2nSiRhrgsGMCAtl26Z8tV9IfSI7Wdgd6Krng67dqMi3sr/p\n",
       "FGVLs0KA2bvoog6AEmPKyGuQltJJp5nwpTZoBZwRPI5AKiYg+4sty8Dk3Af1HuLW2+B8WhkluKEe\n",
       "4PaddXJnBVecgNyUePGJk0q3zzGU7q4hE323e9W0aq5pzvG0RvOAhain/FWY+jpwpb9RxW2Pf/vQ\n",
       "5E8G7gCoTrvrDaVLWSnESa/3TJbQtpZiWZHSNW5ge2tW8SnqzQjd9TWlOhfw7wFPB4Q4PQvXI9wy\n",
       "ZAKNTFIlp5yFxP4ZRtNPANgsSc4ki57fSTQcPKcupNZvxhEhCBTMW6vklNUYLKHbvkpyF4qio5J9\n",
       "e78Tc1fKTz8QyMbOZe/AZKd5vsjwvOsPqNCG68ArjGlU1YudJgVQOswjjeW/0izfgJP1l7zABbHW\n",
       "R3xmIcA4BeyTYp1qh3OgAMrFL+PDx3+sUx9J0MAkV98R8ge5xRh8K3OLT1vzRae7/i4isfwXPO7k\n",
       "+Rjad0Awx1M/2aRiNtUr2ow29PSDDOYRS5tOEnBC+zq1YNlyenTeIxsarq2Fyh5wAY/3DAYNJgp9\n",
       "nRFPRTzepvlDsNnh+dlHPnrttV8V+4SO6QDmz043n5ivT0uX/h2ukIMumU41vv1BpnOiwqdj9a8J\n",
       "By5J2IFWDyiDEe+PpVdscsQ3rFxDo0qCcuRxhvmH41f9VOIHvxGii2j1n42XYWrwGJMj5+WWCfiK\n",
       "knWk9wfGzVxcwQDCMsIVaQB6AJwB3K1lUHVo8s0M19N2dwlfe/YZb6254QPs64uexzDgzkD9X1sd\n",
       "0vESzFqoGNw5iJsGUahEGthoyvxHcvHZ6Et1+0ZPxQXh9ZA1jC64Q62CA5LW4bV5tmgIMkXppTkj\n",
       "uQs/7F0toXdvnumuinEXGKeZGcmfj+1js5fyRjeLe/JXF0x4gkFGa6GVgh1xKqgTA8irBkS3Hrfk\n",
       "C6rTurzKp5im2nLq0t0pf4+wVn4939O0Uy3gTW+OfUbe8GsYy2fVusx0GWibKrg0unmP6lZUspJy\n",
       "b6OiPFMYZtbTGZKBvlkDXSHCkTZRzeU5Z5nK/4XHyzh51pC3qdM/g52eNJ+y6RPxqdZATKmjmybM\n",
       "Oy6U1P7caAPZI3T5uAnK6Xu8pkFuSBHNq+KPcf5iJxu6YVC1d5zITB0Nv8M9/za3SmbVKdOXT8xx\n",
       "mwA/dl7LA8iVGmocP/rKasD2/JSHHCpTi/x2X6TQ9EipBI4CTl5jQt00ams+1UISTyEnbkoay9jb\n",
       "LgxbvDMXl7zYWqLdYVRIC3j31zJz+SpR6gj2jWzpYIs9DVmJXX+rLkn+1/0AV1QBkm0u8W/XgyX2\n",
       "022vJl+qjsKTJEYrE1lfIBesJoF4T/4zaKNEleX8cDp8aBJQPjr3VmSxnkv/cpJCo7u0lbZjOHkV\n",
       "hrv2Rbe7ImI6XUhwtHG8r7JoSxB5cTZ6rPFmEobliTyiJNWSwcgNXzbX3gzq9FKXOXdCSPTkL8kt\n",
       "N1a7Iz83CF+v0x57Ar2eL+dHScwuqP8b/k81pxPWD97IKM7RdTqEub+JqYXQz++OQ4pxEVIrheqw\n",
       "Eqxw1WzIrclC+jZZRQgR9g5VRgZFWaBPhwffJhA3CTKKm5DCuzIvsZulLaVwF4/xwp9TxyZ7R9wi\n",
       "HSpTgejMh/1rOzKJ4yxKfGzDToZG6Y7QUTg3qD3esrJcvBhOUX5iWDwARihlssiYFHLtU4znxyVb\n",
       "0VGZcis/bqRtcyPni9DeuoIB5wM29JId5M961HUZ94108w+3z+jTlPbO3gdp+9dn28QdJErlzEmo\n",
       "6N/HINtb8HI44FnDGF1GrAyRY66xWxi0D9oDVWxFFwYdXYMT+FfupVt09ttYuoxLJPOXsWciWBaY\n",
       "TbCj0QuyGC6P2u6to/fAEpjTcY7BHrTQ5rctIXxyI9h3zTt+9BspIZ3+33TQ6Wv0Y26W/GrT9ylf\n",
       "RZgRzSI1EBHU2YDVw3cTD7LJKqflQicmFIAuTas5wasLDbunW9yo3QU/JPp3SocxVLZGvjlUJQFs\n",
       "V7lTgRNwoCIYVHqEYPnZ/cSd7KY0gfsyx9NgVSPuY709EleUf6ejd8tLU9ZcizNweylc9BCrJSQT\n",
       "iAbeoyI9fNqQ36kEXeHeg6PYT22Lfvfb3WR9oe2Xe/2L4/ilYNFt/pIIpi1HpkWH4Gsdos3en824\n",
       "SogcBQYYfkCG92LFOLUkqR6mPTrR05o5MjIaYr3h2DNb48kO+v6AEzrqCszhVFtHR6QvGG+pTN4A\n",
       "Sk2TdnBgiUQGu1f8bKSBxXU+7ZcdINslzKWecoXM2XBacIm8MvfLepM0aJquh/05sDIjCOzkH7TH\n",
       "BDeFTEByM8EVyA75Ohro6X+8PCouCXhv1INnAwrctK9hP2MC38P96CJcrSZNdfft78pEEDR2Gb29\n",
       "vGE4q0PPNjJEhhkPcYk5mTQYulBJKGNuyi1+//Acw/PJ3zMyo8tDJ8RNlkD27LSkH3OOv0JOQKkf\n",
       "Grnr9LZprKTfA/v4IGJh6VMQXEstambZ3lRBu1up/vDC7w4qKZOtgAS/Am+OMYeI8d/aFYbFlQiQ\n",
       "VcDiqh5VKlsU1mwSrE/+K6cnBZcNDkN3eaw3NGP1ORu9Tnb9HDoEL2qLoFxQezFB8YmbEvV/aD3T\n",
       "a5OH9R2koflgIJbby4jabhtNjXq9YuU/i4hVNfPTXT27UyP7G7Ual4N8pM+IIf+q+4pgT0XbCI1z\n",
       "2hjSSQGdQDYIdAwP5T06dK7mlwlVQ3P5rCwzrHYf+T66qdEyUsIYDwb80u6QtdTZHpawna+c3lRS\n",
       "LeHZnYuZSAtpcR07qwAUviaFvUhV9I5hfAdBomfwfkMfbPvLBHxn/CuYm0DqiDoZOrDt84r0pEBg\n",
       "/K+lG6ogX77rbqGqujAik5NNjC/rmZjKqfP+t7y29eT7ToDen+Rbq+7YDWuTn6quVKQOI/fXVWMq\n",
       "TtgcSSQHX1gDvk+Oa2Y57d4tBh95jUmGPbOq0pkW/vZ5wIVW904JnR2a+YSZMna1caleRnGIxWTY\n",
       "pnbAODysVMS36aiaxzt1ryCFK0mMiLG5nWiSeKOGWu35eIE5318+Qk6nxIOw69kiDLrhzUQxY6jQ\n",
       "ScdKiUtwiTZyWl8/EM9sbeDLAGLkwjqQePXroTyWFDZWmQVtzJ0XO0RZbJ/vd0LuGNjyUjx6J9py\n",
       "rBX/08RDwhsbSDxTXnaMhoag0uNKZonotueNfAxw5kRR9hkq95Oar5Pa8bnT0BAXgO401Ou1JnTe\n",
       "xMPlLbqkq1thfPHVgOxWxC4x7m/6tpjl+JGYc4U3r1dJfgR+nT+088PJuLsDLZedMpYCB2IU6PRQ\n",
       "zxTtC3i0HkwkLjpOoXqCnAnshWIAb55TuKLvRGoZTcHqA9mOy1S0Q2pQs3lZh/HYzNcjOhCx4zkO\n",
       "6jskQ8ZUnc2+GPDlauTMdhSHZeUG6W3SUOwsFiP8oPB0uJOLX58EoGFCLISK57Z7B6PDTZjh3f+/\n",
       "/7FHHfY8C0V1TAF+49sh+q3FiR6rLyB6QQAAA0FBnmNqU8FPAAARStbbQ/YrMtlPheBf9ljjZGLm\n",
       "hQz580npB4XnQIEALZDHzqHGOSvuFOvsFlItfKn9OLN9vtRBxQxL83hat0kDXTqvfziCHjxsKkic\n",
       "v4y6SoiVH1ZqulawQBs+roe2zQUwvlb+DgzFvlxtFvRrz0Yts+S2hl7vRR081L3CqLmLKRU19Poi\n",
       "1xlZmE8EML9ePPgZcsSeTPawDr08s9Xygr26X2p6lCA0beRlWpZbNICO0h4g4QfHTeKuyI7GkQ8+\n",
       "E9hI7pxezTjEkSeWVDGg5N1ZQHXWefOd03dux4pdkkKfY3KxM9xBZ23EAwiSY2iP0PMprPZhYDUr\n",
       "3hBOAdMOdEClL2p+Wmp6GEsTYEcGGYYOahKypQyxzIrhsx/9kdTC3dFxXKMBz54KrfmQmxNwBaNc\n",
       "jnM50k20YNIkkaCeZ4QdkCwU6J+AZh0eKYvrpa89WndjyUH/SZ6AlaraKB5kArb3oJa7nota5sdY\n",
       "dZ3rqF9Ur1LbiAeDMiUBoR9fmW4nLaHU6KIDPFEiSEjaGBPAP9zXRNK8ELvs+w5aa6CQjM74dulU\n",
       "oAh9OgQ53d7DbGReDK5Y9ExWhBmi12mubXetHh8m/MY8TUiyOHZGVZ1wgopNBlZvcch3MQZV58Mq\n",
       "HYPGetYeUDhjcRkaPZ+bIKdiJOJc90r+YnBAelgpBsDS8Gk9Ev5QbQq/NsvXXx7vicZ/JW+nP3+x\n",
       "rjTTigqblAVsPeN6gBI7Ew4IEM1+5pc7BYSWZY72U0nI31iocbcNGg0Yut1jQaUcAUUx6P6Ftb8P\n",
       "daIaGi6QaebDysQ7zaooa7k+cXmmgmraxNT+j/nWNQEg1nD1Rpam+KjDrdOXN7CasUFNw1XWmLz6\n",
       "HGmAK1AMbBQYnIZxTmmYHbeIZVsktwQezkoCyDHPFJhYqkd7juFPhZFqJQly4xeHQ/+263Gtnl5t\n",
       "DJ5vCuBwJA8YlGVZV5zVOj+ohsQPJwuL/V1CI4Tv8yi8AmdNx9dm0sZXvRakmnX70pa9tyTELM0+\n",
       "b9SNBX/yOcA0afzOdhkml9bKgtR1jSINzrkNgceLo6KmCUAFfwQmxPT4IeEFzYlhKFzRGCFVWPfz\n",
       "CML/sAAYEAAAAGABnoJ0QS8AAAMDiJ8igthZDeOpJoFIKSzNiYP32YaO7PqsVYVlQd6XXNsVps5/\n",
       "YRgmgw3iVzmkqbqIFrjNXN4ns2+bkqYABL82rnFXZqod2vE6GzXjRTsSICk/6rigPSEAAABoAZ6E\n",
       "akEvAAAHlcmJ55RjWdKz8uCaibbbnSxPDStDppuSbvlrLgVLRLPBpQDANldJOQ4mpZ3xn1XLDrmz\n",
       "JPApUsrs9danqAyWn5tvpEmKcXNOjnSfAI9VzsTQAhezwEkiyEyHhQ7AOOEAABmmQZqJSahBaJlM\n",
       "CCX//rUqgAARnmH1jd1t2vACMt4aOBrWCasY/L6dmZCuAXjdY1VzRW7nGa1irM57VFJxqhMpZwTw\n",
       "127ViM56cutM8AGbG3e2lyX89kcP7G6mJlsbLuinH1u6kIujiHLQTHuJiU5bZJ0+1dWxE3FQRe63\n",
       "7JdokBsh9MqTYyt3Z9FdEfXoXhZH4YHlG46MGJmnQP4heys4GpFipfie3HiCkeO2y2FBlVE3Zt3e\n",
       "I7BUosoudzPG7sOD6mkaSuc57fkni9bpGPydM+YIncqBznNHVqebujEUev6f5u+VP7Q1GxHLp9Hv\n",
       "pEV+hbKhEzcncDQ/EA/iyaTHx2L5GV51E3i0D8zWkgvS+75j+NchAlQWdr+v08lvJoaiOpZBOoon\n",
       "pkpsHEN8wrlSrIDdlKmPRyxq6wXCaAY6vncm1sWEJDS2exVQUFiJN+7Q383CJGzp6lu1pmF6nNrs\n",
       "xUDLqmDe1akPHEMxru8EOZHKt786qrOxM3igV4q10Q2afOyorIT9Ntr7GyI1FpBWYsrPsEQB5ZWY\n",
       "NQHFZMd9za6zVeTRTiGiDr5DDryh673pNHuDG3wnP3uWuzb0aVMvQpN1g0OY29U/NL85o9OWUL/y\n",
       "Ex+VbVfLvzca2B+RmCPWLNHOzcF/xe4gWStcz/bmE093F4zYMZ8/Hbickgz810otF+Hays7Uh/R5\n",
       "ktIfCZOdzv0uHp6cCRpzwtsBcF1soKbRwGYza0/4Gfrd7cmLfJUARmR/B6gsoBHuWNI4hvUsulrg\n",
       "POysmY3I28zMDnvMvCktjZ8M2lWdAXQAPJV4CaCn+nfzIdOnfjABq2uiSWRm8nGLny3ifbfdKCwz\n",
       "EBEObU/ME9qd5ubzwpm9dTYtv65qY7Z6nMOxjW+V5AW3/JGM9gEmWmTLvzH42GyCH7keB6UM6+3s\n",
       "Bl8HleSzg2pYf2Mb4elSXq1jKvvnbEb3peWGkeznqPxVn9TPzzbP2NCfHr1ZQHQjXj1HfynSBSCo\n",
       "me79TmTZJjsARMFPHGjK0b/UYOWy1XUdl0zbcck9yqV01H/W/8tF3eiYGkrixhUCdxqfkAZtWmkA\n",
       "IZY8oyVMTKPTFnbR76YW3CLK8zyZpq9bZ92UTewhwtkshMFyI2kiW2e90kvTQJV8VMjUg2W88AC3\n",
       "7WqLExWE99oOJQdEfqYaq1D/XSwsnhkIziT53wO57I9ymGDitGwYB2wj2LDTE7Od7dx1kz7D5qyJ\n",
       "2PL/H7UPZ34U4XUuri3u0puryYmJiRoO6dfD8KvzuYuqfZk9pwIDVKqwA6NnWinKNlGUavGhrjK0\n",
       "I2k1RPKE154uR/Kw0i5ccIyLrmcZTk1c4HyUM6Y4Hmfo6O4PIM8V85GNAr4iFqoX4l78jmvKEK0r\n",
       "LlnW/ss3CSl6Ftv5GiJOCz8cCJFzwrq+3kwETTodI5IeZCndnoL4SA9z8j+USg+UCeYiyo3GrUut\n",
       "ahIEnStL1xwEzJwxeOVL5hLnUbcsX/xkSzr5HFyyzKKBKCabc659IgEuWsThT96hJkMpPBs+t7m/\n",
       "+CG+Y4MBmHZOzuZX+n5EDpTiYoTGcb282XIaFfUr1uLZekXvd9IY8UitPpweMtdlR0Q0b4QZkBxr\n",
       "Gwfpzpj/2cotcfSXcyhpSUk9baPM+YpcLXEDdTCNSOYrSUys1J4Oeeigl5neQcWqWZN9yduLbxtI\n",
       "rsZj1MEgRR08bqDux15DAUj/NHW7jZUTwaPuIpCfXqks6mec27QqQukag4nQTMrXo/YX9CcwonDO\n",
       "OX55LJEfDQBnP9otPceE1J9gwHxxIp3NlTJDyQlRDg06QK7QNaFxbujPsHhEvy0B46fxrCJo01Sk\n",
       "NKyxioBX9c8pWV59f05/fF/2lfZ+5bGzoQXrtjRWjoKZeHWJRr2Efl7QbFcW1zNAMSlpJGi1B+LK\n",
       "kpt4IBTagXyp2iNx6dx8oFwzyujRlvj0K95E2et5Lxrm7x2p3DcIyb9pqLa3Lv6zjQyTE/b28fFl\n",
       "3d3xBaradIXCK300u9btuF/czTq1YL+QOzEIjq3TJppSVcYyCvLiwk0u9Xkcstl8smFBe190U9UB\n",
       "fWKRCGZYWYZoWeQXF/4HR4YMyoq4ZniH2f6AsoNrDO0vOEzlUA7UUW4VVcNT+jcb0tnRViAbS9GU\n",
       "BEs44XCE5vFx1gYrUDZ29RxdlOYgMmqbsDMG3DR6yde+52zhHVHS1L63Igq8akuGt4uDEMI8Amgc\n",
       "89qSlT3sQrgb4c/OTBkyQqBdPuHu581tn7n+R6VemVn0l3VvSccK7Q9n40/KkM8ryAA4/r+sDPmw\n",
       "n25QJWEoNsIXHN40v/2IEb9coD3lD5mRo+hxY8IYQjtIx9cHVMPqompbAVRsg9GmsbMdVJDapDRw\n",
       "cIWZZPvK2YYx9vSuac9nMLAdjRjbVWwjA6VLqjpArZjbMYCV2jx4lNzgs1s6SQeRkAGM1+pZNekj\n",
       "zDOBx24HmpBr/tNgAlfPTID0iP2dgz8YdkfpHz1hr6ylxaHeO1JTZ3uqgJGwU2zM9I2Yf4lKlQhm\n",
       "znGFXI3z2lpImcveAL14ZYrxHFXyFnoKc6eQUgyPLvmo47Z1cCyjPbczk6Fg79gwVFzDlnzaHT7I\n",
       "Y2Bt//PRDaS+fAWBACIfSWj9NjoHL+myAvNP2CPv2eWRh/AVtqR3XkjoaUPPBob9rneA5HJdPL/F\n",
       "VzDaDbfxMZPDh6N1SlpsT/5cm/IW4EyzzNkijhheMQJBUQef7sML7lsodBUw1f12x938F5cx8S2b\n",
       "jDgDWqaif2ljxvNcGSn46H0HI/urZ7P6CTHkGUeJ55pRmbTUDWEKi/9p5H1c2CBaAHVLhmma/Y9x\n",
       "JevuNsiwCuubftsaxIUKWX7j4QPRbPK1z6wNCTg0BVZCoHm6k63ckWE9HsNl3KVU5o95oJK1lsUY\n",
       "xGc+njFGRztuRkolfNxxIBl0LLpFATaH28BChLubKWXlgRADQgtfFvAvqqKLcsMdCwau3TTxr8WK\n",
       "Y6DS70QKmXHBUP0N6VlJDI4mwj7ZgV7DZpeqp41jNyxAq3mf0wIjxPUvjFXfwFD95yAkCOIzLZhd\n",
       "F6X3BULcF3kCgcGZcqQHAKtIUlkLW/0K3dEcafIvHlups4C2fC5Ap1I0XwqKSA7MuoselSHuDHLo\n",
       "y90cVvT2EkUaioMERIppppxO4ehwxpSNP+pQ3tungp0VXyjQRdpvBMAhclONFW4OcNk/oqboqUA8\n",
       "gI1HsJ3I0q78CXR10Xzb/zYpUMzJjBWhijLlX2UE9lXaaSUiTAMYoiR0EmQtCUG0xveBppw3HAIj\n",
       "iR1av/Zx1nJ4GdiajhaCxvhYkRzlg1zZw1BbODys0d+b1OQtby61sNcD+ywk310qFqUueSNjcO0B\n",
       "cor3hYZmetPKF0v76806l3lSipgOI4xjMcihZXTr4dAO2jFNAU/gp86wkQ76FIbU9iVWmPWQZzNe\n",
       "eG62Gub/C9s/x7zcdX4IQedNW9+PbevJ6ym9YgTEAABHixQamazfKLs/6MhFDt1pihGwWtjaLtAN\n",
       "3VHOoC3tFCzeSJ+9nr4m7DjUoekvGNjep9PjvqU9aNXvoJwS6qDpMMMBhvFZ9tjaCYE5X6TXdx+b\n",
       "AyKaQZwoUyVcCq0sEgsbmpQoPmw5MSPSkAf4ZFGsd1y0wVH5JPWkBl5Jpu5C+GftfsgebuebuYIt\n",
       "ZzecI6dihEcY0zY6BN2Q9anMujVXVM6Sr0V5areS+Y3xHycw2TpG4oX2fwABpt18JSb17hWfD1+A\n",
       "egqlmJxDYZRmIfvydREg/dQOnVhF58wAp53Z27+vOcC4aPvPav5ZivXShzBbtwOCZ2jVH/kMjfOG\n",
       "7jLA1x9R37Nd2KrtTxEuhfTcMuIFJYUu5DiGnWwEkJxUiZavytE84/EpCWBftmpKzceR2oWoJLrS\n",
       "71OPMHf94OSkQAb0I18gKbY9iuoSrzx7Z4UXucY9LMKMvy5H/vHDXO3eAAk/ZCBE55nYXLPP3JN6\n",
       "hoYqhWhpRy5yajEAPco4doGBuN+0Tozm91l6yX8mKPoMhNusD8sx0nEWq0VFHRIj6161ipEaPx4y\n",
       "qKHVoEFAM4FOLZh1a0987yiqP8FTxfF6vUYVoLx/QHne0tAu9PNW9a/JWKANyO5ZB9mEixPbGjEd\n",
       "mr6C1lAKCfRLTZ7ak1TKJx/P+Hf7F8G6R4i0uqUX6bbMN2owxj0i6lD4KZ2pF3eCuQ97RzRGE6O0\n",
       "dqykRhEjTvlHY5bawgFMGwNNAhy9O7iPiWT5FKfqc+jvzWXnGpsK/r/78TP0iSoXfyqK3P2J222Y\n",
       "vhf92H19x+sy3eXkWvpI63Kmk2Qd9TG84z8Sfd+bvOg4GoprWyvipPx4eMDLWiRRD2PUuix+qo/F\n",
       "A3MkyolbR6ReBVJrfwWHqVDkobApQ16QK/Oz7omiDoGQ2YHL+os907Zde4o6Tbk6q5jU6JaKKHY/\n",
       "eySc/ZbPnqSCXt+XkwLbJaEn2fwDR8Zq5RtaXa0qg6NppDUN66mCNN0Cuj8Y0Iluy41IvRHm7kfl\n",
       "t1lEi5rgvpwQPFFCO/39fJX8hP++61e18ql+YXV0RSqUBT2K7TBgfSxlYEocStTjBjNFoG17v8QQ\n",
       "RwS1QtsjffagLh0731taCImDF8uClTxUidAq7PFQ3kxo28H7c27XmQpf6bnJ9rMA37fym2iX3Mnu\n",
       "PAIFjSs6hQ8GaU2C+TPaBBh2tV82P89dTEYS/SZJhs8HwPli0Wvz/PXn8i5H77DDa0saaNv/g2XT\n",
       "MK7tGErsdyHFIEycBuZ/yp3qWb024yI7EeJhZWemqaaDgluYolBvPLTwBi9f9rmyiZBt3kCF9tpt\n",
       "R+G+Qx+xuaWUIdxxjOK/y2clvzi8/Z9NNQZdzlPyiKT/viCy1wozuRgWYj6i384h0uywLbU8QDH5\n",
       "Or7sykYpZSvhDPbYvTEVq252oPBZq7ciC6wYYFi+J7lfQ18rCi/M7iLz9aqWkinqwSHrkxjakozq\n",
       "C+mKLbiGyabxPkBP0F9IvrLw/wNGrh8h+m3u/HnbuM5hmOeMmfMsRRV9PXmd7hClM/x1UKQeBuvp\n",
       "L+Qq8muks5LtKzkMN4jYmuqPKjbFa02Azd81VjKyq9z63tLFO4hzglvIBbdMj9T93uX6E2W/SxSv\n",
       "KZ5xTzeOLPiza1sm94wdZETctrsgVYN+9kzCFlnDVlmfDTmNFiwh6KyquLTZ1pXJHc81/DGwRok8\n",
       "/kEgPHisv8ZrmtofxRNDVEZg2ucOp72TQhtno8sRYE1YpzBxk7IA6ODzUl4aEiZC8UDIfYUWK/EV\n",
       "WqvrG0I9cDy1wQRZ2h41J1IPmMfwnh9pggQYsKHXCa6xF2Aykdc+zkAu2b2mLmL0Sqvs9AT2FfJJ\n",
       "KThZ4V/0MtHE4ad+kkWDwE/LG2XTRqjvTaf7ZVffgyBF3HAknc7BliwESW/ypBnXYpKZtIWv3T7H\n",
       "6FoqT/A7iMXimppifSkjrTjh6CTWNHQD9oD6LLC4/wwIstWtyO5Iuy5TplOFzrWSKKg+ddTRgkC2\n",
       "SBGRxGXb7HC4tKBmUPpwA4XqusJ5TwDDgcZTBZrSDRwqGhv1Dt6McXJPKcAq1T33yemvWrW62K4A\n",
       "jlsKnelxKOOCQuz26FIgV5BpPXIwB/BGkXb4rJvXlmv6zBvScsxxIWWJgMJaTGJO8vKj8h9cps2C\n",
       "x+B/SEHMF5ZgKiT1EdBhabYNngNzEih31pleIGv0TIvsDkuzuCqk7k5fflO36WbSx/RJ5N+L/kWA\n",
       "0nt3cp9zr34ln+6q6Lu3FmI8lHfUn51HjDhxFr7foRNHgFU1ruIZeRkmEfk1aqu458NpxtkeyL2Y\n",
       "RO6QKMEumEYim4Rev6QjWOOYCpyUC3/jSF5VgVCLNmj4osfoH8zdkToilGXDnCrXUAQrl8Ernk2O\n",
       "BDs6EVIdkU4zBJEz2oOa37zNf8rO015hNAsvwisOY79g/xnv4DoQk000geOOBcYcSiRvUq/cjr2A\n",
       "0J+yvwQlT+xq9P90Vtdejsocgem/nAp5Xb0iaBVxiyBoCFGUi9zLsLnYmQszoHNE5nPqC8lRs6VD\n",
       "o5T3UZTN1GdbXNDOCXXTwpt9o4Huotk/ECLF2BB3nuxM3/rZZ6gspL/49LXkpb2c1DMj5+lkxsTB\n",
       "mvpd2R6TWfTNDj1VzWpErVmBNtMCgp8kUXpNXVIqVy0pC0azthw6hzj8wjXFHdM7b1NfVBzrqjyE\n",
       "SvFEQvsh8VQTvTieM2yC1JFhQ1dHe1lTcathnNCCV+KECAd7AcIvuRiVf5jkXmhv+oESAym0PGyv\n",
       "plQR/7FxqO2rV9Pv5wCBZL3cpijKJlMz0OlLOpE6Vuc34gwTdbkr8uqGkF4CbLDtFrD48Tsg7sGH\n",
       "meSFR1/NsAIpmdEMM0a2SEjDagzo1SoBHcL019SMLTQATDAqZ2hRhZlAEFylhKJgk1UIB6hRBvto\n",
       "DCuL5QnW+GWoaPmcmC5aKRTaMVtDh+Qg1xc3VTi5ouyyBm3fNtgyyI7x94j7GXHJeMmJpy5EoTch\n",
       "issfspuI5HF/J2NWbgi0bLEtfE1C3Mkfs4V/TwyHMQizX0mtG/qzFZ0dwGrBxIclI13EqSOyXXbL\n",
       "5TmIcHRzNFuZGkgVzkVVkLRfgxCBj5PYfJbXgz15pjcZDlXjKEmUOS+6BnhbDmcPYap35szrm66t\n",
       "2EUapyX+7iYVl103P9xl9m4vIJTF7MdeY2RIEITKKXZ4uHqZXzqoh3CJTcnGSvP07M1syxLWV9DT\n",
       "vsPDHkAuAkhswG4jtTDHpkCxn/dPJePcOrjhw3hH4a3lgYxnk2Y55yGuF66bVPrrXe8Og0d1NPWq\n",
       "tOS3qQnQImC4tGwqJeGkRgA8P8M7ZdxyoZD2wyV64haylSqayjo4DwVdSuICGNe+rJx+yGMA3cQy\n",
       "COusvdIP4tWOlqguK5KPSfTzCQ2gGLD7JbxOBMYRePEACsiJxUcMMTk1Ajtjrs72rM7S+BW2ul6U\n",
       "sJB5xYX28/wOfAsymDulNBXRy7yCB/u5jXEcAi947mq4gQQtzp2XpNwyXCwBHV1Prr5fvPpo43jc\n",
       "/VS9EgYUPTWgL0yRPXizsVjPmnP/ygpdvtKWdCtPe1OsYABosmwmDJ+5H6EvHyhM0VuCeO7UyyKW\n",
       "0QXRbQh/sZebm451d6zixHIDw2pKzt7a4MR3Sf7AwoFzztxEkdpV63oVrzY48d3nBksUv4/12FJf\n",
       "Exd+22qTYIOsquUxcrgyf6iWRvbs33m0ewVNIcgMKHikqR4CLLPp6XBnIFWBjg8SKDbSvULrubbH\n",
       "1J4AHFxhTGepaOfC9HXI+0OWlQNXsD5eyquXhMp8WmINP0rPByQDZX8/nF5/Hhppkcl2RsRSMUbS\n",
       "2OAIZ1tae/Ec/l4gnDdDm/v9yEYOn3YTi34UEDI8esUatkO14W0Q621yQdeGMZDECX+eVNrD3HOw\n",
       "l8YWMvQrX3mNTY5ViYzMoW1sfmuKZ9SlmsKHQYve3rBi7mBPG2C20lqSmL0trlX9CRgAEyD8+/h1\n",
       "hmVzU2K3gNDWFkpMObNriSZxnLvyVNmHtvYEeXNYOl/WY/vyo4WiPIKyPJmck23+2hAfGXLgrKrS\n",
       "+S+2sRmma9w8/gLWBEzgaoZE4BcPkZRfUlbBnIatJlQJwwZ/Z8yKvYLDFa+ifyC3GV8YReBsvhsx\n",
       "jQgOE47rDTrqkcqRoNTDfyJXhBs3dvVf1/mnubia76g7fRQKNx7+1HwVXj+qRvnzQEpqMoLpisws\n",
       "IIhIVNMij2yOTQtOkIAmc3UjEesEIM5FYceiz78CKF5Kde79tryFND/5VySKNmH3vpje4FVMB9ol\n",
       "QqgW0pSLEJbeQb6PS56Khz3UgxtRvYVaPZ2G4PF97FlXq5MIqSYcDkxrOZ9JATd/15UNQSBtTr2t\n",
       "DKng49z4mcPEn/pxtuWcCnb/P9R6hCUcO54ee9geFTcSPLBdOvdoAlZJS/zeHdMQ27Limh9tI4Rp\n",
       "94cwexqHwzIbcg8cT2+D1/b4QudvpodaiaP6Soc/U3/gtyz2SqyktIMqybOf1u+AFgCOZX1Xuz3A\n",
       "1TRF4vZ3g1umLLbcLHsmbhaIhk3e0P6wou/Cu1lPUOaHGjZODjOHGMef+BGrxZNuBmk2wHEMixAN\n",
       "+ara4jUbferHlf1pKnKh6OOyxqYxglN9CHOiFiezeUVz3aUNFJ0mD3rVIXTFDw5jzQYNKLMGEteV\n",
       "BIOSy/8QKZZNvw2eCnqoPgiQvgBS+1QcP4Ndv7/nnd3dP4B4Aq5Lz2vc94n/vURzQ6MDL64BxL70\n",
       "3SH93UPub5rzBMicXMqUiA37gRqG1ObtDo6A1WjAUap7WCXiQzSiE3LPj5QNPy9woV4TNDWo8ANp\n",
       "18YXOaFy9KBrYhVTKuTUggQoplfI59mQXAsa3F6Gf/WrJQtv0fbryLCRxmqqOHRlaVEUIEggcn7t\n",
       "pyqSJV7d2lLdc63N7bJ78qOtlxO2jLWI0NLr3g32cQKYzEJek+wui5du+urX2qulQTuiSVJ/QVwN\n",
       "NUObOGVpKpn6S77jdQFEBHsIjp4uPWYMF6A0bh+0etc/oHuD4eD3DBFY65WX0B3acX+dmh/hOvRr\n",
       "oJXW7Bpv/ufKm3WPu5L1waYFP7Nt3IJ/TJVJYlF64v1MD5bNjGK0Sd8sAUdGGd+XbMAdjoeFeX5U\n",
       "E6Z7epUozXT86nG/dk9+jkH5D81eprs43/1sCYHOOd7G6g7g4rn5KFVOEcEM/f+dgQzNLzBEeL1K\n",
       "esm3z9IGUJV1nQJjfLiub7rQdEJP2WsHQduwJwmm+9nusqunjcE+RazOj/zrrSVPxs6UFbTqfydA\n",
       "UkEAAAhAQZ6nRREsFP8AAAMDIbo+R/FkQqQX850AzA1X1HIABbAGrBJWUt3PYWOAjj7lrHGa5WCN\n",
       "rT05B0Z7sU0//CHXU0eK4oNyj5wD0llhuKobC0vi6+PLSnVwCib9CLgTahpHya5mkYnhXvtoj8nJ\n",
       "sl8X9xfF/D3v06+sE0YaP8En//oCFtZZX0rHeJ6G8SkZDbA6f61yi1qHp2bYFSK6+gmw0JWW1OqH\n",
       "JexNlJHSSSPhx6flQvJIlAnfDcBPPY/MKWYwmpxngWwHv/+Z8EI65arvFLwVSB7u5xGEqUw0fJyq\n",
       "4Oq7gTp68tZ5FnD32SkK0NLya2PabbdZPl+rSPI+YkXxEx/HQzgcQD51INZcsiKNx8P77E00aFox\n",
       "E1j0HJKF8eq/wGOvVr+K4lmWTSP/u/8deDJ90FJL+oUvFG8Po+8urm1gocYmQ83I1hHZsV+rVp0t\n",
       "zURWe8mxjjbdqK2EkJ9Xk5Gcuvkbit46e/ecirr/e2OqZHnReOqfeksg71b1Y33W69+t2K2jQdv4\n",
       "OL4Wt3QpzqKQXiE0WZYJHTypnsUiXdm3T95FjlV2NT+Edfynoodm2zErprPgd6Vj2nCyy7nPJHDn\n",
       "p2uzShgS1GgSqTMXPRzjPHPu1bk4+Aza85q5Lp1DKbezTR5qYrpdg7nDJLSR/UXZmyPsblnw0Toi\n",
       "VU2FrZHFBwzfcmGz1Y/dbHvKvNqZRnfKht97PSksqheH/JzO3oLSoAAcj+pfw29HMkrsEyCgeEfS\n",
       "QPrnb/BMhcUH/zXbzCizxqNXg06geAlExYw4haNSX06ltOVcmJ4q7obQncBrGMmfJqLgERE12ees\n",
       "5F7rKNG7e6WILZ047h0pll64t5hXrILtrNmSqyS28lJVH7h/UIGFy0fQwk2hoIB1QxyXxaGjIrvZ\n",
       "fD/CCPlKV+3DkFmDEq5SXYB1v8pVqlVuV0XPsjkzQZEtuYS85DOjvO7A81LE9YYIz3o7oFRafhHP\n",
       "rDpXkkajfOf1Ujbin4lw7xqTE8s01COlHfuljaVHmNiOpmZ7OJiw7gL+lM0q/J+W5R6aJAw5LQR4\n",
       "7B7Q6uzRlrgDeFlnNfY/UkDM/o1hbnF7Exm4uJalY3qd2wrRjiedfv3RtLYu9/UC/P2qE9AQFGQo\n",
       "2oq7tiZzi2KvQnpwFKPmWPGfK0u/9OGJJT0/7F2nXSMtMnE1oar3ehf4H1RlNM5bHM4rQ1DXzBkA\n",
       "sTJOx6puMm0bzYi+H8SiFSrlLZp/oz6I1d9nOmlGVfzjxPAJW9IEGi/4OLUn2KpsD6KHS5ACKGAA\n",
       "JNsI2QXV91kF2qRpS7vgKHHRgALJ/YhgA/9A1lIa6anNFXQFPiffJ6NV4WN1DU+qA8uRZ9GFb9oo\n",
       "PmtQTYETAPCiJYOcm/IX6+LdkqfOMUO5Bw8yIDwqkrD4VKauA+6OubPGKmQ8AkkNlslLovm9fYzn\n",
       "gLjZE/tE0gwXc0ziuxr5Z8eaWwxPzIYZc1N0Rq/HUM02gPBFtBmdKd5+16eXKAR6zADHRnZ3lhYW\n",
       "RVyTxcWt+XyjZO3wTEHU0TPbUmugm6Bswnax7TRzevuk61TzpkKnJucLfY1NK+9b4sNt14w5JrAz\n",
       "+VTDyVPzlgLuQkJzMCSA+AxTYLuLBen25/ybc69EbQwga4sAlKcvYhLy0wtSgRovDNdbYgJ+bFxH\n",
       "P1nAAc20dwCrjbVBkn6fc17HlY5zInO3ht4ZCb0UEy3cj9B0HJZGgsPx8j2Iz64Nos43FnN1Oc3t\n",
       "g7a0Tekep1OoczegqOCUzNUflfIzgnDyyK20s8U9bNGPTNb5PUYHIED+Z8X2MOOHgTllqKuR5tv2\n",
       "M0X5Z9aT3Xz1IRVQQfoU42nHf4lSJwzKR+ibcV27i/oHeLmQSqCAOl2yDC/Iy7DRIJV1DgRZ51Nt\n",
       "1tqEVkjdE0UdbCUjvc1GkKjckqQgYg0Kn7vcYm+KMT2BiMYn3VZ6JarpGBGthtyuy3ubfr8GVpSn\n",
       "eRtApZztxhsV64D3knfnenfuYM1yvsyMGXuqCyHEtGtLWIuWjA4GjhqaVyX9fAxvmOG/qpw4gK01\n",
       "BzOwpMwnXhjskuknn7L+zMrJDhl5pV0l/4a+NyEpQ+zRQGP+4DAoH9XI5MarkUFw16+0/ZzomngL\n",
       "dI70SukwP/ZnSsa8Y78QO4yPaa/5qKBZw8S8qJXKdB1VrYiQ0Xc1xEZUwaLDIwrur3H2tpUKMHvk\n",
       "uqBKS2BKIUE5ux3fceY8sUZTnVCcm8tgyfD1EyS9tGLsY1ah0IG/MVWER1UgqAnONHeABt2TREKK\n",
       "s7M+GTKoOv1UGKWyoZxhAY/OCf/kZ5SQuU5CeDg9+wxeO3sds27uC99o7MviYn+nw1Bv9AFBKlaT\n",
       "rcbt9CDNjY/F4vsgKy3eMb295HoVZ+QYv9VOb/AD5UfRrO76YAN305UW2MY/ykvy8RWXvjT4eiXX\n",
       "5TrHRaucI/TdauXZzTxuICzYNKcrjFzuterJKHWNSlz9rcVb0Vfj87HdJKReBHsndycakT3Ya1Xl\n",
       "PzqpALsrVKNORIHMza1fdbQJSXCOR6D16t0Jd3zgsBs5jNUEFkz1QosCiqEKUvu8nTl5rYx1fqzB\n",
       "pUtiSstzrQWj7ULxGTrx7FMctjRbMuV9+/Dhpb1J/PfVKOtDQEBt19TnEz8lxsn9jTfQ/Fq7qqfP\n",
       "+KjnFdJZYPdq9OwU/5LS7nSbZJsf1Y9ZN+DOGTfKnMmQARNVnaHLjgQc4HPXtoJKl8NsJkgOKtvx\n",
       "RwK0orNcZ4jvBh3Oh9mRWL281Xu4Z17z/f9XRgUWN/zkK/XMQl517H1upiDDU1im5Ncaeya5HRUu\n",
       "h9O9NbnHADPhAAAAcAGexnRBLwAAAwLVt6V+wMZj5Cmk7a/PMYnK1VkQkM0E58q+Z9kGpGmpyKGr\n",
       "yWqk4kq9EQVE6t+5FhypvV49Ip0s7IuCZwRFznzvd1FTfZgGnfGQlbqsa4Kmty8pj4sg0bREDgos\n",
       "K9TeMDGTMD+aAV8AAACMAZ7IakEvAAAIqT9liNQtzJWeG69lHigtmCBO3s1VpKChEqNNona47fi5\n",
       "El/W4nhfpX3qLUABsk3Zz5O0nxQLG3vpywuvuGvIUUjQPAomss20Rv1tJBGyF6E8IgZs5pNHkDRg\n",
       "WeKG54oR+vFRziVV7FVM1y0TWim+K8ItnaOFBtW5XWmLaLv1VAeCAekAAAOfbW9vdgAAAGxtdmhk\n",
       "AAAAAAAAAAAAAAAAAAAD6AAAE4gAAQAAAQAAAAAAAAAAAAAAAAEAAAAAAAAAAAAAAAAAAAABAAAA\n",
       "AAAAAAAAAAAAAABAAAAAAAAAAAAAAAAAAAAAAAAAAAAAAAAAAAAAAAAAAgAAAsl0cmFrAAAAXHRr\n",
       "aGQAAAADAAAAAAAAAAAAAAABAAAAAAAAE4gAAAAAAAAAAAAAAAAAAAAAAAEAAAAAAAAAAAAAAAAA\n",
       "AAABAAAAAAAAAAAAAAAAAABAAAAABaAAAAGwAAAAAAAkZWR0cwAAABxlbHN0AAAAAAAAAAEAABOI\n",
       "AABAAAABAAAAAAJBbWRpYQAAACBtZGhkAAAAAAAAAAAAAAAAAABAAAABQABVxAAAAAAALWhkbHIA\n",
       "AAAAAAAAAHZpZGUAAAAAAAAAAAAAAABWaWRlb0hhbmRsZXIAAAAB7G1pbmYAAAAUdm1oZAAAAAEA\n",
       "AAAAAAAAAAAAACRkaW5mAAAAHGRyZWYAAAAAAAAAAQAAAAx1cmwgAAAAAQAAAaxzdGJsAAAAtHN0\n",
       "c2QAAAAAAAAAAQAAAKRhdmMxAAAAAAAAAAEAAAAAAAAAAAAAAAAAAAAABaABsABIAAAASAAAAAAA\n",
       "AAABAAAAAAAAAAAAAAAAAAAAAAAAAAAAAAAAAAAAAAAAAAAAGP//AAAAMmF2Y0MBZAAf/+EAGWdk\n",
       "AB+s2UBaDehAAAADAEAAAAMBA8YMZYABAAZo6+PLIsAAAAAcdXVpZGtoQPJfJE/FujmlG88DI/MA\n",
       "AAAAAAAAGHN0dHMAAAAAAAAAAQAAAAoAACAAAAAAFHN0c3MAAAAAAAAAAQAAAAEAAABYY3R0cwAA\n",
       "AAAAAAAJAAAAAgAAQAAAAAABAACgAAAAAAEAAEAAAAAAAQAAAAAAAAABAAAgAAAAAAEAAKAAAAAA\n",
       "AQAAQAAAAAABAAAAAAAAAAEAACAAAAAAHHN0c2MAAAAAAAAAAQAAAAEAAAAKAAAAAQAAADxzdHN6\n",
       "AAAAAAAAAAAAAAAKAAAePgAAUvAAAB3qAAADRQAAAGQAAABsAAAZqgAACEQAAAB0AAAAkAAAABRz\n",
       "dGNvAAAAAAAAAAEAAAAsAAAAYnVkdGEAAABabWV0YQAAAAAAAAAhaGRscgAAAAAAAAAAbWRpcmFw\n",
       "cGwAAAAAAAAAAAAAAAAtaWxzdAAAACWpdG9vAAAAHWRhdGEAAAABAAAAAExhdmY1Ni40MC4xMDE=\n",
       "\">\n",
       "  Your browser does not support the video tag.\n",
       "</video>"
      ],
      "text/plain": [
       "<IPython.core.display.HTML object>"
      ]
     },
     "execution_count": 51,
     "metadata": {},
     "output_type": "execute_result"
    },
    {
     "data": {
      "image/png": "[encoded data removed]",
      "text/plain": [
       "<matplotlib.figure.Figure at 0x7efd58406dd8>"
      ]
     },
     "metadata": {},
     "output_type": "display_data"
    }
   ],
   "source": [
    "anim = plot()\n",
    "HTML(anim.to_html5_video())"
   ]
  },
  {
   "cell_type": "code",
   "execution_count": 52,
   "metadata": {
    "ExecuteTime": {
     "end_time": "2018-04-18T15:11:46.223979Z",
     "start_time": "2018-04-18T15:11:45.851958Z"
    },
    "slideshow": {
     "slide_type": "skip"
    }
   },
   "outputs": [],
   "source": [
    "x = sy.Symbol('x')\n",
    "f = sin(x)\n",
    "\n",
    "def f4(order):  \n",
    "    x_lims = [-10, 10]\n",
    "    x1 = np.linspace(x_lims[0],x_lims[1],800)\n",
    "    plt.plot(x1,np.sin(x1),label='sin of x')\n",
    "    y1 = []\n",
    "    func = taylor(f,0,order)\n",
    "    for k in x1:\n",
    "        y1.append(func.subs(x,k))\n",
    "    plt.plot(x1,y1,label='order '+str(order))\n",
    "    plt.xlim(x_lims)\n",
    "    plt.ylim([-5,5])\n",
    "    plt.legend()\n",
    "    plt.grid(True)\n",
    "    plt.title('Taylor series approximation')\n",
    "    plt.show()"
   ]
  },
  {
   "cell_type": "code",
   "execution_count": 53,
   "metadata": {
    "slideshow": {
     "slide_type": "subslide"
    }
   },
   "outputs": [
    {
     "data": {
      "application/vnd.jupyter.widget-view+json": {
       "model_id": "7f0dc98059a34be6884f6139b1746bba",
       "version_major": 2,
       "version_minor": 0
      },
      "text/html": [
       "<p>Failed to display Jupyter Widget of type <code>interactive</code>.</p>\n",
       "<p>\n",
       "  If you're reading this message in the Jupyter Notebook or JupyterLab Notebook, it may mean\n",
       "  that the widgets JavaScript is still loading. If this message persists, it\n",
       "  likely means that the widgets JavaScript library is either not installed or\n",
       "  not enabled. See the <a href=\"https://ipywidgets.readthedocs.io/en/stable/user_install.html\">Jupyter\n",
       "  Widgets Documentation</a> for setup instructions.\n",
       "</p>\n",
       "<p>\n",
       "  If you're reading this message in another frontend (for example, a static\n",
       "  rendering on GitHub or <a href=\"https://nbviewer.jupyter.org/\">NBViewer</a>),\n",
       "  it may mean that your frontend doesn't currently support widgets.\n",
       "</p>\n"
      ],
      "text/plain": [
       "interactive(children=(IntSlider(value=1, description='order', layout=Layout(width='99%'), max=15, min=1, step=2), Output()), _dom_classes=('widget-interact',))"
      ]
     },
     "metadata": {},
     "output_type": "display_data"
    }
   ],
   "source": [
    "interact(f4, order=IntSlider(min=1, max=15, step=2, value=1, layout=Layout(width='99%')),);"
   ]
  },
  {
   "cell_type": "markdown",
   "metadata": {
    "slideshow": {
     "slide_type": "slide"
    }
   },
   "source": [
    "## Estadística e Inteligencia Artificial"
   ]
  },
  {
   "cell_type": "markdown",
   "metadata": {
    "slideshow": {
     "slide_type": "subslide"
    }
   },
   "source": [
    "## Regresión Lineal"
   ]
  },
  {
   "cell_type": "code",
   "execution_count": 54,
   "metadata": {
    "slideshow": {
     "slide_type": "skip"
    }
   },
   "outputs": [],
   "source": [
    "import numpy as np\n",
    "import pandas as pd\n",
    "import os\n",
    "import math\n",
    "import time\n",
    "import datetime\n",
    "from statistics import mean\n",
    "from sklearn import preprocessing, model_selection, svm\n",
    "from sklearn.linear_model import LinearRegression\n",
    "from bqplot import pyplot as bplt\n",
    "\n",
    "%matplotlib inline"
   ]
  },
  {
   "cell_type": "code",
   "execution_count": 85,
   "metadata": {
    "slideshow": {
     "slide_type": "skip"
    }
   },
   "outputs": [],
   "source": [
    "def create_dataset(number, variance, step=2, correlation=1, offset=(0, 1)):\n",
    "    x_off, y_off = offset\n",
    "    xs = np.arange(x_off, number + x_off)\n",
    "    ys = np.arange(y_off, number*step + y_off, step)\n",
    "    if correlation == -1:\n",
    "        ys = ys[::-1]\n",
    "    ys += np.random.randint(-variance, variance, size=number)\n",
    "    return xs, ys\n",
    "\n",
    "def best_fit_slope(xs, ys):\n",
    "    x_mean = xs.mean()\n",
    "    y_mean = ys.mean()\n",
    "    m = ((xs - x_mean) * (ys - y_mean)).sum() / ((xs - x_mean)**2).sum()\n",
    "    b = y_mean - m * x_mean\n",
    "    return m, b\n",
    "\n",
    "def squared_error(y_initial, y_final):\n",
    "    return ((y_initial - y_final) ** 2).sum()\n",
    "\n",
    "def coeff_of_determination(y_initial, y_final):\n",
    "    ser = squared_error(y_initial, y_final)\n",
    "    sem = squared_error(y_initial, y_initial.mean())\n",
    "    return 1 - (ser / sem)\n",
    "\n",
    "def calc_y(x, m=None, b=None):\n",
    "    if None in [m, b]:\n",
    "        m, b = best_fit_slope(xs1, ys1)\n",
    "    return m * x + b\n",
    "\n",
    "def add_point(target):\n",
    "    m, b = best_fit_slope(scat.x, scat.y)\n",
    "    y_hat.x = scat.x\n",
    "    y_hat.y = calc_y(scat.x, m, b)"
   ]
  },
  {
   "cell_type": "code",
   "execution_count": 86,
   "metadata": {
    "slideshow": {
     "slide_type": "skip"
    }
   },
   "outputs": [
    {
     "data": {
      "text/plain": [
       "0.7983413819028395"
      ]
     },
     "execution_count": 86,
     "metadata": {},
     "output_type": "execute_result"
    }
   ],
   "source": [
    "xs1, ys1 = create_dataset(40,20,2, 1, offset=(10,100))\n",
    "coeff_of_determination(ys1, calc_y(xs1))"
   ]
  },
  {
   "cell_type": "code",
   "execution_count": 93,
   "metadata": {
    "slideshow": {
     "slide_type": "subslide"
    }
   },
   "outputs": [
    {
     "name": "stderr",
     "output_type": "stream",
     "text": [
      "/home/ezequiel/anaconda3/lib/python3.6/site-packages/bqplot/pyplot.py:603: FutureWarning: Conversion of the second argument of issubdtype from `str` to `str` is deprecated. In future, it will be treated as `np.str_ == np.dtype(str).type`.\n",
      "  issubdtype(dtype, Scale.scale_types[key].dtype)\n"
     ]
    },
    {
     "data": {
      "application/vnd.jupyter.widget-view+json": {
       "model_id": "e1847a0074814c68a016f477da863bc8",
       "version_major": 2,
       "version_minor": 0
      },
      "text/html": [
       "<p>Failed to display Jupyter Widget of type <code>VBox</code>.</p>\n",
       "<p>\n",
       "  If you're reading this message in the Jupyter Notebook or JupyterLab Notebook, it may mean\n",
       "  that the widgets JavaScript is still loading. If this message persists, it\n",
       "  likely means that the widgets JavaScript library is either not installed or\n",
       "  not enabled. See the <a href=\"https://ipywidgets.readthedocs.io/en/stable/user_install.html\">Jupyter\n",
       "  Widgets Documentation</a> for setup instructions.\n",
       "</p>\n",
       "<p>\n",
       "  If you're reading this message in another frontend (for example, a static\n",
       "  rendering on GitHub or <a href=\"https://nbviewer.jupyter.org/\">NBViewer</a>),\n",
       "  it may mean that your frontend doesn't currently support widgets.\n",
       "</p>\n"
      ],
      "text/plain": [
       "VBox(children=(Figure(animation_duration=500, axes=[Axis(scale=LinearScale()), Axis(orientation='vertical', scale=LinearScale())], fig_margin={'top': 60, 'bottom': 60, 'left': 60, 'right': 60}, layout=Layout(min_width='125px'), marks=[Scatter(colors=['steelblue'], enable_move=True, interactions={'click': 'add'}, scales={'x': LinearScale(), 'y': LinearScale()}, scales_metadata={'x': {'orientation': 'horizontal', 'dimension': 'x'}, 'y': {'orientation': 'vertical', 'dimension': 'y'}, 'color': {'dimension': 'color'}, 'size': {'dimension': 'size'}, 'opacity': {'dimension': 'opacity'}, 'rotation': {'dimension': 'rotation'}, 'skew': {'dimension': 'skew'}}, tooltip_style={'opacity': 0.9}, x=array([10, 11, 12, 13, 14, 15, 16, 17, 18, 19, 20, 21, 22, 23, 24, 25, 26,\n",
       "       27, 28, 29, 30, 31, 32, 33, 34, 35, 36, 37, 38, 39, 40, 41, 42, 43,\n",
       "       44, 45, 46, 47, 48, 49]), y=array([117, 115,  86,  97, 105,  95,  96,  99, 121, 130, 122, 137, 117,\n",
       "       111, 111, 145, 121, 122, 139, 122, 129, 144, 135, 163, 128, 147,\n",
       "       134, 173, 141, 155, 140, 149, 158, 170, 183, 189, 171, 177, 179,\n",
       "       189])), Lines(colors=['#1f77b4', '#ff7f0e', '#2ca02c', '#d62728', '#9467bd', '#8c564b', '#e377c2', '#7f7f7f', '#bcbd22', '#17becf'], interactions={'hover': 'tooltip'}, scales={'x': LinearScale(), 'y': LinearScale()}, scales_metadata={'x': {'orientation': 'horizontal', 'dimension': 'x'}, 'y': {'orientation': 'vertical', 'dimension': 'y'}, 'color': {'dimension': 'color'}}, tooltip_style={'opacity': 0.9}, x=array([10, 11, 12, 13, 14, 15, 16, 17, 18, 19, 20, 21, 22, 23, 24, 25, 26,\n",
       "       27, 28, 29, 30, 31, 32, 33, 34, 35, 36, 37, 38, 39, 40, 41, 42, 43,\n",
       "       44, 45, 46, 47, 48, 49]), y=array([ 94.94512195,  97.07870544,  99.21228893, 101.34587242,\n",
       "       103.47945591, 105.6130394 , 107.74662289, 109.88020638,\n",
       "       112.01378987, 114.14737336, 116.28095685, 118.41454034,\n",
       "       120.54812383, 122.68170732, 124.81529081, 126.9488743 ,\n",
       "       129.08245779, 131.21604128, 133.34962477, 135.48320826,\n",
       "       137.61679174, 139.75037523, 141.88395872, 144.01754221,\n",
       "       146.1511257 , 148.28470919, 150.41829268, 152.55187617,\n",
       "       154.68545966, 156.81904315, 158.95262664, 161.08621013,\n",
       "       163.21979362, 165.35337711, 167.4869606 , 169.62054409,\n",
       "       171.75412758, 173.88771107, 176.02129456, 178.15487805]))], scale_x=LinearScale(allow_padding=False, max=1.0, min=0.0), scale_y=LinearScale(allow_padding=False, max=1.0, min=0.0), title='Regression'), Toolbar(figure=Figure(animation_duration=500, axes=[Axis(scale=LinearScale()), Axis(orientation='vertical', scale=LinearScale())], fig_margin={'top': 60, 'bottom': 60, 'left': 60, 'right': 60}, layout=Layout(min_width='125px'), marks=[Scatter(colors=['steelblue'], enable_move=True, interactions={'click': 'add'}, scales={'x': LinearScale(), 'y': LinearScale()}, scales_metadata={'x': {'orientation': 'horizontal', 'dimension': 'x'}, 'y': {'orientation': 'vertical', 'dimension': 'y'}, 'color': {'dimension': 'color'}, 'size': {'dimension': 'size'}, 'opacity': {'dimension': 'opacity'}, 'rotation': {'dimension': 'rotation'}, 'skew': {'dimension': 'skew'}}, tooltip_style={'opacity': 0.9}, x=array([10, 11, 12, 13, 14, 15, 16, 17, 18, 19, 20, 21, 22, 23, 24, 25, 26,\n",
       "       27, 28, 29, 30, 31, 32, 33, 34, 35, 36, 37, 38, 39, 40, 41, 42, 43,\n",
       "       44, 45, 46, 47, 48, 49]), y=array([117, 115,  86,  97, 105,  95,  96,  99, 121, 130, 122, 137, 117,\n",
       "       111, 111, 145, 121, 122, 139, 122, 129, 144, 135, 163, 128, 147,\n",
       "       134, 173, 141, 155, 140, 149, 158, 170, 183, 189, 171, 177, 179,\n",
       "       189])), Lines(colors=['#1f77b4', '#ff7f0e', '#2ca02c', '#d62728', '#9467bd', '#8c564b', '#e377c2', '#7f7f7f', '#bcbd22', '#17becf'], interactions={'hover': 'tooltip'}, scales={'x': LinearScale(), 'y': LinearScale()}, scales_metadata={'x': {'orientation': 'horizontal', 'dimension': 'x'}, 'y': {'orientation': 'vertical', 'dimension': 'y'}, 'color': {'dimension': 'color'}}, tooltip_style={'opacity': 0.9}, x=array([10, 11, 12, 13, 14, 15, 16, 17, 18, 19, 20, 21, 22, 23, 24, 25, 26,\n",
       "       27, 28, 29, 30, 31, 32, 33, 34, 35, 36, 37, 38, 39, 40, 41, 42, 43,\n",
       "       44, 45, 46, 47, 48, 49]), y=array([ 94.94512195,  97.07870544,  99.21228893, 101.34587242,\n",
       "       103.47945591, 105.6130394 , 107.74662289, 109.88020638,\n",
       "       112.01378987, 114.14737336, 116.28095685, 118.41454034,\n",
       "       120.54812383, 122.68170732, 124.81529081, 126.9488743 ,\n",
       "       129.08245779, 131.21604128, 133.34962477, 135.48320826,\n",
       "       137.61679174, 139.75037523, 141.88395872, 144.01754221,\n",
       "       146.1511257 , 148.28470919, 150.41829268, 152.55187617,\n",
       "       154.68545966, 156.81904315, 158.95262664, 161.08621013,\n",
       "       163.21979362, 165.35337711, 167.4869606 , 169.62054409,\n",
       "       171.75412758, 173.88771107, 176.02129456, 178.15487805]))], scale_x=LinearScale(allow_padding=False, max=1.0, min=0.0), scale_y=LinearScale(allow_padding=False, max=1.0, min=0.0), title='Regression'))))"
      ]
     },
     "metadata": {},
     "output_type": "display_data"
    }
   ],
   "source": [
    "bplt.clear() # BQplot code\n",
    "figure = bplt.figure(title='Regression', animation_duration=500) # BQplot code\n",
    "scat = bplt.scatter(xs1, ys1, enable_move=True, interactions={'click': 'add'} )\n",
    "scat.observe(add_point, names=['x'])\n",
    "y_hat = bplt.plot(xs1, calc_y(xs1))\n",
    "bplt.show()"
   ]
  },
  {
   "cell_type": "markdown",
   "metadata": {
    "slideshow": {
     "slide_type": "subslide"
    }
   },
   "source": [
    "## K Nearest Neigbors"
   ]
  },
  {
   "cell_type": "code",
   "execution_count": 58,
   "metadata": {
    "slideshow": {
     "slide_type": "skip"
    }
   },
   "outputs": [],
   "source": [
    "from collections import Counter"
   ]
  },
  {
   "cell_type": "code",
   "execution_count": 88,
   "metadata": {
    "slideshow": {
     "slide_type": "skip"
    }
   },
   "outputs": [],
   "source": [
    "def euclidean_distance(p1, p2):\n",
    "    dim = len(p1)\n",
    "    radical = sum((c1 - c2)**2 for c1, c2 in zip(p1, p2))\n",
    "    return (radical)**(1/dim)\n",
    "\n",
    "def euclidean_distance_numpy(p1, p2):\n",
    "    p1 = np.array(p1)\n",
    "    p2 = np.array(p2)\n",
    "    dim = len(p1)\n",
    "    return ((p1 - p2)**2).sum()**(1/dim)"
   ]
  },
  {
   "cell_type": "code",
   "execution_count": 89,
   "metadata": {
    "slideshow": {
     "slide_type": "skip"
    }
   },
   "outputs": [],
   "source": [
    "def k_neares_neighbors(data, predict, k=3):\n",
    "    if len(data) >= k:\n",
    "        print('You may change k')\n",
    "    distances = []\n",
    "    for group in data:\n",
    "        for features in data[group]:\n",
    "            distance = np.linalg.norm(np.array(features) - np.array(predict))\n",
    "            distances.append([distance, group])\n",
    "    votes = [i[1] for i in sorted(distances)[:k]]\n",
    "    vote_result = Counter(votes).most_common(1)[0][0]\n",
    "    \n",
    "    return vote_result     "
   ]
  },
  {
   "cell_type": "code",
   "execution_count": 91,
   "metadata": {
    "slideshow": {
     "slide_type": "skip"
    }
   },
   "outputs": [],
   "source": [
    "dataset = {\n",
    "    'black':[[1, 2],[2,3],[3,1]],\n",
    "    'green':[[6,5],[7,7],[8,6]]\n",
    "}\n",
    "\n",
    "def add_point(target):\n",
    "    x, y = scat.x[-1], scat.y[-1]\n",
    "    class_ = k_neares_neighbors(dataset_, [x, y])\n",
    "    dataset_[class_].append([x, y])\n",
    "    bplt.scatter([x], [y], enable_move=True, colors=[class_])"
   ]
  },
  {
   "cell_type": "code",
   "execution_count": 92,
   "metadata": {
    "slideshow": {
     "slide_type": "subslide"
    }
   },
   "outputs": [
    {
     "name": "stderr",
     "output_type": "stream",
     "text": [
      "/home/ezequiel/anaconda3/lib/python3.6/site-packages/bqplot/pyplot.py:603: FutureWarning: Conversion of the second argument of issubdtype from `str` to `str` is deprecated. In future, it will be treated as `np.str_ == np.dtype(str).type`.\n",
      "  issubdtype(dtype, Scale.scale_types[key].dtype)\n"
     ]
    },
    {
     "data": {
      "application/vnd.jupyter.widget-view+json": {
       "model_id": "057614fa597b4abc95934a710c85188a",
       "version_major": 2,
       "version_minor": 0
      },
      "text/html": [
       "<p>Failed to display Jupyter Widget of type <code>VBox</code>.</p>\n",
       "<p>\n",
       "  If you're reading this message in the Jupyter Notebook or JupyterLab Notebook, it may mean\n",
       "  that the widgets JavaScript is still loading. If this message persists, it\n",
       "  likely means that the widgets JavaScript library is either not installed or\n",
       "  not enabled. See the <a href=\"https://ipywidgets.readthedocs.io/en/stable/user_install.html\">Jupyter\n",
       "  Widgets Documentation</a> for setup instructions.\n",
       "</p>\n",
       "<p>\n",
       "  If you're reading this message in another frontend (for example, a static\n",
       "  rendering on GitHub or <a href=\"https://nbviewer.jupyter.org/\">NBViewer</a>),\n",
       "  it may mean that your frontend doesn't currently support widgets.\n",
       "</p>\n"
      ],
      "text/plain": [
       "VBox(children=(Figure(animation_duration=500, axes=[Axis(scale=LinearScale()), Axis(orientation='vertical', scale=LinearScale())], fig_margin={'top': 60, 'bottom': 60, 'left': 60, 'right': 60}, layout=Layout(min_width='125px'), marks=[Scatter(colors=['white'], interactions={'click': 'add'}, scales={'x': LinearScale(), 'y': LinearScale()}, scales_metadata={'x': {'orientation': 'horizontal', 'dimension': 'x'}, 'y': {'orientation': 'vertical', 'dimension': 'y'}, 'color': {'dimension': 'color'}, 'size': {'dimension': 'size'}, 'opacity': {'dimension': 'opacity'}, 'rotation': {'dimension': 'rotation'}, 'skew': {'dimension': 'skew'}}, tooltip_style={'opacity': 0.9}, x=array([0]), y=array([0])), Scatter(colors=['black'], interactions={'hover': 'tooltip'}, scales={'x': LinearScale(), 'y': LinearScale()}, scales_metadata={'x': {'orientation': 'horizontal', 'dimension': 'x'}, 'y': {'orientation': 'vertical', 'dimension': 'y'}, 'color': {'dimension': 'color'}, 'size': {'dimension': 'size'}, 'opacity': {'dimension': 'opacity'}, 'rotation': {'dimension': 'rotation'}, 'skew': {'dimension': 'skew'}}, tooltip_style={'opacity': 0.9}, x=array([1, 2, 3]), y=array([2, 3, 1])), Scatter(colors=['green'], interactions={'hover': 'tooltip'}, scales={'x': LinearScale(), 'y': LinearScale()}, scales_metadata={'x': {'orientation': 'horizontal', 'dimension': 'x'}, 'y': {'orientation': 'vertical', 'dimension': 'y'}, 'color': {'dimension': 'color'}, 'size': {'dimension': 'size'}, 'opacity': {'dimension': 'opacity'}, 'rotation': {'dimension': 'rotation'}, 'skew': {'dimension': 'skew'}}, tooltip_style={'opacity': 0.9}, x=array([6, 7, 8]), y=array([5, 7, 6]))], scale_x=LinearScale(allow_padding=False, max=1.0, min=0.0), scale_y=LinearScale(allow_padding=False, max=1.0, min=0.0), title='K nearest neighbors - Click to add points'), Toolbar(figure=Figure(animation_duration=500, axes=[Axis(scale=LinearScale()), Axis(orientation='vertical', scale=LinearScale())], fig_margin={'top': 60, 'bottom': 60, 'left': 60, 'right': 60}, layout=Layout(min_width='125px'), marks=[Scatter(colors=['white'], interactions={'click': 'add'}, scales={'x': LinearScale(), 'y': LinearScale()}, scales_metadata={'x': {'orientation': 'horizontal', 'dimension': 'x'}, 'y': {'orientation': 'vertical', 'dimension': 'y'}, 'color': {'dimension': 'color'}, 'size': {'dimension': 'size'}, 'opacity': {'dimension': 'opacity'}, 'rotation': {'dimension': 'rotation'}, 'skew': {'dimension': 'skew'}}, tooltip_style={'opacity': 0.9}, x=array([0]), y=array([0])), Scatter(colors=['black'], interactions={'hover': 'tooltip'}, scales={'x': LinearScale(), 'y': LinearScale()}, scales_metadata={'x': {'orientation': 'horizontal', 'dimension': 'x'}, 'y': {'orientation': 'vertical', 'dimension': 'y'}, 'color': {'dimension': 'color'}, 'size': {'dimension': 'size'}, 'opacity': {'dimension': 'opacity'}, 'rotation': {'dimension': 'rotation'}, 'skew': {'dimension': 'skew'}}, tooltip_style={'opacity': 0.9}, x=array([1, 2, 3]), y=array([2, 3, 1])), Scatter(colors=['green'], interactions={'hover': 'tooltip'}, scales={'x': LinearScale(), 'y': LinearScale()}, scales_metadata={'x': {'orientation': 'horizontal', 'dimension': 'x'}, 'y': {'orientation': 'vertical', 'dimension': 'y'}, 'color': {'dimension': 'color'}, 'size': {'dimension': 'size'}, 'opacity': {'dimension': 'opacity'}, 'rotation': {'dimension': 'rotation'}, 'skew': {'dimension': 'skew'}}, tooltip_style={'opacity': 0.9}, x=array([6, 7, 8]), y=array([5, 7, 6]))], scale_x=LinearScale(allow_padding=False, max=1.0, min=0.0), scale_y=LinearScale(allow_padding=False, max=1.0, min=0.0), title='K nearest neighbors - Click to add points'))))"
      ]
     },
     "metadata": {},
     "output_type": "display_data"
    }
   ],
   "source": [
    "bplt.clear() # BQplot code\n",
    "figure = bplt.figure(title='K nearest neighbors - Click to add points', animation_duration=500) # BQplot code\n",
    "dataset_ = dataset.copy()\n",
    "scat = bplt.scatter([0], [0], interactions={'click': 'add'}, colors=['white'])\n",
    "for color in dataset_:\n",
    "    xs, ys = zip(*dataset_[color])\n",
    "    bplt.scatter(xs, ys, colors=[color])\n",
    "scat.observe(add_point, names=['x'])\n",
    "bplt.show()"
   ]
  },
  {
   "cell_type": "markdown",
   "metadata": {
    "slideshow": {
     "slide_type": "slide"
    }
   },
   "source": [
    "## Matemática Superior"
   ]
  },
  {
   "cell_type": "code",
   "execution_count": 63,
   "metadata": {
    "slideshow": {
     "slide_type": "skip"
    }
   },
   "outputs": [],
   "source": [
    "import matplotlib.lines as mlines\n",
    "from matplotlib.collections import LineCollection\n",
    "from scipy.integrate import odeint\n",
    "mpl.rcParams['figure.figsize'] = (20.0, 6.0)"
   ]
  },
  {
   "cell_type": "code",
   "execution_count": 64,
   "metadata": {
    "slideshow": {
     "slide_type": "skip"
    }
   },
   "outputs": [],
   "source": [
    "def main(sueldo_inicial, tasa_ahorro, tasa_gasto_extra, gasto_fijo_diario, dias):\n",
    "    ca = tasa_ahorro * sueldo_inicial\n",
    "    def function(c, t):\n",
    "        if c <= ca:\n",
    "            tasa_salida = 0\n",
    "        else:\n",
    "            tasa_salida = tasa_gasto_extra*(c-ca)\n",
    "        return -gasto_fijo_diario-tasa_salida\n",
    "    t = np.linspace(0,dias,dias*10)\n",
    "    y = odeint(function, sueldo_inicial, t)\n",
    "    \n",
    "    #Graphic details\n",
    "    axes = plt.gca()\n",
    "    axes.set_xlim([0,dias])\n",
    "    axes.set_ylim([0,sueldo_inicial*1.1])\n",
    "    plt.plot((0,dias),(ca,ca), label='Colchon de ahorro')\n",
    "    plt.plot(t,y, label='Capital(t)')\n",
    "    plt.xticks(np.arange(0, dias, 1))\n",
    "    plt.yticks(np.arange(0, sueldo_inicial*1.1, sueldo_inicial/20))\n",
    "    plt.legend(loc='best')\n",
    "    plt.xlabel('Días')\n",
    "    plt.ylabel('Capital $')\n",
    "    plt.grid()\n",
    "    plt.show()"
   ]
  },
  {
   "cell_type": "markdown",
   "metadata": {
    "slideshow": {
     "slide_type": "subslide"
    }
   },
   "source": [
    "## Economía Doméstica"
   ]
  },
  {
   "cell_type": "code",
   "execution_count": 65,
   "metadata": {
    "slideshow": {
     "slide_type": "subslide"
    }
   },
   "outputs": [
    {
     "data": {
      "application/vnd.jupyter.widget-view+json": {
       "model_id": "37ea4a54785248b494462ea3279e753f",
       "version_major": 2,
       "version_minor": 0
      },
      "text/html": [
       "<p>Failed to display Jupyter Widget of type <code>interactive</code>.</p>\n",
       "<p>\n",
       "  If you're reading this message in the Jupyter Notebook or JupyterLab Notebook, it may mean\n",
       "  that the widgets JavaScript is still loading. If this message persists, it\n",
       "  likely means that the widgets JavaScript library is either not installed or\n",
       "  not enabled. See the <a href=\"https://ipywidgets.readthedocs.io/en/stable/user_install.html\">Jupyter\n",
       "  Widgets Documentation</a> for setup instructions.\n",
       "</p>\n",
       "<p>\n",
       "  If you're reading this message in another frontend (for example, a static\n",
       "  rendering on GitHub or <a href=\"https://nbviewer.jupyter.org/\">NBViewer</a>),\n",
       "  it may mean that your frontend doesn't currently support widgets.\n",
       "</p>\n"
      ],
      "text/plain": [
       "interactive(children=(IntSlider(value=15000, description='sueldo_inicial', layout=Layout(width='100%'), max=25000, step=500), FloatSlider(value=0.2, description='tasa_ahorro', layout=Layout(width='100%'), max=1.0, step=0.005), FloatSlider(value=0.3, description='tasa_gasto_extra', layout=Layout(width='100%'), max=1.0, step=0.005), IntSlider(value=100, description='gasto_fijo_diario', layout=Layout(width='100%'), max=1000, min=1), IntSlider(value=30, description='dias', layout=Layout(width='100%'), max=360, min=1), Output()), _dom_classes=('widget-interact',))"
      ]
     },
     "metadata": {},
     "output_type": "display_data"
    }
   ],
   "source": [
    "interact(main, \n",
    "        sueldo_inicial=IntSlider(min=0,max=25000,step=500,value=15000, layout=Layout(width='100%')),\n",
    "        tasa_ahorro=FloatSlider(min=0,max=1,step=0.005,value=0.2, layout=Layout(width='100%')),\n",
    "        tasa_gasto_extra=FloatSlider(min=0,max=1,step=0.005,value=0.3, layout=Layout(width='100%')),\n",
    "        gasto_fijo_diario=IntSlider(min=1,max=1000,step=1,value=100, layout=Layout(width='100%')),\n",
    "        dias=IntSlider(min=1,max=360,step=1,value=30, layout=Layout(width='100%'))\n",
    "        );"
   ]
  },
  {
   "cell_type": "markdown",
   "metadata": {
    "slideshow": {
     "slide_type": "subslide"
    }
   },
   "source": [
    "## Casas y Aires Acondicionados"
   ]
  },
  {
   "cell_type": "code",
   "execution_count": 66,
   "metadata": {
    "scrolled": false,
    "slideshow": {
     "slide_type": "skip"
    }
   },
   "outputs": [],
   "source": [
    "def main(tiempo_promedio_casa, tiempo_promedio_aire, total_casas, dias):\n",
    "    k1 = 1/tiempo_promedio_casa\n",
    "    k2 = 1/tiempo_promedio_aire\n",
    "    def function(s, t):\n",
    "        y, x = s\n",
    "        dydt = [k1*(total_casas-y), k2*(y-x)]\n",
    "        return dydt\n",
    "    \n",
    "    t = np.linspace(0,dias,dias*10)\n",
    "    s0 = [0,0]\n",
    "    sol = odeint(function, s0, t)\n",
    "\n",
    "    #Graphic details\n",
    "    plt.gca().set_xlim([0, dias])\n",
    "    plt.gca().set_ylim([0, total_casas*1.1])\n",
    "    plt.plot(t, sol[:, 0], 'b', label='Casas(t)')\n",
    "    plt.plot(t, sol[:, 1], 'g', label='Aires(t)')\n",
    "    plt.plot((0,dias),(total_casas,total_casas), label='Total casas')\n",
    "    plt.xticks(np.arange(0, dias, 3))\n",
    "    plt.yticks(np.arange(0, total_casas*1.1, total_casas/20))\n",
    "    plt.legend(loc='best')\n",
    "    plt.xlabel('Meses')\n",
    "    plt.ylabel('Unidades')\n",
    "    plt.grid()\n",
    "    \n",
    "    plt.show()"
   ]
  },
  {
   "cell_type": "code",
   "execution_count": 67,
   "metadata": {
    "slideshow": {
     "slide_type": "subslide"
    }
   },
   "outputs": [
    {
     "data": {
      "application/vnd.jupyter.widget-view+json": {
       "model_id": "2813a577cb464beeabbc9b47a5e40d40",
       "version_major": 2,
       "version_minor": 0
      },
      "text/html": [
       "<p>Failed to display Jupyter Widget of type <code>interactive</code>.</p>\n",
       "<p>\n",
       "  If you're reading this message in the Jupyter Notebook or JupyterLab Notebook, it may mean\n",
       "  that the widgets JavaScript is still loading. If this message persists, it\n",
       "  likely means that the widgets JavaScript library is either not installed or\n",
       "  not enabled. See the <a href=\"https://ipywidgets.readthedocs.io/en/stable/user_install.html\">Jupyter\n",
       "  Widgets Documentation</a> for setup instructions.\n",
       "</p>\n",
       "<p>\n",
       "  If you're reading this message in another frontend (for example, a static\n",
       "  rendering on GitHub or <a href=\"https://nbviewer.jupyter.org/\">NBViewer</a>),\n",
       "  it may mean that your frontend doesn't currently support widgets.\n",
       "</p>\n"
      ],
      "text/plain": [
       "interactive(children=(IntSlider(value=5, description='tiempo_promedio_casa', layout=Layout(width='100%'), max=24, min=1), IntSlider(value=10, description='tiempo_promedio_aire', layout=Layout(width='100%'), max=24, min=1), IntSlider(value=1000, description='total_casas', layout=Layout(width='100%'), max=10000, min=1, step=100), IntSlider(value=80, description='dias', layout=Layout(width='100%'), max=360, min=1, step=10), Output()), _dom_classes=('widget-interact',))"
      ]
     },
     "metadata": {},
     "output_type": "display_data"
    }
   ],
   "source": [
    "interact(main,\n",
    "        total_casas=IntSlider(min=1,max=10000,step=100,value=1000, layout=Layout(width='100%')),\n",
    "        tiempo_promedio_casa=IntSlider(min=1,max=24,step=1,value=5, layout=Layout(width='100%')),\n",
    "        tiempo_promedio_aire=IntSlider(min=1,max=24,step=1,value=10, layout=Layout(width='100%')),\n",
    "        dias=IntSlider(min=1,max=360,step=10,value=80, layout=Layout(width='100%'))\n",
    "        );"
   ]
  },
  {
   "cell_type": "markdown",
   "metadata": {
    "slideshow": {
     "slide_type": "subslide"
    }
   },
   "source": [
    "## Decaimiento Natural"
   ]
  },
  {
   "cell_type": "code",
   "execution_count": 68,
   "metadata": {
    "slideshow": {
     "slide_type": "skip"
    }
   },
   "outputs": [],
   "source": [
    "def main(vida_media, ingesta_mg, ingesta_hs, periodos, horas):\n",
    "    k1 = np.log(2)/vida_media\n",
    "    \n",
    "    def function(y, t):\n",
    "        return -k1*y # y(t)\n",
    "    \n",
    "    sf = ingesta_hs\n",
    "    s0 = ingesta_mg\n",
    "    ts = []\n",
    "    sols = []\n",
    "    periodoActual = 0\n",
    "    while periodoActual < periodos-1:\n",
    "        t = np.arange(sf - ingesta_hs, sf, 0.0001)\n",
    "        sol = odeint(function, s0, t)\n",
    "        ts.extend(t)\n",
    "        sols.extend(sol)\n",
    "        sf += ingesta_hs\n",
    "        s0 = sol[-1] + ingesta_mg\n",
    "        periodoActual += 1\n",
    "    t = np.arange(sf - ingesta_hs, sf + 4 * ingesta_hs, 0.0001)\n",
    "    sol = odeint(function, s0, t)\n",
    "    ts.extend(t)\n",
    "    sols.extend(sol)\n",
    "    \n",
    "    \n",
    "    plt.plot(ts,sols, 'b', label='Droga en organismo(t)')\n",
    "    \n",
    "    #Graphic details\n",
    "    plt.gca().set_xlim([0, horas])\n",
    "    plt.gca().set_ylim([0, max(sols)*1.05])\n",
    "    plt.xticks(np.arange(0, horas, 1))\n",
    "    plt.yticks(np.arange(0, sol.max()*1.05, 0.0005))\n",
    "    plt.legend(loc='best')\n",
    "    plt.xlabel('Horas')\n",
    "    plt.ylabel('Temp')\n",
    "    plt.grid()\n",
    "    \n",
    "    plt.show()"
   ]
  },
  {
   "cell_type": "code",
   "execution_count": 69,
   "metadata": {
    "slideshow": {
     "slide_type": "subslide"
    }
   },
   "outputs": [
    {
     "data": {
      "application/vnd.jupyter.widget-view+json": {
       "model_id": "c8f3c573468b4a7dbe807e85ee1fdcc5",
       "version_major": 2,
       "version_minor": 0
      },
      "text/html": [
       "<p>Failed to display Jupyter Widget of type <code>interactive</code>.</p>\n",
       "<p>\n",
       "  If you're reading this message in the Jupyter Notebook or JupyterLab Notebook, it may mean\n",
       "  that the widgets JavaScript is still loading. If this message persists, it\n",
       "  likely means that the widgets JavaScript library is either not installed or\n",
       "  not enabled. See the <a href=\"https://ipywidgets.readthedocs.io/en/stable/user_install.html\">Jupyter\n",
       "  Widgets Documentation</a> for setup instructions.\n",
       "</p>\n",
       "<p>\n",
       "  If you're reading this message in another frontend (for example, a static\n",
       "  rendering on GitHub or <a href=\"https://nbviewer.jupyter.org/\">NBViewer</a>),\n",
       "  it may mean that your frontend doesn't currently support widgets.\n",
       "</p>\n"
      ],
      "text/plain": [
       "interactive(children=(FloatSlider(value=3.8, description='vida_media', layout=Layout(width='100%'), max=24.0, step=0.01), FloatSlider(value=0.01, description='ingesta_mg', layout=Layout(width='100%'), max=1.0, step=0.001), FloatSlider(value=6.0, description='ingesta_hs', layout=Layout(width='100%'), max=24.0), IntSlider(value=4, description='periodos', layout=Layout(width='100%'), max=20, min=1), FloatSlider(value=40.0, description='horas', layout=Layout(width='100%'), max=80.0, min=1.0), Output()), _dom_classes=('widget-interact',))"
      ]
     },
     "metadata": {},
     "output_type": "display_data"
    }
   ],
   "source": [
    "interact(main,        \n",
    "        vida_media=FloatSlider(min=0,max=24,step=0.01,value=3.8, layout=Layout(width='100%')),\n",
    "        ingesta_mg=FloatSlider(min=0,max=1,step=0.001,value=0.01, layout=Layout(width='100%')),\n",
    "        ingesta_hs=FloatSlider(min=0,max=24,step=0.1,value=6, layout=Layout(width='100%')),\n",
    "        periodos=IntSlider(min=1,max=20,step=1,value=4, layout=Layout(width='100%')),\n",
    "        horas=FloatSlider(min=1,max=80,step=0.1,value=40, layout=Layout(width='100%'))\n",
    "        );"
   ]
  },
  {
   "cell_type": "markdown",
   "metadata": {
    "slideshow": {
     "slide_type": "subslide"
    }
   },
   "source": [
    "## Zorros y Liebres"
   ]
  },
  {
   "cell_type": "code",
   "execution_count": 70,
   "metadata": {
    "slideshow": {
     "slide_type": "skip"
    }
   },
   "outputs": [],
   "source": [
    "def main(a, b, c, d, dias, liebres_inicial, zorros_inicial):\n",
    "\n",
    "    def function(s, t):\n",
    "        x, y = s\n",
    "        dydt = [\n",
    "            a*x-b*x*y, # x(t) → Liebres\n",
    "            -c*y+d*x*y # y(t) → Zorros\n",
    "        ]\n",
    "        return dydt\n",
    "    \n",
    "    t = np.linspace(0,dias,dias*10)\n",
    "    s0 = [\n",
    "        liebres_inicial, #Liebres\n",
    "        zorros_inicial #Zorros\n",
    "    ]\n",
    "    sol = odeint(function, s0, t)\n",
    "\n",
    "    #Graphic details\n",
    "    plt.plot(t, sol[:, 0], 'b', label='Liebres(t)')\n",
    "    plt.plot(t, sol[:, 1], 'g', label='Zorros(t)')\n",
    "    plt.legend(loc='best')\n",
    "    plt.xlabel('Tiempo')\n",
    "    plt.ylabel('Unidades')\n",
    "    plt.grid()\n",
    "    plt.show()\n",
    "    plt.plot(sol[:, 0], sol[:, 1], 'g', label='Zorros(t)')\n",
    "    plt.legend(loc='best')\n",
    "    plt.xlabel('Liebres')\n",
    "    plt.ylabel('Zorros')\n",
    "    plt.grid()\n",
    "    plt.show()"
   ]
  },
  {
   "cell_type": "code",
   "execution_count": 71,
   "metadata": {
    "slideshow": {
     "slide_type": "subslide"
    }
   },
   "outputs": [
    {
     "data": {
      "application/vnd.jupyter.widget-view+json": {
       "model_id": "028caab52f2b4a4d9c2e208b87ef17c4",
       "version_major": 2,
       "version_minor": 0
      },
      "text/html": [
       "<p>Failed to display Jupyter Widget of type <code>interactive</code>.</p>\n",
       "<p>\n",
       "  If you're reading this message in the Jupyter Notebook or JupyterLab Notebook, it may mean\n",
       "  that the widgets JavaScript is still loading. If this message persists, it\n",
       "  likely means that the widgets JavaScript library is either not installed or\n",
       "  not enabled. See the <a href=\"https://ipywidgets.readthedocs.io/en/stable/user_install.html\">Jupyter\n",
       "  Widgets Documentation</a> for setup instructions.\n",
       "</p>\n",
       "<p>\n",
       "  If you're reading this message in another frontend (for example, a static\n",
       "  rendering on GitHub or <a href=\"https://nbviewer.jupyter.org/\">NBViewer</a>),\n",
       "  it may mean that your frontend doesn't currently support widgets.\n",
       "</p>\n"
      ],
      "text/plain": [
       "interactive(children=(FloatSlider(value=1.0, description='a', layout=Layout(width='100%'), max=24.0, step=0.01), FloatSlider(value=1.0, description='b', layout=Layout(width='100%'), max=24.0, step=0.01), FloatSlider(value=1.0, description='c', layout=Layout(width='100%'), max=24.0, step=0.01), FloatSlider(value=1.0, description='d', layout=Layout(width='100%'), max=24.0, step=0.01), FloatSlider(value=15.0, description='dias', layout=Layout(width='100%'), max=365.0, step=10.0), FloatSlider(value=2.0, description='liebres_inicial', layout=Layout(width='100%'), max=24.0, step=0.01), FloatSlider(value=1.0, description='zorros_inicial', layout=Layout(width='100%'), max=24.0, step=0.01), Output()), _dom_classes=('widget-interact',))"
      ]
     },
     "metadata": {},
     "output_type": "display_data"
    }
   ],
   "source": [
    "interact(main,        \n",
    "        a=FloatSlider(min=0,max=24,step=0.01,value=1, layout=Layout(width='100%')),\n",
    "        b=FloatSlider(min=0,max=24,step=0.01,value=1, layout=Layout(width='100%')),\n",
    "        c=FloatSlider(min=0,max=24,step=0.01,value=1, layout=Layout(width='100%')),\n",
    "        d=FloatSlider(min=0,max=24,step=0.01,value=1, layout=Layout(width='100%')),\n",
    "        liebres_inicial=FloatSlider(min=0,max=24,step=0.01,value=2, layout=Layout(width='100%')),\n",
    "        zorros_inicial=FloatSlider(min=0,max=24,step=0.01,value=1, layout=Layout(width='100%')),\n",
    "        dias=FloatSlider(min=0,max=365,step=10,value=15, layout=Layout(width='100%')),\n",
    "        );"
   ]
  }
 ],
 "metadata": {
  "celltoolbar": "Slideshow",
  "kernelspec": {
   "display_name": "Python 3",
   "language": "python",
   "name": "python3"
  },
  "language_info": {
   "codemirror_mode": {
    "name": "ipython",
    "version": 3
   },
   "file_extension": ".py",
   "mimetype": "text/x-python",
   "name": "python",
   "nbconvert_exporter": "python",
   "pygments_lexer": "ipython3",
   "version": "3.6.4"
  }
 },
 "nbformat": 4,
 "nbformat_minor": 2
}
